{
  "cells": [
    {
      "cell_type": "markdown",
      "metadata": {},
      "source": [
        "# imports"
      ]
    },
    {
      "cell_type": "code",
      "execution_count": 1,
      "metadata": {
        "id": "xx1S5ouvrFCL"
      },
      "outputs": [],
      "source": [
        "# general data analysis package\n",
        "import pandas as pd\n",
        "import numpy as np\n",
        "import matplotlib.pyplot as plt\n",
        "import seaborn as sns\n",
        "\n",
        "# file management package\n",
        "import csv, sys\n",
        "import os\n",
        "import os.path\n",
        "import copy\n",
        "from tqdm.notebook import trange\n",
        "import warnings\n",
        "import pickle\n",
        "\n",
        "# preprocessing onwards\n",
        "from sklearn import preprocessing\n",
        "from sklearn import model_selection\n",
        "from sklearn.model_selection import train_test_split, RepeatedStratifiedKFold, GridSearchCV, KFold\n",
        "from sklearn.feature_selection import f_classif\n",
        "\n",
        "from imblearn.over_sampling import RandomOverSampler, SMOTE, ADASYN\n",
        "from imblearn.under_sampling import RandomUnderSampler, NearMiss\n",
        "from collections import Counter\n",
        "\n",
        "from sklearn import svm\n",
        "from sklearn.preprocessing import MaxAbsScaler, MinMaxScaler, Normalizer, PowerTransformer, QuantileTransformer, RobustScaler, StandardScaler\n",
        "from sklearn.metrics import classification_report, confusion_matrix\n",
        "from sklearn import metrics\n",
        "from sklearn.tree import export_graphviz\n",
        "from sklearn import tree\n",
        "from sklearn.inspection import DecisionBoundaryDisplay\n",
        "from sklearn.decomposition import PCA\n",
        "\n",
        "#from sklearn.exceptions import ConvergenceWarning\n",
        "from sklearn.feature_selection import SelectFromModel, RFECV\n",
        "from sklearn.inspection import permutation_importance"
      ]
    },
    {
      "cell_type": "code",
      "execution_count": 2,
      "metadata": {
        "colab": {
          "base_uri": "https://localhost:8080/",
          "height": 36
        },
        "id": "ASarjd8TrNAn",
        "outputId": "8ad2aee3-44cf-4ef2-c264-30292105bda5"
      },
      "outputs": [
        {
          "data": {
            "text/plain": [
              "'/Users/nadawahyu/Documents/Uni/Master/Forschungspraktikum_2/notebook'"
            ]
          },
          "execution_count": 2,
          "metadata": {},
          "output_type": "execute_result"
        }
      ],
      "source": [
        "pwd"
      ]
    },
    {
      "cell_type": "code",
      "execution_count": 3,
      "metadata": {
        "colab": {
          "base_uri": "https://localhost:8080/"
        },
        "id": "vBJxy6FarHVg",
        "outputId": "bb0d53ee-ab9a-40c5-9257-d236e72b662a"
      },
      "outputs": [
        {
          "name": "stdout",
          "output_type": "stream",
          "text": [
            "/Users/nadawahyu/Documents/Uni/Master/Forschungspraktikum_2/data\n"
          ]
        }
      ],
      "source": [
        "cd ../data"
      ]
    },
    {
      "cell_type": "code",
      "execution_count": 4,
      "metadata": {
        "id": "jJkxUUDtrXdz"
      },
      "outputs": [],
      "source": [
        "#data_da = pd.read_csv('data_allo_desc.csv')\n",
        "#data_db = pd.read_csv('data_binding_desc.csv')\n",
        "\n",
        "#data_fa = pd.read_csv('data_allo_fp.csv')#.drop(['Unnamed: 0'], axis=1)\n",
        "#data_fa = data_fa[data_fa['LigandType']!='none']\n",
        "data_fb = pd.read_csv('data_binding_fp.csv')#.drop(['Unnamed: 0'], axis=1)\n",
        "data_fb = data_fb[data_fb['LigandType']!='none']"
      ]
    },
    {
      "cell_type": "code",
      "execution_count": 7,
      "metadata": {
        "id": "I_Ey7yhRrJ1M"
      },
      "outputs": [],
      "source": [
        "# read pickle\n",
        "#X_train_pa, X_val_pa, X_test_pa, y_train_pa, y_val_pa, y_test_pa, descnm_pa = pd.read_pickle('X_pa.pkl')\n",
        "#X_train_pb, X_val_pb, X_test_pb, y_train_pb, y_val_pb, y_test_pb, descnm_pb = pd.read_pickle('X_pb.pkl')\n",
        "#X_train_sa, X_val_sa, X_test_sa, y_train_sa, y_val_sa, y_test_sa, descnm_sa = pd.read_pickle('X_sa.pkl')\n",
        "#X_train_sb, X_val_sb, X_test_sb, y_train_sb, y_val_sb, y_test_sb, descnm_sb = pd.read_pickle('X_sb.pkl')\n",
        "#X_train_da, X_val_da, X_test_da, y_train_da, y_val_da, y_test_da, descnm_da = pd.read_pickle('X_da.pkl')\n",
        "#X_train_db, X_val_db, X_test_db, y_train_db, y_val_db, y_test_db, descnm_db = pd.read_pickle('X_db.pkl')\n",
        "#X_train_fa, X_val_fa, X_test_fa, y_train_fa, y_val_fa, y_test_fa, descnm_fa = pd.read_pickle('X_fa.pkl')\n",
        "#X_train_fb, X_val_fb, X_test_fb, y_train_fb, y_val_fb, y_test_fb, descnm_fb = pd.read_pickle('X_fb.pkl')"
      ]
    },
    {
      "cell_type": "code",
      "execution_count": null,
      "metadata": {
        "id": "nWWezbnAMFNZ"
      },
      "outputs": [],
      "source": []
    },
    {
      "cell_type": "markdown",
      "metadata": {
        "id": "GpneWlNBra64"
      },
      "source": [
        "# fb"
      ]
    },
    {
      "cell_type": "markdown",
      "metadata": {
        "id": "FKoRTVArrcTC"
      },
      "source": [
        "## internal validation"
      ]
    },
    {
      "cell_type": "code",
      "execution_count": 5,
      "metadata": {
        "id": "s9UeLiD3rU-p"
      },
      "outputs": [],
      "source": [
        "target='LigandType'\n",
        "col_to_drop=['lig_smiles', 'lig_at']\n",
        "test_size=0.2\n",
        "val_size = 0.2\n",
        "random_state=0\n",
        "\n",
        "data = data_fb.copy()\n",
        "data_ = data.copy()\n",
        "\n",
        "# drop duplicate rows\n",
        "data_ = data.drop_duplicates().dropna()\n",
        "\n",
        "# drop cols with 'unnamed'\n",
        "colidx_to_drop = [i for i in data.columns if 'Unnamed' in i]\n",
        "\n",
        "#encode target\n",
        "to_mask = {}\n",
        "\n",
        "for i,j in enumerate(data_[target].unique()):\n",
        "  to_mask.update({j:i})\n",
        "\n",
        "data_ = data_.replace(to_mask)\n",
        "\n",
        "# separate x and y\n",
        "X = data_.loc[:, data_.columns.difference(col_to_drop+[target]+colidx_to_drop)]\n",
        "y = data_[target]\n",
        "\n",
        "# remove features that don't have variation\n",
        "X_out = X.loc[:,X.apply(pd.Series.nunique) != 1]\n",
        "mask = X_out.applymap(lambda x: isinstance(x, (int, float)))\n",
        "X_out2 = X_out.where(mask)\n",
        "X = X_out2.dropna(axis=1)\n",
        "\n",
        "# anova feature selection\n",
        "f_stat, p_val, = f_classif(X, y)\n",
        "\n",
        "# get index which probability is lower than p = 0.05\n",
        "idx = [i for i,j in enumerate(p_val) if j < 0.05]\n",
        "# select column with respective index\n",
        "X = X.iloc[:,idx]\n",
        "\n",
        "# split train-validation and test\n",
        "X_trainval, X_test, y_trainval, y_test = train_test_split(X, y, test_size = test_size, random_state=random_state, stratify=y)\n",
        "# split train and validation\n",
        "X_train, X_val, y_train, y_val = train_test_split(X_trainval, y_trainval, test_size = val_size/(1-val_size), random_state=random_state, stratify=y_trainval)\n",
        "\n",
        "descnm = np.array(X_train.columns)\n",
        "#X_train = np.array(X_train)\n",
        "#X_val = np.array(X_val)\n",
        "#X_test = np.array(X_test)\n",
        "#y_train = np.array(y_train)\n",
        "#y_val = np.array(y_val)\n",
        "#y_test = np.array(y_test)\n"
      ]
    },
    {
      "cell_type": "code",
      "execution_count": 6,
      "metadata": {
        "colab": {
          "base_uri": "https://localhost:8080/"
        },
        "id": "kxJIF9hPrekD",
        "outputId": "df80fe9e-95dd-48d9-d59a-8aa00e5fe243"
      },
      "outputs": [
        {
          "name": "stdout",
          "output_type": "stream",
          "text": [
            "train scores \n",
            "\n",
            "accuracy: 0.245\n",
            "f1: 0.176\n",
            "balanced accuracy: 0.245\n",
            "matthews corrcoeff: 0.065\n",
            "\n",
            "val scores \n",
            "\n",
            "accuracy: 0.041\n",
            "f1: 0.019\n",
            "balanced accuracy: 0.254\n",
            "matthews corrcoeff: 0.024\n"
          ]
        }
      ],
      "source": [
        "#X_train, y_train, X_val, y_val = X_train_da, y_train_da, X_val_da, y_val_da\n",
        "random_state = 0\n",
        "\n",
        "X_train, y_train  = SMOTE(random_state=random_state).fit_resample(X_train, y_train)\n",
        "\n",
        "clf = svm.SVC(random_state=random_state)\n",
        "fit = clf.fit(X_train, y_train)\n",
        "\n",
        "y_pred = fit.predict(X_train)\n",
        "y_val_pred = fit.predict(X_val)\n",
        "\n",
        "# calculate statistical metrics accuracy for training set\n",
        "train_accuracy = metrics.accuracy_score(y_train, y_pred)\n",
        "val_accuracy = metrics.accuracy_score(y_val, y_val_pred)\n",
        "\n",
        "# calculate statistical metrics for training set\n",
        "train_f1 = metrics.f1_score(y_train, y_pred, average = 'weighted')\n",
        "train_ba = metrics.balanced_accuracy_score(y_train, y_pred)\n",
        "train_mcc = metrics.matthews_corrcoef(y_train, y_pred)\n",
        "\n",
        "# calculate statistical metrics for val set\n",
        "val_f1 = metrics.f1_score(y_val, y_val_pred, average = 'weighted')\n",
        "val_ba = metrics.balanced_accuracy_score(y_val, y_val_pred)\n",
        "val_mcc = metrics.matthews_corrcoef(y_val, y_val_pred)\n",
        "\n",
        "print(f'train scores \\n')\n",
        "print(f'accuracy: {train_accuracy:.3f}')\n",
        "print(f'f1: {train_f1:.3f}')\n",
        "print(f'balanced accuracy: {train_ba:.3f}')\n",
        "print(f'matthews corrcoeff: {train_mcc:.3f}')\n",
        "print('')\n",
        "print(f'val scores \\n')\n",
        "print(f'accuracy: {val_accuracy:.3f}')\n",
        "print(f'f1: {val_f1:.3f}')\n",
        "print(f'balanced accuracy: {val_ba:.3f}')\n",
        "print(f'matthews corrcoeff: {val_mcc:.3f}')"
      ]
    },
    {
      "cell_type": "code",
      "execution_count": 7,
      "metadata": {
        "colab": {
          "base_uri": "https://localhost:8080/"
        },
        "id": "xxs1c8YyrgIM",
        "outputId": "0d1d214c-b437-42cb-93e9-9c8cf0d08d40"
      },
      "outputs": [
        {
          "name": "stdout",
          "output_type": "stream",
          "text": [
            "              precision    recall  f1-score   support\n",
            "\n",
            "           0       0.29      0.55      0.38      2098\n",
            "           1       0.50      0.01      0.01      2098\n",
            "           2       0.26      0.07      0.11      2098\n",
            "           3       0.09      0.04      0.05      2098\n",
            "           4       0.24      0.57      0.33      2098\n",
            "\n",
            "    accuracy                           0.25     10490\n",
            "   macro avg       0.27      0.25      0.18     10490\n",
            "weighted avg       0.27      0.25      0.18     10490\n",
            "\n",
            "[[1150    5   74  199  670]\n",
            " [ 713   11   87  107 1180]\n",
            " [ 733    0  145  158 1062]\n",
            " [1021    6   57   75  939]\n",
            " [ 400    0  189  317 1192]]\n"
          ]
        }
      ],
      "source": [
        "print(classification_report(y_train, y_pred))\n",
        "print(confusion_matrix(y_train, y_pred))"
      ]
    },
    {
      "cell_type": "code",
      "execution_count": 8,
      "metadata": {
        "colab": {
          "base_uri": "https://localhost:8080/"
        },
        "id": "qC4dH0ZXrhgj",
        "outputId": "0e1ed1ae-5cfa-4753-92e9-6ad062c9936b"
      },
      "outputs": [
        {
          "name": "stdout",
          "output_type": "stream",
          "text": [
            "              precision    recall  f1-score   support\n",
            "\n",
            "           0       0.06      0.64      0.11        28\n",
            "           1       1.00      0.01      0.01       700\n",
            "           2       0.04      0.02      0.02        58\n",
            "           3       0.07      0.07      0.07        41\n",
            "           4       0.02      0.53      0.04        17\n",
            "\n",
            "    accuracy                           0.04       844\n",
            "   macro avg       0.24      0.25      0.05       844\n",
            "weighted avg       0.84      0.04      0.02       844\n",
            "\n",
            "[[ 18   0   0   1   9]\n",
            " [241   4  22  37 396]\n",
            " [ 25   0   1   1  31]\n",
            " [ 21   0   1   3  16]\n",
            " [  6   0   1   1   9]]\n"
          ]
        }
      ],
      "source": [
        "print(classification_report(y_val, y_val_pred))\n",
        "print(confusion_matrix(y_val, y_val_pred))"
      ]
    },
    {
      "cell_type": "markdown",
      "metadata": {
        "id": "UjGMI-sFYSM6"
      },
      "source": [
        "## gridsearchcv C only"
      ]
    },
    {
      "cell_type": "code",
      "execution_count": 11,
      "metadata": {
        "id": "xluh9oG7XC_v"
      },
      "outputs": [],
      "source": [
        "param_grid = {\n",
        "    #'kernel': ['linear', 'poly', 'rbf', 'sigmoid', 'precomputed'],\n",
        "    #'gamma': ['scale', 'auto'],\n",
        "    #'class_weight':[None, 'balanced'],\n",
        "    'C': [100, 10, 1, 0.1, 0.01]\n",
        "}"
      ]
    },
    {
      "cell_type": "code",
      "execution_count": 12,
      "metadata": {
        "id": "BzS0PINHrjTu"
      },
      "outputs": [
        {
          "name": "stdout",
          "output_type": "stream",
          "text": [
            "Fitting 10 folds for each of 5 candidates, totalling 50 fits\n",
            "[CV 1/10] END ............................C=100;, score=0.395 total time= 1.3min\n",
            "[CV 2/10] END ............................C=100;, score=0.377 total time= 1.3min\n",
            "[CV 3/10] END ............................C=100;, score=0.370 total time= 1.3min\n",
            "[CV 4/10] END ............................C=100;, score=0.412 total time= 1.3min\n",
            "[CV 5/10] END ............................C=100;, score=0.381 total time= 1.2min\n",
            "[CV 6/10] END ............................C=100;, score=0.524 total time=  59.7s\n",
            "[CV 7/10] END ............................C=100;, score=0.384 total time= 1.2min\n",
            "[CV 8/10] END ............................C=100;, score=0.399 total time= 1.1min\n",
            "[CV 9/10] END ............................C=100;, score=0.421 total time= 1.1min\n",
            "[CV 10/10] END ...........................C=100;, score=0.383 total time= 1.2min\n",
            "[CV 1/10] END .............................C=10;, score=0.276 total time= 1.2min\n",
            "[CV 2/10] END .............................C=10;, score=0.273 total time= 1.1min\n",
            "[CV 3/10] END .............................C=10;, score=0.273 total time= 1.1min\n",
            "[CV 4/10] END .............................C=10;, score=0.273 total time= 1.3min\n",
            "[CV 5/10] END .............................C=10;, score=0.275 total time= 1.3min\n",
            "[CV 6/10] END .............................C=10;, score=0.435 total time= 1.0min\n",
            "[CV 7/10] END .............................C=10;, score=0.280 total time= 1.2min\n",
            "[CV 8/10] END .............................C=10;, score=0.297 total time= 1.2min\n",
            "[CV 9/10] END .............................C=10;, score=0.300 total time= 1.2min\n",
            "[CV 10/10] END ............................C=10;, score=0.275 total time= 1.1min\n",
            "[CV 1/10] END ..............................C=1;, score=0.242 total time= 1.2min\n",
            "[CV 2/10] END ..............................C=1;, score=0.243 total time= 1.1min\n",
            "[CV 3/10] END ..............................C=1;, score=0.223 total time= 1.2min\n",
            "[CV 4/10] END ..............................C=1;, score=0.234 total time= 1.2min\n",
            "[CV 5/10] END ..............................C=1;, score=0.228 total time= 1.1min\n",
            "[CV 6/10] END ..............................C=1;, score=0.356 total time= 1.1min\n",
            "[CV 7/10] END ..............................C=1;, score=0.242 total time= 1.2min\n",
            "[CV 8/10] END ..............................C=1;, score=0.241 total time= 1.2min\n",
            "[CV 9/10] END ..............................C=1;, score=0.251 total time= 1.1min\n",
            "[CV 10/10] END .............................C=1;, score=0.230 total time= 1.1min\n",
            "[CV 1/10] END ............................C=0.1;, score=0.242 total time= 1.2min\n",
            "[CV 2/10] END ............................C=0.1;, score=0.254 total time= 1.2min\n",
            "[CV 3/10] END ............................C=0.1;, score=0.238 total time= 1.2min\n",
            "[CV 4/10] END ............................C=0.1;, score=0.265 total time= 1.2min\n",
            "[CV 5/10] END ............................C=0.1;, score=0.209 total time= 1.2min\n",
            "[CV 6/10] END ............................C=0.1;, score=0.291 total time= 1.2min\n",
            "[CV 7/10] END ............................C=0.1;, score=0.198 total time= 1.2min\n",
            "[CV 8/10] END ............................C=0.1;, score=0.209 total time= 1.2min\n",
            "[CV 9/10] END ............................C=0.1;, score=0.260 total time= 1.1min\n",
            "[CV 10/10] END ...........................C=0.1;, score=0.235 total time= 1.2min\n",
            "[CV 1/10] END ...........................C=0.01;, score=0.200 total time= 1.2min\n",
            "[CV 2/10] END ...........................C=0.01;, score=0.200 total time= 1.1min\n",
            "[CV 3/10] END ...........................C=0.01;, score=0.200 total time= 1.1min\n",
            "[CV 4/10] END ...........................C=0.01;, score=0.200 total time= 1.2min\n",
            "[CV 5/10] END ...........................C=0.01;, score=0.200 total time= 1.2min\n",
            "[CV 6/10] END ...........................C=0.01;, score=0.248 total time= 1.2min\n",
            "[CV 7/10] END ...........................C=0.01;, score=0.200 total time= 1.2min\n",
            "[CV 8/10] END ...........................C=0.01;, score=0.200 total time= 1.2min\n",
            "[CV 9/10] END ...........................C=0.01;, score=0.200 total time= 1.2min\n",
            "[CV 10/10] END ..........................C=0.01;, score=0.200 total time= 1.1min\n",
            "\n",
            "{'C': 100}\n",
            "SVC(C=100, random_state=0)\n"
          ]
        }
      ],
      "source": [
        "clf = svm.SVC(random_state=random_state)\n",
        "CV_rfc = GridSearchCV(estimator=clf,\n",
        "                      param_grid=param_grid,\n",
        "                      cv= 10,\n",
        "                      scoring='balanced_accuracy',\n",
        "                      verbose=3)\n",
        "CV_rfc.fit(X_train, y_train)\n",
        "\n",
        "print('')\n",
        "print(CV_rfc.best_params_)\n",
        "print(CV_rfc.best_estimator_)"
      ]
    },
    {
      "cell_type": "code",
      "execution_count": 15,
      "metadata": {
        "colab": {
          "base_uri": "https://localhost:8080/"
        },
        "id": "7SzrDNIDstSG",
        "outputId": "8199653a-b15d-42a5-8a98-773a99f02b90"
      },
      "outputs": [
        {
          "name": "stdout",
          "output_type": "stream",
          "text": [
            "train scores \n",
            "\n",
            "accuracy: 0.408\n",
            "f1: 0.387\n",
            "balanced accuracy: 0.408\n",
            "matthews corrcoeff: 0.269\n",
            "\n",
            "val scores \n",
            "\n",
            "accuracy: 0.171\n",
            "f1: 0.229\n",
            "balanced accuracy: 0.283\n",
            "matthews corrcoeff: 0.053\n"
          ]
        }
      ],
      "source": [
        "clf = svm.SVC(C=100, random_state=random_state)\n",
        "fit = clf.fit(X_train, y_train)\n",
        "\n",
        "y_pred = fit.predict(X_train)\n",
        "y_val_pred = fit.predict(X_val)\n",
        "\n",
        "# calculate statistical metrics accuracy for training set\n",
        "train_accuracy = metrics.accuracy_score(y_train, y_pred)\n",
        "val_accuracy = metrics.accuracy_score(y_val, y_val_pred)\n",
        "\n",
        "# calculate statistical metrics for training set\n",
        "train_f1 = metrics.f1_score(y_train, y_pred, average = 'weighted')\n",
        "train_ba = metrics.balanced_accuracy_score(y_train, y_pred)\n",
        "train_mcc = metrics.matthews_corrcoef(y_train, y_pred)\n",
        "\n",
        "# calculate statistical metrics for val set\n",
        "val_f1 = metrics.f1_score(y_val, y_val_pred, average = 'weighted')\n",
        "val_ba = metrics.balanced_accuracy_score(y_val, y_val_pred)\n",
        "val_mcc = metrics.matthews_corrcoef(y_val, y_val_pred)\n",
        "\n",
        "print(f'train scores \\n')\n",
        "print(f'accuracy: {train_accuracy:.3f}')\n",
        "print(f'f1: {train_f1:.3f}')\n",
        "print(f'balanced accuracy: {train_ba:.3f}')\n",
        "print(f'matthews corrcoeff: {train_mcc:.3f}')\n",
        "print('')\n",
        "print(f'val scores \\n')\n",
        "print(f'accuracy: {val_accuracy:.3f}')\n",
        "print(f'f1: {val_f1:.3f}')\n",
        "print(f'balanced accuracy: {val_ba:.3f}')\n",
        "print(f'matthews corrcoeff: {val_mcc:.3f}')"
      ]
    },
    {
      "cell_type": "markdown",
      "metadata": {
        "id": "D-m1rfN8YWWq"
      },
      "source": [
        "## gridsearchcv all"
      ]
    },
    {
      "cell_type": "code",
      "execution_count": 9,
      "metadata": {},
      "outputs": [],
      "source": [
        "param_grid = {\n",
        "    'kernel': ['rbf', 'sigmoid', 'poly', 'linear'],\n",
        "    #'gamma': ['scale', 'auto'],\n",
        "    #'class_weight':[None, 'balanced'],\n",
        "    'C': [1]\n",
        "}"
      ]
    },
    {
      "cell_type": "code",
      "execution_count": 10,
      "metadata": {},
      "outputs": [
        {
          "name": "stdout",
          "output_type": "stream",
          "text": [
            "Fitting 10 folds for each of 4 candidates, totalling 40 fits\n",
            "[CV 1/10] END ..................C=1, kernel=rbf;, score=0.242 total time= 3.5min\n",
            "[CV 2/10] END ..................C=1, kernel=rbf;, score=0.243 total time= 2.5min\n",
            "[CV 3/10] END ..................C=1, kernel=rbf;, score=0.223 total time= 1.7min\n",
            "[CV 4/10] END ..................C=1, kernel=rbf;, score=0.234 total time= 1.4min\n",
            "[CV 5/10] END ..................C=1, kernel=rbf;, score=0.228 total time= 1.4min\n",
            "[CV 6/10] END ..................C=1, kernel=rbf;, score=0.356 total time= 1.3min\n",
            "[CV 7/10] END ..................C=1, kernel=rbf;, score=0.242 total time= 1.3min\n",
            "[CV 8/10] END ..................C=1, kernel=rbf;, score=0.241 total time= 1.2min\n",
            "[CV 9/10] END ..................C=1, kernel=rbf;, score=0.251 total time= 1.4min\n",
            "[CV 10/10] END .................C=1, kernel=rbf;, score=0.230 total time= 1.7min\n",
            "[CV 1/10] END ..............C=1, kernel=sigmoid;, score=0.245 total time= 1.5min\n",
            "[CV 2/10] END ..............C=1, kernel=sigmoid;, score=0.262 total time= 1.3min\n",
            "[CV 3/10] END ..............C=1, kernel=sigmoid;, score=0.231 total time= 1.6min\n",
            "[CV 4/10] END ..............C=1, kernel=sigmoid;, score=0.235 total time= 1.4min\n",
            "[CV 5/10] END ..............C=1, kernel=sigmoid;, score=0.232 total time= 1.3min\n",
            "[CV 6/10] END ..............C=1, kernel=sigmoid;, score=0.222 total time= 1.2min\n",
            "[CV 7/10] END ..............C=1, kernel=sigmoid;, score=0.247 total time= 1.4min\n",
            "[CV 8/10] END ..............C=1, kernel=sigmoid;, score=0.240 total time= 2.3min\n",
            "[CV 9/10] END ..............C=1, kernel=sigmoid;, score=0.242 total time= 3.5min\n",
            "[CV 10/10] END .............C=1, kernel=sigmoid;, score=0.234 total time= 2.8min\n",
            "[CV 1/10] END .................C=1, kernel=poly;, score=0.200 total time= 1.8min\n",
            "[CV 2/10] END .................C=1, kernel=poly;, score=0.200 total time= 1.5min\n",
            "[CV 3/10] END .................C=1, kernel=poly;, score=0.200 total time= 1.4min\n",
            "[CV 4/10] END .................C=1, kernel=poly;, score=0.200 total time= 1.3min\n",
            "[CV 5/10] END .................C=1, kernel=poly;, score=0.200 total time= 1.4min\n",
            "[CV 6/10] END .................C=1, kernel=poly;, score=0.287 total time= 1.5min\n",
            "[CV 7/10] END .................C=1, kernel=poly;, score=0.200 total time= 1.4min\n",
            "[CV 8/10] END .................C=1, kernel=poly;, score=0.200 total time= 1.5min\n",
            "[CV 9/10] END .................C=1, kernel=poly;, score=0.230 total time= 1.3min\n",
            "[CV 10/10] END ................C=1, kernel=poly;, score=0.222 total time= 1.3min\n",
            "[CV 1/10] END ..............C=1, kernel=linear;, score=0.707 total time=258.8min\n",
            "[CV 2/10] END ..............C=1, kernel=linear;, score=0.795 total time=217.8min\n",
            "[CV 3/10] END ..............C=1, kernel=linear;, score=0.796 total time=164.9min\n"
          ]
        }
      ],
      "source": [
        "clf = svm.SVC(random_state=random_state)\n",
        "CV_rfc = GridSearchCV(estimator=clf,\n",
        "                      param_grid=param_grid,\n",
        "                      cv= 10,\n",
        "                      scoring='balanced_accuracy',\n",
        "                      verbose=3)\n",
        "CV_rfc.fit(X_train, y_train)\n",
        "\n",
        "print('')\n",
        "print(CV_rfc.best_params_)\n",
        "print(CV_rfc.best_estimator_)"
      ]
    },
    {
      "cell_type": "markdown",
      "metadata": {},
      "source": [
        "### rbf"
      ]
    },
    {
      "cell_type": "code",
      "execution_count": 16,
      "metadata": {
        "id": "H5Yq9jvxtC-h"
      },
      "outputs": [],
      "source": [
        "param_grid = {\n",
        "    'kernel': ['rbf',],\n",
        "    #'gamma': ['scale', 'auto'],\n",
        "    'class_weight':[None, 'balanced'],\n",
        "    'C': [100, 10, 1, 0.1, 0.01]\n",
        "}"
      ]
    },
    {
      "cell_type": "code",
      "execution_count": 17,
      "metadata": {
        "colab": {
          "base_uri": "https://localhost:8080/"
        },
        "id": "ah5IdC1dZiNj",
        "outputId": "1d98a7e3-1f61-4017-cb26-ce6b1b7313e5"
      },
      "outputs": [
        {
          "name": "stdout",
          "output_type": "stream",
          "text": [
            "Fitting 10 folds for each of 10 candidates, totalling 100 fits\n"
          ]
        },
        {
          "name": "stdout",
          "output_type": "stream",
          "text": [
            "[CV 1/10] END C=100, class_weight=None, kernel=rbf;, score=0.395 total time= 1.2min\n",
            "[CV 2/10] END C=100, class_weight=None, kernel=rbf;, score=0.377 total time= 1.3min\n",
            "[CV 3/10] END C=100, class_weight=None, kernel=rbf;, score=0.370 total time= 1.1min\n",
            "[CV 4/10] END C=100, class_weight=None, kernel=rbf;, score=0.412 total time= 1.1min\n",
            "[CV 5/10] END C=100, class_weight=None, kernel=rbf;, score=0.381 total time= 1.1min\n",
            "[CV 6/10] END C=100, class_weight=None, kernel=rbf;, score=0.524 total time= 1.0min\n",
            "[CV 7/10] END C=100, class_weight=None, kernel=rbf;, score=0.384 total time= 1.2min\n",
            "[CV 8/10] END C=100, class_weight=None, kernel=rbf;, score=0.399 total time= 1.1min\n",
            "[CV 9/10] END C=100, class_weight=None, kernel=rbf;, score=0.421 total time= 1.1min\n",
            "[CV 10/10] END C=100, class_weight=None, kernel=rbf;, score=0.383 total time= 1.2min\n",
            "[CV 1/10] END C=100, class_weight=balanced, kernel=rbf;, score=0.395 total time= 1.3min\n",
            "[CV 2/10] END C=100, class_weight=balanced, kernel=rbf;, score=0.377 total time= 1.2min\n",
            "[CV 3/10] END C=100, class_weight=balanced, kernel=rbf;, score=0.370 total time= 1.1min\n",
            "[CV 4/10] END C=100, class_weight=balanced, kernel=rbf;, score=0.415 total time= 1.2min\n",
            "[CV 5/10] END C=100, class_weight=balanced, kernel=rbf;, score=0.380 total time= 1.2min\n",
            "[CV 6/10] END C=100, class_weight=balanced, kernel=rbf;, score=0.524 total time=  55.5s\n",
            "[CV 7/10] END C=100, class_weight=balanced, kernel=rbf;, score=0.385 total time= 1.1min\n",
            "[CV 8/10] END C=100, class_weight=balanced, kernel=rbf;, score=0.399 total time= 1.1min\n",
            "[CV 9/10] END C=100, class_weight=balanced, kernel=rbf;, score=0.421 total time= 1.2min\n",
            "[CV 10/10] END C=100, class_weight=balanced, kernel=rbf;, score=0.383 total time= 1.1min\n",
            "[CV 1/10] END C=10, class_weight=None, kernel=rbf;, score=0.276 total time=  58.2s\n",
            "[CV 2/10] END C=10, class_weight=None, kernel=rbf;, score=0.273 total time= 1.0min\n",
            "[CV 3/10] END C=10, class_weight=None, kernel=rbf;, score=0.273 total time= 1.0min\n",
            "[CV 4/10] END C=10, class_weight=None, kernel=rbf;, score=0.273 total time= 1.1min\n",
            "[CV 5/10] END C=10, class_weight=None, kernel=rbf;, score=0.275 total time= 1.0min\n",
            "[CV 6/10] END C=10, class_weight=None, kernel=rbf;, score=0.435 total time=  53.0s\n",
            "[CV 7/10] END C=10, class_weight=None, kernel=rbf;, score=0.280 total time= 1.1min\n",
            "[CV 8/10] END C=10, class_weight=None, kernel=rbf;, score=0.297 total time= 1.1min\n",
            "[CV 9/10] END C=10, class_weight=None, kernel=rbf;, score=0.300 total time= 1.2min\n",
            "[CV 10/10] END C=10, class_weight=None, kernel=rbf;, score=0.275 total time= 1.1min\n",
            "[CV 1/10] END C=10, class_weight=balanced, kernel=rbf;, score=0.276 total time= 1.1min\n",
            "[CV 2/10] END C=10, class_weight=balanced, kernel=rbf;, score=0.274 total time= 1.1min\n",
            "[CV 3/10] END C=10, class_weight=balanced, kernel=rbf;, score=0.273 total time= 1.1min\n",
            "[CV 4/10] END C=10, class_weight=balanced, kernel=rbf;, score=0.273 total time= 1.0min\n",
            "[CV 5/10] END C=10, class_weight=balanced, kernel=rbf;, score=0.276 total time= 1.1min\n",
            "[CV 6/10] END C=10, class_weight=balanced, kernel=rbf;, score=0.435 total time= 1.1min\n",
            "[CV 7/10] END C=10, class_weight=balanced, kernel=rbf;, score=0.283 total time= 1.2min\n",
            "[CV 8/10] END C=10, class_weight=balanced, kernel=rbf;, score=0.297 total time= 1.1min\n",
            "[CV 9/10] END C=10, class_weight=balanced, kernel=rbf;, score=0.299 total time= 1.1min\n",
            "[CV 10/10] END C=10, class_weight=balanced, kernel=rbf;, score=0.275 total time= 1.0min\n",
            "[CV 1/10] END C=1, class_weight=None, kernel=rbf;, score=0.242 total time= 1.1min\n",
            "[CV 2/10] END C=1, class_weight=None, kernel=rbf;, score=0.243 total time= 1.1min\n",
            "[CV 3/10] END C=1, class_weight=None, kernel=rbf;, score=0.223 total time= 1.1min\n",
            "[CV 4/10] END C=1, class_weight=None, kernel=rbf;, score=0.234 total time= 1.0min\n",
            "[CV 5/10] END C=1, class_weight=None, kernel=rbf;, score=0.228 total time= 1.2min\n",
            "[CV 6/10] END C=1, class_weight=None, kernel=rbf;, score=0.356 total time= 1.1min\n",
            "[CV 7/10] END C=1, class_weight=None, kernel=rbf;, score=0.242 total time= 1.2min\n",
            "[CV 8/10] END C=1, class_weight=None, kernel=rbf;, score=0.241 total time= 1.1min\n",
            "[CV 9/10] END C=1, class_weight=None, kernel=rbf;, score=0.251 total time= 1.1min\n",
            "[CV 10/10] END C=1, class_weight=None, kernel=rbf;, score=0.230 total time= 1.0min\n",
            "[CV 1/10] END C=1, class_weight=balanced, kernel=rbf;, score=0.242 total time= 1.1min\n",
            "[CV 2/10] END C=1, class_weight=balanced, kernel=rbf;, score=0.243 total time= 1.2min\n",
            "[CV 3/10] END C=1, class_weight=balanced, kernel=rbf;, score=0.223 total time= 1.2min\n",
            "[CV 4/10] END C=1, class_weight=balanced, kernel=rbf;, score=0.236 total time= 1.1min\n",
            "[CV 5/10] END C=1, class_weight=balanced, kernel=rbf;, score=0.228 total time= 1.1min\n",
            "[CV 6/10] END C=1, class_weight=balanced, kernel=rbf;, score=0.356 total time= 1.1min\n",
            "[CV 7/10] END C=1, class_weight=balanced, kernel=rbf;, score=0.242 total time= 1.1min\n",
            "[CV 8/10] END C=1, class_weight=balanced, kernel=rbf;, score=0.241 total time= 1.2min\n",
            "[CV 9/10] END C=1, class_weight=balanced, kernel=rbf;, score=0.251 total time= 1.3min\n",
            "[CV 10/10] END C=1, class_weight=balanced, kernel=rbf;, score=0.230 total time= 1.2min\n",
            "[CV 1/10] END C=0.1, class_weight=None, kernel=rbf;, score=0.242 total time= 1.2min\n",
            "[CV 2/10] END C=0.1, class_weight=None, kernel=rbf;, score=0.254 total time= 1.2min\n",
            "[CV 3/10] END C=0.1, class_weight=None, kernel=rbf;, score=0.238 total time= 1.1min\n",
            "[CV 4/10] END C=0.1, class_weight=None, kernel=rbf;, score=0.265 total time= 1.2min\n",
            "[CV 5/10] END C=0.1, class_weight=None, kernel=rbf;, score=0.209 total time= 1.1min\n",
            "[CV 6/10] END C=0.1, class_weight=None, kernel=rbf;, score=0.291 total time= 1.0min\n",
            "[CV 7/10] END C=0.1, class_weight=None, kernel=rbf;, score=0.198 total time= 1.1min\n",
            "[CV 8/10] END C=0.1, class_weight=None, kernel=rbf;, score=0.209 total time= 1.1min\n",
            "[CV 9/10] END C=0.1, class_weight=None, kernel=rbf;, score=0.260 total time= 1.2min\n",
            "[CV 10/10] END C=0.1, class_weight=None, kernel=rbf;, score=0.235 total time= 1.0min\n",
            "[CV 1/10] END C=0.1, class_weight=balanced, kernel=rbf;, score=0.243 total time= 1.0min\n",
            "[CV 2/10] END C=0.1, class_weight=balanced, kernel=rbf;, score=0.256 total time= 1.2min\n",
            "[CV 3/10] END C=0.1, class_weight=balanced, kernel=rbf;, score=0.236 total time= 1.2min\n",
            "[CV 4/10] END C=0.1, class_weight=balanced, kernel=rbf;, score=0.263 total time= 1.3min\n",
            "[CV 5/10] END C=0.1, class_weight=balanced, kernel=rbf;, score=0.213 total time= 1.2min\n",
            "[CV 6/10] END C=0.1, class_weight=balanced, kernel=rbf;, score=0.291 total time= 1.0min\n",
            "[CV 7/10] END C=0.1, class_weight=balanced, kernel=rbf;, score=0.198 total time= 1.1min\n",
            "[CV 8/10] END C=0.1, class_weight=balanced, kernel=rbf;, score=0.209 total time= 1.2min\n",
            "[CV 9/10] END C=0.1, class_weight=balanced, kernel=rbf;, score=0.260 total time= 1.1min\n",
            "[CV 10/10] END C=0.1, class_weight=balanced, kernel=rbf;, score=0.235 total time= 1.0min\n",
            "[CV 1/10] END C=0.01, class_weight=None, kernel=rbf;, score=0.200 total time= 1.1min\n",
            "[CV 2/10] END C=0.01, class_weight=None, kernel=rbf;, score=0.200 total time= 1.2min\n",
            "[CV 3/10] END C=0.01, class_weight=None, kernel=rbf;, score=0.200 total time= 1.1min\n",
            "[CV 4/10] END C=0.01, class_weight=None, kernel=rbf;, score=0.200 total time= 1.0min\n",
            "[CV 5/10] END C=0.01, class_weight=None, kernel=rbf;, score=0.200 total time= 1.2min\n",
            "[CV 6/10] END C=0.01, class_weight=None, kernel=rbf;, score=0.248 total time= 1.2min\n",
            "[CV 7/10] END C=0.01, class_weight=None, kernel=rbf;, score=0.200 total time= 1.2min\n",
            "[CV 8/10] END C=0.01, class_weight=None, kernel=rbf;, score=0.200 total time= 1.1min\n",
            "[CV 9/10] END C=0.01, class_weight=None, kernel=rbf;, score=0.200 total time= 1.2min\n",
            "[CV 10/10] END C=0.01, class_weight=None, kernel=rbf;, score=0.200 total time= 1.2min\n",
            "[CV 1/10] END C=0.01, class_weight=balanced, kernel=rbf;, score=0.216 total time= 1.1min\n",
            "[CV 2/10] END C=0.01, class_weight=balanced, kernel=rbf;, score=0.226 total time= 1.1min\n",
            "[CV 3/10] END C=0.01, class_weight=balanced, kernel=rbf;, score=0.250 total time= 1.2min\n",
            "[CV 4/10] END C=0.01, class_weight=balanced, kernel=rbf;, score=0.241 total time= 1.2min\n",
            "[CV 5/10] END C=0.01, class_weight=balanced, kernel=rbf;, score=0.247 total time= 1.2min\n",
            "[CV 6/10] END C=0.01, class_weight=balanced, kernel=rbf;, score=0.280 total time= 1.2min\n",
            "[CV 7/10] END C=0.01, class_weight=balanced, kernel=rbf;, score=0.262 total time= 1.1min\n",
            "[CV 8/10] END C=0.01, class_weight=balanced, kernel=rbf;, score=0.261 total time= 1.1min\n",
            "[CV 9/10] END C=0.01, class_weight=balanced, kernel=rbf;, score=0.253 total time= 1.2min\n",
            "[CV 10/10] END C=0.01, class_weight=balanced, kernel=rbf;, score=0.236 total time= 1.2min\n",
            "\n",
            "{'C': 100, 'class_weight': 'balanced', 'kernel': 'rbf'}\n",
            "SVC(C=100, class_weight='balanced', random_state=0)\n"
          ]
        }
      ],
      "source": [
        "clf = svm.SVC(random_state=random_state)\n",
        "CV_rfc = GridSearchCV(estimator=clf,\n",
        "                      param_grid=param_grid,\n",
        "                      cv= 10,\n",
        "                      scoring='balanced_accuracy',\n",
        "                      verbose=3)\n",
        "CV_rfc.fit(X_train, y_train)\n",
        "\n",
        "print('')\n",
        "print(CV_rfc.best_params_)\n",
        "print(CV_rfc.best_estimator_)"
      ]
    },
    {
      "cell_type": "code",
      "execution_count": null,
      "metadata": {
        "colab": {
          "base_uri": "https://localhost:8080/"
        },
        "id": "0JjddrtFYnqr",
        "outputId": "777516b5-31cd-4af1-9f65-2b360f371c87"
      },
      "outputs": [
        {
          "name": "stdout",
          "output_type": "stream",
          "text": [
            "train scores \n",
            "\n",
            "accuracy: 0.705\n",
            "f1: 0.711\n",
            "balanced accuracy: 0.705\n",
            "matthews corrcoeff: 0.411\n",
            "\n",
            "val scores \n",
            "\n",
            "accuracy: 0.674\n",
            "f1: 0.794\n",
            "balanced accuracy: 0.577\n",
            "matthews corrcoeff: 0.096\n"
          ]
        }
      ],
      "source": [
        "clf = svm.SVC(C=100,  random_state=random_state)\n",
        "fit = clf.fit(X_train, y_train)\n",
        "\n",
        "y_pred = fit.predict(X_train)\n",
        "y_val_pred = fit.predict(X_val)\n",
        "\n",
        "# calculate statistical metrics accuracy for training set\n",
        "train_accuracy = metrics.accuracy_score(y_train, y_pred)\n",
        "val_accuracy = metrics.accuracy_score(y_val, y_val_pred)\n",
        "\n",
        "# calculate statistical metrics for training set\n",
        "train_f1 = metrics.f1_score(y_train, y_pred, average = 'binary')\n",
        "train_ba = metrics.balanced_accuracy_score(y_train, y_pred)\n",
        "train_mcc = metrics.matthews_corrcoef(y_train, y_pred)\n",
        "\n",
        "# calculate statistical metrics for val set\n",
        "val_f1 = metrics.f1_score(y_val, y_val_pred, average = 'binary')\n",
        "val_ba = metrics.balanced_accuracy_score(y_val, y_val_pred)\n",
        "val_mcc = metrics.matthews_corrcoef(y_val, y_val_pred)\n",
        "\n",
        "print(f'train scores \\n')\n",
        "print(f'accuracy: {train_accuracy:.3f}')\n",
        "print(f'f1: {train_f1:.3f}')\n",
        "print(f'balanced accuracy: {train_ba:.3f}')\n",
        "print(f'matthews corrcoeff: {train_mcc:.3f}')\n",
        "print('')\n",
        "print(f'val scores \\n')\n",
        "print(f'accuracy: {val_accuracy:.3f}')\n",
        "print(f'f1: {val_f1:.3f}')\n",
        "print(f'balanced accuracy: {val_ba:.3f}')\n",
        "print(f'matthews corrcoeff: {val_mcc:.3f}')"
      ]
    },
    {
      "cell_type": "markdown",
      "metadata": {
        "id": "rga94Zp5BV8M"
      },
      "source": [
        "### poly"
      ]
    },
    {
      "cell_type": "code",
      "execution_count": 18,
      "metadata": {
        "id": "j8LSAFrRBWtX"
      },
      "outputs": [],
      "source": [
        "param_grid = {\n",
        "    'kernel': ['poly',],\n",
        "    #'gamma': ['scale', 'auto'],\n",
        "    'class_weight':[None, 'balanced'],\n",
        "    'C': [100, 10, 1, 0.1, 0.01]\n",
        "}"
      ]
    },
    {
      "cell_type": "code",
      "execution_count": 19,
      "metadata": {
        "colab": {
          "base_uri": "https://localhost:8080/"
        },
        "id": "LZ1ZG7teBWtY",
        "outputId": "b8e174d4-b820-4105-a01d-b3f4117d90a3"
      },
      "outputs": [
        {
          "name": "stdout",
          "output_type": "stream",
          "text": [
            "Fitting 10 folds for each of 10 candidates, totalling 100 fits\n"
          ]
        },
        {
          "name": "stdout",
          "output_type": "stream",
          "text": [
            "[CV 1/10] END C=100, class_weight=None, kernel=poly;, score=0.216 total time= 1.1min\n",
            "[CV 2/10] END C=100, class_weight=None, kernel=poly;, score=0.220 total time= 1.1min\n",
            "[CV 3/10] END C=100, class_weight=None, kernel=poly;, score=0.211 total time= 1.1min\n",
            "[CV 4/10] END C=100, class_weight=None, kernel=poly;, score=0.223 total time= 1.1min\n",
            "[CV 5/10] END C=100, class_weight=None, kernel=poly;, score=0.212 total time= 1.1min\n",
            "[CV 6/10] END C=100, class_weight=None, kernel=poly;, score=0.408 total time=  52.0s\n",
            "[CV 7/10] END C=100, class_weight=None, kernel=poly;, score=0.248 total time= 1.1min\n",
            "[CV 8/10] END C=100, class_weight=None, kernel=poly;, score=0.271 total time= 1.2min\n",
            "[CV 9/10] END C=100, class_weight=None, kernel=poly;, score=0.229 total time= 1.1min\n",
            "[CV 10/10] END C=100, class_weight=None, kernel=poly;, score=0.222 total time= 1.1min\n",
            "[CV 1/10] END C=100, class_weight=balanced, kernel=poly;, score=0.217 total time= 1.1min\n",
            "[CV 2/10] END C=100, class_weight=balanced, kernel=poly;, score=0.220 total time= 1.1min\n",
            "[CV 3/10] END C=100, class_weight=balanced, kernel=poly;, score=0.214 total time= 1.1min\n",
            "[CV 4/10] END C=100, class_weight=balanced, kernel=poly;, score=0.214 total time= 1.1min\n",
            "[CV 5/10] END C=100, class_weight=balanced, kernel=poly;, score=0.223 total time= 1.1min\n",
            "[CV 6/10] END C=100, class_weight=balanced, kernel=poly;, score=0.408 total time=  59.9s\n",
            "[CV 7/10] END C=100, class_weight=balanced, kernel=poly;, score=0.218 total time= 1.2min\n",
            "[CV 8/10] END C=100, class_weight=balanced, kernel=poly;, score=0.222 total time= 1.1min\n",
            "[CV 9/10] END C=100, class_weight=balanced, kernel=poly;, score=0.230 total time= 1.1min\n",
            "[CV 10/10] END C=100, class_weight=balanced, kernel=poly;, score=0.222 total time= 1.1min\n",
            "[CV 1/10] END C=10, class_weight=None, kernel=poly;, score=0.200 total time= 1.1min\n",
            "[CV 2/10] END C=10, class_weight=None, kernel=poly;, score=0.200 total time= 1.1min\n",
            "[CV 3/10] END C=10, class_weight=None, kernel=poly;, score=0.200 total time= 1.0min\n",
            "[CV 4/10] END C=10, class_weight=None, kernel=poly;, score=0.200 total time= 1.2min\n",
            "[CV 5/10] END C=10, class_weight=None, kernel=poly;, score=0.200 total time= 1.1min\n",
            "[CV 6/10] END C=10, class_weight=None, kernel=poly;, score=0.318 total time= 1.1min\n",
            "[CV 7/10] END C=10, class_weight=None, kernel=poly;, score=0.200 total time= 1.1min\n",
            "[CV 8/10] END C=10, class_weight=None, kernel=poly;, score=0.200 total time= 1.1min\n",
            "[CV 9/10] END C=10, class_weight=None, kernel=poly;, score=0.230 total time=  58.6s\n",
            "[CV 10/10] END C=10, class_weight=None, kernel=poly;, score=0.222 total time= 1.1min\n",
            "[CV 1/10] END C=10, class_weight=balanced, kernel=poly;, score=0.200 total time= 1.0min\n",
            "[CV 2/10] END C=10, class_weight=balanced, kernel=poly;, score=0.200 total time=  59.7s\n",
            "[CV 3/10] END C=10, class_weight=balanced, kernel=poly;, score=0.200 total time= 1.0min\n",
            "[CV 4/10] END C=10, class_weight=balanced, kernel=poly;, score=0.200 total time= 1.0min\n",
            "[CV 5/10] END C=10, class_weight=balanced, kernel=poly;, score=0.200 total time= 1.1min\n",
            "[CV 6/10] END C=10, class_weight=balanced, kernel=poly;, score=0.318 total time=  59.8s\n",
            "[CV 7/10] END C=10, class_weight=balanced, kernel=poly;, score=0.200 total time=  59.5s\n",
            "[CV 8/10] END C=10, class_weight=balanced, kernel=poly;, score=0.200 total time=  59.5s\n",
            "[CV 9/10] END C=10, class_weight=balanced, kernel=poly;, score=0.230 total time= 1.0min\n",
            "[CV 10/10] END C=10, class_weight=balanced, kernel=poly;, score=0.222 total time= 1.1min\n",
            "[CV 1/10] END C=1, class_weight=None, kernel=poly;, score=0.200 total time= 1.0min\n",
            "[CV 2/10] END C=1, class_weight=None, kernel=poly;, score=0.200 total time= 1.0min\n",
            "[CV 3/10] END C=1, class_weight=None, kernel=poly;, score=0.200 total time= 1.1min\n",
            "[CV 4/10] END C=1, class_weight=None, kernel=poly;, score=0.200 total time= 1.2min\n",
            "[CV 5/10] END C=1, class_weight=None, kernel=poly;, score=0.200 total time= 1.1min\n",
            "[CV 6/10] END C=1, class_weight=None, kernel=poly;, score=0.287 total time= 1.0min\n",
            "[CV 7/10] END C=1, class_weight=None, kernel=poly;, score=0.200 total time= 1.1min\n",
            "[CV 8/10] END C=1, class_weight=None, kernel=poly;, score=0.200 total time= 1.0min\n",
            "[CV 9/10] END C=1, class_weight=None, kernel=poly;, score=0.230 total time= 1.0min\n",
            "[CV 10/10] END C=1, class_weight=None, kernel=poly;, score=0.222 total time= 1.2min\n",
            "[CV 1/10] END C=1, class_weight=balanced, kernel=poly;, score=0.200 total time= 1.1min\n",
            "[CV 2/10] END C=1, class_weight=balanced, kernel=poly;, score=0.200 total time= 1.0min\n",
            "[CV 3/10] END C=1, class_weight=balanced, kernel=poly;, score=0.200 total time= 1.0min\n",
            "[CV 4/10] END C=1, class_weight=balanced, kernel=poly;, score=0.200 total time= 1.1min\n",
            "[CV 5/10] END C=1, class_weight=balanced, kernel=poly;, score=0.200 total time= 1.1min\n",
            "[CV 6/10] END C=1, class_weight=balanced, kernel=poly;, score=0.287 total time=  57.2s\n",
            "[CV 7/10] END C=1, class_weight=balanced, kernel=poly;, score=0.200 total time= 1.1min\n",
            "[CV 8/10] END C=1, class_weight=balanced, kernel=poly;, score=0.200 total time= 1.2min\n",
            "[CV 9/10] END C=1, class_weight=balanced, kernel=poly;, score=0.230 total time= 1.1min\n",
            "[CV 10/10] END C=1, class_weight=balanced, kernel=poly;, score=0.222 total time= 1.1min\n",
            "[CV 1/10] END C=0.1, class_weight=None, kernel=poly;, score=0.200 total time=  56.8s\n",
            "[CV 2/10] END C=0.1, class_weight=None, kernel=poly;, score=0.200 total time=  58.7s\n",
            "[CV 3/10] END C=0.1, class_weight=None, kernel=poly;, score=0.200 total time= 1.0min\n",
            "[CV 4/10] END C=0.1, class_weight=None, kernel=poly;, score=0.200 total time= 1.1min\n",
            "[CV 5/10] END C=0.1, class_weight=None, kernel=poly;, score=0.200 total time= 1.2min\n",
            "[CV 6/10] END C=0.1, class_weight=None, kernel=poly;, score=0.253 total time= 1.1min\n",
            "[CV 7/10] END C=0.1, class_weight=None, kernel=poly;, score=0.200 total time=  58.8s\n",
            "[CV 8/10] END C=0.1, class_weight=None, kernel=poly;, score=0.200 total time= 1.1min\n",
            "[CV 9/10] END C=0.1, class_weight=None, kernel=poly;, score=0.229 total time= 1.0min\n",
            "[CV 10/10] END C=0.1, class_weight=None, kernel=poly;, score=0.222 total time=  58.5s\n",
            "[CV 1/10] END C=0.1, class_weight=balanced, kernel=poly;, score=0.200 total time= 1.0min\n",
            "[CV 2/10] END C=0.1, class_weight=balanced, kernel=poly;, score=0.200 total time= 1.1min\n",
            "[CV 3/10] END C=0.1, class_weight=balanced, kernel=poly;, score=0.200 total time= 1.1min\n",
            "[CV 4/10] END C=0.1, class_weight=balanced, kernel=poly;, score=0.200 total time= 1.1min\n",
            "[CV 5/10] END C=0.1, class_weight=balanced, kernel=poly;, score=0.200 total time= 1.1min\n",
            "[CV 6/10] END C=0.1, class_weight=balanced, kernel=poly;, score=0.253 total time=  59.4s\n",
            "[CV 7/10] END C=0.1, class_weight=balanced, kernel=poly;, score=0.200 total time= 1.0min\n",
            "[CV 8/10] END C=0.1, class_weight=balanced, kernel=poly;, score=0.200 total time= 1.2min\n",
            "[CV 9/10] END C=0.1, class_weight=balanced, kernel=poly;, score=0.230 total time= 1.2min\n",
            "[CV 10/10] END C=0.1, class_weight=balanced, kernel=poly;, score=0.222 total time= 1.1min\n",
            "[CV 1/10] END C=0.01, class_weight=None, kernel=poly;, score=0.200 total time=  58.4s\n",
            "[CV 2/10] END C=0.01, class_weight=None, kernel=poly;, score=0.200 total time= 1.1min\n",
            "[CV 3/10] END C=0.01, class_weight=None, kernel=poly;, score=0.200 total time= 1.0min\n",
            "[CV 4/10] END C=0.01, class_weight=None, kernel=poly;, score=0.200 total time=  58.3s\n",
            "[CV 5/10] END C=0.01, class_weight=None, kernel=poly;, score=0.200 total time= 1.1min\n",
            "[CV 6/10] END C=0.01, class_weight=None, kernel=poly;, score=0.221 total time= 1.2min\n",
            "[CV 7/10] END C=0.01, class_weight=None, kernel=poly;, score=0.200 total time= 1.1min\n",
            "[CV 8/10] END C=0.01, class_weight=None, kernel=poly;, score=0.200 total time= 1.0min\n",
            "[CV 9/10] END C=0.01, class_weight=None, kernel=poly;, score=0.230 total time=  58.5s\n",
            "[CV 10/10] END C=0.01, class_weight=None, kernel=poly;, score=0.222 total time=  57.4s\n",
            "[CV 1/10] END C=0.01, class_weight=balanced, kernel=poly;, score=0.217 total time= 1.0min\n",
            "[CV 2/10] END C=0.01, class_weight=balanced, kernel=poly;, score=0.221 total time= 1.2min\n",
            "[CV 3/10] END C=0.01, class_weight=balanced, kernel=poly;, score=0.214 total time= 1.2min\n",
            "[CV 4/10] END C=0.01, class_weight=balanced, kernel=poly;, score=0.214 total time= 1.0min\n",
            "[CV 5/10] END C=0.01, class_weight=balanced, kernel=poly;, score=0.226 total time= 1.0min\n",
            "[CV 6/10] END C=0.01, class_weight=balanced, kernel=poly;, score=0.228 total time= 1.1min\n",
            "[CV 7/10] END C=0.01, class_weight=balanced, kernel=poly;, score=0.218 total time= 1.1min\n",
            "[CV 8/10] END C=0.01, class_weight=balanced, kernel=poly;, score=0.224 total time=  59.8s\n",
            "[CV 9/10] END C=0.01, class_weight=balanced, kernel=poly;, score=0.230 total time= 1.0min\n",
            "[CV 10/10] END C=0.01, class_weight=balanced, kernel=poly;, score=0.222 total time= 1.2min\n",
            "\n",
            "{'C': 100, 'class_weight': None, 'kernel': 'poly'}\n",
            "SVC(C=100, kernel='poly', random_state=0)\n"
          ]
        }
      ],
      "source": [
        "clf = svm.SVC(random_state=random_state)\n",
        "CV_rfc = GridSearchCV(estimator=clf,\n",
        "                      param_grid=param_grid,\n",
        "                      cv= 10,\n",
        "                      scoring='balanced_accuracy',\n",
        "                      verbose=3)\n",
        "CV_rfc.fit(X_train, y_train)\n",
        "\n",
        "print('')\n",
        "print(CV_rfc.best_params_)\n",
        "print(CV_rfc.best_estimator_)"
      ]
    },
    {
      "cell_type": "code",
      "execution_count": null,
      "metadata": {
        "colab": {
          "base_uri": "https://localhost:8080/"
        },
        "id": "rdkX4gUxBWta",
        "outputId": "717ec511-96fb-48a4-ca35-3193dbf910e4"
      },
      "outputs": [
        {
          "name": "stdout",
          "output_type": "stream",
          "text": [
            "train scores \n",
            "\n",
            "accuracy: 0.668\n",
            "f1: 0.691\n",
            "balanced accuracy: 0.668\n",
            "matthews corrcoeff: 0.340\n",
            "\n",
            "val scores \n",
            "\n",
            "accuracy: 0.698\n",
            "f1: 0.815\n",
            "balanced accuracy: 0.547\n",
            "matthews corrcoeff: 0.061\n"
          ]
        }
      ],
      "source": [
        "clf = svm.SVC(C=100, kernel='poly', random_state=random_state)\n",
        "fit = clf.fit(X_train, y_train)\n",
        "\n",
        "y_pred = fit.predict(X_train)\n",
        "y_val_pred = fit.predict(X_val)\n",
        "\n",
        "# calculate statistical metrics accuracy for training set\n",
        "train_accuracy = metrics.accuracy_score(y_train, y_pred)\n",
        "val_accuracy = metrics.accuracy_score(y_val, y_val_pred)\n",
        "\n",
        "# calculate statistical metrics for training set\n",
        "train_f1 = metrics.f1_score(y_train, y_pred, average = 'binary')\n",
        "train_ba = metrics.balanced_accuracy_score(y_train, y_pred)\n",
        "train_mcc = metrics.matthews_corrcoef(y_train, y_pred)\n",
        "\n",
        "# calculate statistical metrics for val set\n",
        "val_f1 = metrics.f1_score(y_val, y_val_pred, average = 'binary')\n",
        "val_ba = metrics.balanced_accuracy_score(y_val, y_val_pred)\n",
        "val_mcc = metrics.matthews_corrcoef(y_val, y_val_pred)\n",
        "\n",
        "print(f'train scores \\n')\n",
        "print(f'accuracy: {train_accuracy:.3f}')\n",
        "print(f'f1: {train_f1:.3f}')\n",
        "print(f'balanced accuracy: {train_ba:.3f}')\n",
        "print(f'matthews corrcoeff: {train_mcc:.3f}')\n",
        "print('')\n",
        "print(f'val scores \\n')\n",
        "print(f'accuracy: {val_accuracy:.3f}')\n",
        "print(f'f1: {val_f1:.3f}')\n",
        "print(f'balanced accuracy: {val_ba:.3f}')\n",
        "print(f'matthews corrcoeff: {val_mcc:.3f}')"
      ]
    },
    {
      "cell_type": "markdown",
      "metadata": {},
      "source": [
        "### sigmoid"
      ]
    },
    {
      "cell_type": "code",
      "execution_count": 20,
      "metadata": {
        "id": "MoeungSpFsvs"
      },
      "outputs": [],
      "source": [
        "param_grid = {\n",
        "    'kernel': ['sigmoid',],\n",
        "    #'gamma': ['scale', 'auto'],\n",
        "    'class_weight':[None, 'balanced'],\n",
        "    'C': [100, 10, 1, 0.1, 0.01]\n",
        "}"
      ]
    },
    {
      "cell_type": "code",
      "execution_count": 21,
      "metadata": {
        "colab": {
          "base_uri": "https://localhost:8080/"
        },
        "id": "jDwqR6mZFsvy",
        "outputId": "89eaa2b4-0184-4ac5-eba7-89682c961f37"
      },
      "outputs": [
        {
          "name": "stdout",
          "output_type": "stream",
          "text": [
            "Fitting 10 folds for each of 10 candidates, totalling 100 fits\n"
          ]
        },
        {
          "name": "stdout",
          "output_type": "stream",
          "text": [
            "[CV 1/10] END C=100, class_weight=None, kernel=sigmoid;, score=0.304 total time=  55.6s\n",
            "[CV 2/10] END C=100, class_weight=None, kernel=sigmoid;, score=0.283 total time=  50.1s\n",
            "[CV 3/10] END C=100, class_weight=None, kernel=sigmoid;, score=0.284 total time=  49.0s\n",
            "[CV 4/10] END C=100, class_weight=None, kernel=sigmoid;, score=0.293 total time=  50.1s\n",
            "[CV 5/10] END C=100, class_weight=None, kernel=sigmoid;, score=0.273 total time=  58.4s\n",
            "[CV 6/10] END C=100, class_weight=None, kernel=sigmoid;, score=0.239 total time=  45.0s\n",
            "[CV 7/10] END C=100, class_weight=None, kernel=sigmoid;, score=0.290 total time=  59.0s\n",
            "[CV 8/10] END C=100, class_weight=None, kernel=sigmoid;, score=0.285 total time=  53.4s\n",
            "[CV 9/10] END C=100, class_weight=None, kernel=sigmoid;, score=0.327 total time=  50.0s\n",
            "[CV 10/10] END C=100, class_weight=None, kernel=sigmoid;, score=0.302 total time=  49.4s\n",
            "[CV 1/10] END C=100, class_weight=balanced, kernel=sigmoid;, score=0.304 total time=  53.3s\n",
            "[CV 2/10] END C=100, class_weight=balanced, kernel=sigmoid;, score=0.284 total time=  55.8s\n",
            "[CV 3/10] END C=100, class_weight=balanced, kernel=sigmoid;, score=0.283 total time=  50.0s\n",
            "[CV 4/10] END C=100, class_weight=balanced, kernel=sigmoid;, score=0.293 total time=  50.9s\n",
            "[CV 5/10] END C=100, class_weight=balanced, kernel=sigmoid;, score=0.273 total time=  56.8s\n",
            "[CV 6/10] END C=100, class_weight=balanced, kernel=sigmoid;, score=0.239 total time=  46.6s\n",
            "[CV 7/10] END C=100, class_weight=balanced, kernel=sigmoid;, score=0.290 total time=  59.8s\n",
            "[CV 8/10] END C=100, class_weight=balanced, kernel=sigmoid;, score=0.285 total time=  58.5s\n",
            "[CV 9/10] END C=100, class_weight=balanced, kernel=sigmoid;, score=0.326 total time=  56.4s\n",
            "[CV 10/10] END C=100, class_weight=balanced, kernel=sigmoid;, score=0.302 total time=  49.9s\n",
            "[CV 1/10] END C=10, class_weight=None, kernel=sigmoid;, score=0.247 total time=  56.0s\n",
            "[CV 2/10] END C=10, class_weight=None, kernel=sigmoid;, score=0.261 total time= 1.0min\n",
            "[CV 3/10] END C=10, class_weight=None, kernel=sigmoid;, score=0.245 total time= 1.1min\n",
            "[CV 4/10] END C=10, class_weight=None, kernel=sigmoid;, score=0.234 total time= 1.1min\n",
            "[CV 5/10] END C=10, class_weight=None, kernel=sigmoid;, score=0.232 total time=  58.5s\n",
            "[CV 6/10] END C=10, class_weight=None, kernel=sigmoid;, score=0.239 total time=  43.2s\n",
            "[CV 7/10] END C=10, class_weight=None, kernel=sigmoid;, score=0.251 total time= 1.0min\n",
            "[CV 8/10] END C=10, class_weight=None, kernel=sigmoid;, score=0.249 total time= 1.1min\n",
            "[CV 9/10] END C=10, class_weight=None, kernel=sigmoid;, score=0.249 total time= 1.0min\n",
            "[CV 10/10] END C=10, class_weight=None, kernel=sigmoid;, score=0.237 total time=  56.2s\n",
            "[CV 1/10] END C=10, class_weight=balanced, kernel=sigmoid;, score=0.247 total time=  58.0s\n",
            "[CV 2/10] END C=10, class_weight=balanced, kernel=sigmoid;, score=0.261 total time= 1.1min\n",
            "[CV 3/10] END C=10, class_weight=balanced, kernel=sigmoid;, score=0.246 total time= 1.1min\n",
            "[CV 4/10] END C=10, class_weight=balanced, kernel=sigmoid;, score=0.234 total time=  57.3s\n",
            "[CV 5/10] END C=10, class_weight=balanced, kernel=sigmoid;, score=0.232 total time=  58.7s\n",
            "[CV 6/10] END C=10, class_weight=balanced, kernel=sigmoid;, score=0.236 total time=  44.4s\n",
            "[CV 7/10] END C=10, class_weight=balanced, kernel=sigmoid;, score=0.251 total time= 1.0min\n",
            "[CV 8/10] END C=10, class_weight=balanced, kernel=sigmoid;, score=0.249 total time= 1.1min\n",
            "[CV 9/10] END C=10, class_weight=balanced, kernel=sigmoid;, score=0.249 total time=  58.1s\n",
            "[CV 10/10] END C=10, class_weight=balanced, kernel=sigmoid;, score=0.237 total time=  59.3s\n",
            "[CV 1/10] END C=1, class_weight=None, kernel=sigmoid;, score=0.245 total time=  59.3s\n",
            "[CV 2/10] END C=1, class_weight=None, kernel=sigmoid;, score=0.262 total time= 1.1min\n",
            "[CV 3/10] END C=1, class_weight=None, kernel=sigmoid;, score=0.231 total time= 1.1min\n",
            "[CV 4/10] END C=1, class_weight=None, kernel=sigmoid;, score=0.235 total time=  58.4s\n",
            "[CV 5/10] END C=1, class_weight=None, kernel=sigmoid;, score=0.232 total time= 1.0min\n",
            "[CV 6/10] END C=1, class_weight=None, kernel=sigmoid;, score=0.222 total time= 1.0min\n",
            "[CV 7/10] END C=1, class_weight=None, kernel=sigmoid;, score=0.247 total time= 1.1min\n",
            "[CV 8/10] END C=1, class_weight=None, kernel=sigmoid;, score=0.240 total time= 1.1min\n",
            "[CV 9/10] END C=1, class_weight=None, kernel=sigmoid;, score=0.242 total time=  58.9s\n",
            "[CV 10/10] END C=1, class_weight=None, kernel=sigmoid;, score=0.234 total time=  58.5s\n",
            "[CV 1/10] END C=1, class_weight=balanced, kernel=sigmoid;, score=0.245 total time= 1.1min\n",
            "[CV 2/10] END C=1, class_weight=balanced, kernel=sigmoid;, score=0.262 total time= 1.1min\n",
            "[CV 3/10] END C=1, class_weight=balanced, kernel=sigmoid;, score=0.230 total time= 1.1min\n",
            "[CV 4/10] END C=1, class_weight=balanced, kernel=sigmoid;, score=0.236 total time= 1.0min\n",
            "[CV 5/10] END C=1, class_weight=balanced, kernel=sigmoid;, score=0.232 total time= 1.0min\n",
            "[CV 6/10] END C=1, class_weight=balanced, kernel=sigmoid;, score=0.221 total time=  55.1s\n",
            "[CV 7/10] END C=1, class_weight=balanced, kernel=sigmoid;, score=0.247 total time= 1.1min\n",
            "[CV 8/10] END C=1, class_weight=balanced, kernel=sigmoid;, score=0.240 total time= 1.0min\n",
            "[CV 9/10] END C=1, class_weight=balanced, kernel=sigmoid;, score=0.242 total time= 1.0min\n",
            "[CV 10/10] END C=1, class_weight=balanced, kernel=sigmoid;, score=0.234 total time= 1.2min\n",
            "[CV 1/10] END C=0.1, class_weight=None, kernel=sigmoid;, score=0.199 total time= 1.1min\n",
            "[CV 2/10] END C=0.1, class_weight=None, kernel=sigmoid;, score=0.200 total time= 1.1min\n",
            "[CV 3/10] END C=0.1, class_weight=None, kernel=sigmoid;, score=0.201 total time=  59.8s\n",
            "[CV 4/10] END C=0.1, class_weight=None, kernel=sigmoid;, score=0.200 total time= 1.0min\n",
            "[CV 5/10] END C=0.1, class_weight=None, kernel=sigmoid;, score=0.200 total time= 1.1min\n",
            "[CV 6/10] END C=0.1, class_weight=None, kernel=sigmoid;, score=0.270 total time= 1.2min\n",
            "[CV 7/10] END C=0.1, class_weight=None, kernel=sigmoid;, score=0.200 total time= 1.2min\n",
            "[CV 8/10] END C=0.1, class_weight=None, kernel=sigmoid;, score=0.200 total time= 1.2min\n",
            "[CV 9/10] END C=0.1, class_weight=None, kernel=sigmoid;, score=0.264 total time= 1.1min\n",
            "[CV 10/10] END C=0.1, class_weight=None, kernel=sigmoid;, score=0.248 total time= 1.1min\n",
            "[CV 1/10] END C=0.1, class_weight=balanced, kernel=sigmoid;, score=0.199 total time= 1.1min\n",
            "[CV 2/10] END C=0.1, class_weight=balanced, kernel=sigmoid;, score=0.200 total time= 1.0min\n",
            "[CV 3/10] END C=0.1, class_weight=balanced, kernel=sigmoid;, score=0.201 total time= 1.1min\n",
            "[CV 4/10] END C=0.1, class_weight=balanced, kernel=sigmoid;, score=0.200 total time= 1.2min\n",
            "[CV 5/10] END C=0.1, class_weight=balanced, kernel=sigmoid;, score=0.200 total time= 1.1min\n",
            "[CV 6/10] END C=0.1, class_weight=balanced, kernel=sigmoid;, score=0.270 total time= 1.2min\n",
            "[CV 7/10] END C=0.1, class_weight=balanced, kernel=sigmoid;, score=0.200 total time= 1.0min\n",
            "[CV 8/10] END C=0.1, class_weight=balanced, kernel=sigmoid;, score=0.200 total time= 1.0min\n",
            "[CV 9/10] END C=0.1, class_weight=balanced, kernel=sigmoid;, score=0.264 total time= 1.1min\n",
            "[CV 10/10] END C=0.1, class_weight=balanced, kernel=sigmoid;, score=0.248 total time= 1.2min\n",
            "[CV 1/10] END C=0.01, class_weight=None, kernel=sigmoid;, score=0.200 total time= 1.2min\n",
            "[CV 2/10] END C=0.01, class_weight=None, kernel=sigmoid;, score=0.200 total time= 1.0min\n",
            "[CV 3/10] END C=0.01, class_weight=None, kernel=sigmoid;, score=0.200 total time=  59.8s\n",
            "[CV 4/10] END C=0.01, class_weight=None, kernel=sigmoid;, score=0.200 total time= 1.1min\n",
            "[CV 5/10] END C=0.01, class_weight=None, kernel=sigmoid;, score=0.200 total time= 1.1min\n",
            "[CV 6/10] END C=0.01, class_weight=None, kernel=sigmoid;, score=0.220 total time= 1.0min\n",
            "[CV 7/10] END C=0.01, class_weight=None, kernel=sigmoid;, score=0.200 total time= 1.1min\n",
            "[CV 8/10] END C=0.01, class_weight=None, kernel=sigmoid;, score=0.200 total time= 1.2min\n",
            "[CV 9/10] END C=0.01, class_weight=None, kernel=sigmoid;, score=0.200 total time= 1.1min\n",
            "[CV 10/10] END C=0.01, class_weight=None, kernel=sigmoid;, score=0.200 total time= 1.1min\n",
            "[CV 1/10] END C=0.01, class_weight=balanced, kernel=sigmoid;, score=0.214 total time= 1.1min\n",
            "[CV 2/10] END C=0.01, class_weight=balanced, kernel=sigmoid;, score=0.225 total time= 1.0min\n",
            "[CV 3/10] END C=0.01, class_weight=balanced, kernel=sigmoid;, score=0.238 total time= 1.1min\n",
            "[CV 4/10] END C=0.01, class_weight=balanced, kernel=sigmoid;, score=0.236 total time= 1.2min\n",
            "[CV 5/10] END C=0.01, class_weight=balanced, kernel=sigmoid;, score=0.247 total time= 1.2min\n",
            "[CV 6/10] END C=0.01, class_weight=balanced, kernel=sigmoid;, score=0.258 total time= 1.1min\n",
            "[CV 7/10] END C=0.01, class_weight=balanced, kernel=sigmoid;, score=0.261 total time= 1.1min\n",
            "[CV 8/10] END C=0.01, class_weight=balanced, kernel=sigmoid;, score=0.260 total time= 1.1min\n",
            "[CV 9/10] END C=0.01, class_weight=balanced, kernel=sigmoid;, score=0.250 total time= 1.0min\n",
            "[CV 10/10] END C=0.01, class_weight=balanced, kernel=sigmoid;, score=0.236 total time= 1.1min\n",
            "\n",
            "{'C': 100, 'class_weight': None, 'kernel': 'sigmoid'}\n",
            "SVC(C=100, kernel='sigmoid', random_state=0)\n"
          ]
        }
      ],
      "source": [
        "clf = svm.SVC(random_state=random_state)\n",
        "CV_rfc = GridSearchCV(estimator=clf,\n",
        "                      param_grid=param_grid,\n",
        "                      cv= 10,\n",
        "                      scoring='balanced_accuracy',\n",
        "                      verbose=3)\n",
        "CV_rfc.fit(X_train, y_train)\n",
        "\n",
        "print('')\n",
        "print(CV_rfc.best_params_)\n",
        "print(CV_rfc.best_estimator_)"
      ]
    },
    {
      "cell_type": "code",
      "execution_count": null,
      "metadata": {
        "colab": {
          "base_uri": "https://localhost:8080/"
        },
        "id": "OoarL9rzFsv0",
        "outputId": "37288e6e-0c8b-413a-c17b-1e133fc9ec18"
      },
      "outputs": [
        {
          "name": "stdout",
          "output_type": "stream",
          "text": [
            "train scores \n",
            "\n",
            "accuracy: 0.510\n",
            "f1: 0.115\n",
            "balanced accuracy: 0.510\n",
            "matthews corrcoeff: 0.046\n",
            "\n",
            "val scores \n",
            "\n",
            "accuracy: 0.171\n",
            "f1: 0.160\n",
            "balanced accuracy: 0.537\n",
            "matthews corrcoeff: 0.078\n"
          ]
        }
      ],
      "source": [
        "clf = svm.SVC(C=0.01, class_weight='balanced', kernel='sigmoid', random_state=random_state)\n",
        "fit = clf.fit(X_train, y_train)\n",
        "\n",
        "y_pred = fit.predict(X_train)\n",
        "y_val_pred = fit.predict(X_val)\n",
        "\n",
        "# calculate statistical metrics accuracy for training set\n",
        "train_accuracy = metrics.accuracy_score(y_train, y_pred)\n",
        "val_accuracy = metrics.accuracy_score(y_val, y_val_pred)\n",
        "\n",
        "# calculate statistical metrics for training set\n",
        "train_f1 = metrics.f1_score(y_train, y_pred, average = 'binary')\n",
        "train_ba = metrics.balanced_accuracy_score(y_train, y_pred)\n",
        "train_mcc = metrics.matthews_corrcoef(y_train, y_pred)\n",
        "\n",
        "# calculate statistical metrics for val set\n",
        "val_f1 = metrics.f1_score(y_val, y_val_pred, average = 'binary')\n",
        "val_ba = metrics.balanced_accuracy_score(y_val, y_val_pred)\n",
        "val_mcc = metrics.matthews_corrcoef(y_val, y_val_pred)\n",
        "\n",
        "print(f'train scores \\n')\n",
        "print(f'accuracy: {train_accuracy:.3f}')\n",
        "print(f'f1: {train_f1:.3f}')\n",
        "print(f'balanced accuracy: {train_ba:.3f}')\n",
        "print(f'matthews corrcoeff: {train_mcc:.3f}')\n",
        "print('')\n",
        "print(f'val scores \\n')\n",
        "print(f'accuracy: {val_accuracy:.3f}')\n",
        "print(f'f1: {val_f1:.3f}')\n",
        "print(f'balanced accuracy: {val_ba:.3f}')\n",
        "print(f'matthews corrcoeff: {val_mcc:.3f}')"
      ]
    },
    {
      "cell_type": "code",
      "execution_count": null,
      "metadata": {
        "id": "0DOTGd5QG7vn"
      },
      "outputs": [],
      "source": []
    },
    {
      "cell_type": "markdown",
      "metadata": {},
      "source": [
        "### linear"
      ]
    },
    {
      "cell_type": "code",
      "execution_count": 22,
      "metadata": {
        "id": "ZtOeCpT0HLqN"
      },
      "outputs": [],
      "source": [
        "param_grid = {\n",
        "    'kernel': ['linear',],\n",
        "    #'gamma': ['scale', 'auto'],\n",
        "    #'class_weight':[None, 'balanced'],\n",
        "    'C': [0.01, 0.1, 1, 10, 100],\n",
        "}"
      ]
    },
    {
      "cell_type": "code",
      "execution_count": 23,
      "metadata": {
        "colab": {
          "base_uri": "https://localhost:8080/"
        },
        "id": "2efFChY8HLqP",
        "outputId": "f5d3478f-6d2d-43f1-a287-b0e9e2eb7254"
      },
      "outputs": [
        {
          "name": "stdout",
          "output_type": "stream",
          "text": [
            "Fitting 10 folds for each of 5 candidates, totalling 50 fits\n"
          ]
        }
      ],
      "source": [
        "clf = svm.SVC(random_state=random_state)\n",
        "CV_rfc = GridSearchCV(estimator=clf,\n",
        "                      param_grid=param_grid,\n",
        "                      cv= 10,\n",
        "                      scoring='balanced_accuracy',\n",
        "                      verbose=3)\n",
        "CV_rfc.fit(X_train, y_train)\n",
        "\n",
        "print('')\n",
        "print(CV_rfc.best_params_)\n",
        "print(CV_rfc.best_estimator_)"
      ]
    },
    {
      "cell_type": "code",
      "execution_count": null,
      "metadata": {
        "colab": {
          "base_uri": "https://localhost:8080/"
        },
        "id": "qm6Q6CR0HLqS",
        "outputId": "37288e6e-0c8b-413a-c17b-1e133fc9ec18"
      },
      "outputs": [
        {
          "name": "stdout",
          "output_type": "stream",
          "text": [
            "train scores \n",
            "\n",
            "accuracy: 0.510\n",
            "f1: 0.115\n",
            "balanced accuracy: 0.510\n",
            "matthews corrcoeff: 0.046\n",
            "\n",
            "val scores \n",
            "\n",
            "accuracy: 0.171\n",
            "f1: 0.160\n",
            "balanced accuracy: 0.537\n",
            "matthews corrcoeff: 0.078\n"
          ]
        }
      ],
      "source": [
        "clf = svm.SVC(C=0.01, class_weight='balanced', kernel='sigmoid', random_state=random_state)\n",
        "fit = clf.fit(X_train, y_train)\n",
        "\n",
        "y_pred = fit.predict(X_train)\n",
        "y_val_pred = fit.predict(X_val)\n",
        "\n",
        "# calculate statistical metrics accuracy for training set\n",
        "train_accuracy = metrics.accuracy_score(y_train, y_pred)\n",
        "val_accuracy = metrics.accuracy_score(y_val, y_val_pred)\n",
        "\n",
        "# calculate statistical metrics for training set\n",
        "train_f1 = metrics.f1_score(y_train, y_pred, average = 'binary')\n",
        "train_ba = metrics.balanced_accuracy_score(y_train, y_pred)\n",
        "train_mcc = metrics.matthews_corrcoef(y_train, y_pred)\n",
        "\n",
        "# calculate statistical metrics for val set\n",
        "val_f1 = metrics.f1_score(y_val, y_val_pred, average = 'binary')\n",
        "val_ba = metrics.balanced_accuracy_score(y_val, y_val_pred)\n",
        "val_mcc = metrics.matthews_corrcoef(y_val, y_val_pred)\n",
        "\n",
        "print(f'train scores \\n')\n",
        "print(f'accuracy: {train_accuracy:.3f}')\n",
        "print(f'f1: {train_f1:.3f}')\n",
        "print(f'balanced accuracy: {train_ba:.3f}')\n",
        "print(f'matthews corrcoeff: {train_mcc:.3f}')\n",
        "print('')\n",
        "print(f'val scores \\n')\n",
        "print(f'accuracy: {val_accuracy:.3f}')\n",
        "print(f'f1: {val_f1:.3f}')\n",
        "print(f'balanced accuracy: {val_ba:.3f}')\n",
        "print(f'matthews corrcoeff: {val_mcc:.3f}')"
      ]
    },
    {
      "cell_type": "markdown",
      "metadata": {},
      "source": [
        "## rfecv"
      ]
    },
    {
      "cell_type": "code",
      "execution_count": 10,
      "metadata": {},
      "outputs": [
        {
          "name": "stdout",
          "output_type": "stream",
          "text": [
            "Fitting estimator with 288 features.\n"
          ]
        }
      ],
      "source": [
        "svc=svm.SVC(kernel=\"linear\")\n",
        "rfecv = RFECV(estimator=svc, \n",
        "              step=30, \n",
        "              cv=KFold(10), # Stratified fold inorder to reduce bias\n",
        "              scoring='balanced_accuracy', \n",
        "              verbose=3)\n",
        "rfetrain=rfecv.fit(X_train, y_train)\n",
        "print('Optimal number of features :', rfecv.n_features_)\n",
        "\n",
        "\n",
        "# Plot showing the Cross Validation score\n",
        "plt.figure()\n",
        "plt.xlabel(\"Number of features selected\")\n",
        "plt.ylabel(\"Cross validation score (nb of correct classifications)\")\n",
        "plt.plot(range(1, len(rfecv.grid_scores_) + 1), rfecv.grid_scores_)\n",
        "plt.show()\n"
      ]
    },
    {
      "cell_type": "markdown",
      "metadata": {},
      "source": [
        "## halvinggridsearch"
      ]
    },
    {
      "cell_type": "code",
      "execution_count": 12,
      "metadata": {},
      "outputs": [],
      "source": [
        "param_grid = {\n",
        "    'kernel': ['linear',],\n",
        "    #'gamma': ['scale', 'auto'],\n",
        "    #'class_weight':[None, 'balanced'],\n",
        "    'C': [0.01, 0.1, 1, 10, 100],\n",
        "}"
      ]
    },
    {
      "cell_type": "code",
      "execution_count": 13,
      "metadata": {},
      "outputs": [],
      "source": [
        "from sklearn.experimental import enable_halving_search_cv"
      ]
    },
    {
      "cell_type": "code",
      "execution_count": 15,
      "metadata": {},
      "outputs": [
        {
          "name": "stdout",
          "output_type": "stream",
          "text": [
            "n_iterations: 2\n",
            "n_required_iterations: 2\n",
            "n_possible_iterations: 2\n",
            "min_resources_: 3496\n",
            "max_resources_: 10490\n",
            "aggressive_elimination: False\n",
            "factor: 3\n",
            "----------\n",
            "iter: 0\n",
            "n_candidates: 5\n",
            "n_resources: 3496\n",
            "Fitting 10 folds for each of 5 candidates, totalling 50 fits\n"
          ]
        },
        {
          "name": "stdout",
          "output_type": "stream",
          "text": [
            "[CV 1/10] END C=0.01, kernel=linear;, score=(train=0.811, test=0.696) total time=51.7min\n"
          ]
        }
      ],
      "source": [
        "clf = svm.SVC(random_state=random_state)\n",
        "CV_rfc = model_selection.HalvingGridSearchCV(estimator=clf,\n",
        "                      param_grid=param_grid,\n",
        "                      cv= 10,\n",
        "                      scoring='balanced_accuracy',\n",
        "                      verbose=3)\n",
        "CV_rfc.fit(X_train, y_train)\n",
        "\n",
        "print('')\n",
        "print(CV_rfc.best_params_)\n",
        "print(CV_rfc.best_estimator_)"
      ]
    },
    {
      "cell_type": "markdown",
      "metadata": {},
      "source": []
    },
    {
      "cell_type": "markdown",
      "metadata": {},
      "source": []
    }
  ],
  "metadata": {
    "colab": {
      "collapsed_sections": [
        "UjGMI-sFYSM6"
      ],
      "provenance": []
    },
    "kernelspec": {
      "display_name": "Python 3",
      "name": "python3"
    },
    "language_info": {
      "codemirror_mode": {
        "name": "ipython",
        "version": 3
      },
      "file_extension": ".py",
      "mimetype": "text/x-python",
      "name": "python",
      "nbconvert_exporter": "python",
      "pygments_lexer": "ipython3",
      "version": "3.10.12"
    }
  },
  "nbformat": 4,
  "nbformat_minor": 0
}
