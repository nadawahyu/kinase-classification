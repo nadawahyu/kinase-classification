{
  "cells": [
    {
      "cell_type": "markdown",
      "metadata": {},
      "source": [
        "# imports"
      ]
    },
    {
      "cell_type": "code",
      "execution_count": 1,
      "metadata": {
        "id": "xx1S5ouvrFCL"
      },
      "outputs": [],
      "source": [
        "# general data analysis package\n",
        "import pandas as pd\n",
        "import numpy as np\n",
        "import matplotlib.pyplot as plt\n",
        "import seaborn as sns\n",
        "\n",
        "# file management package\n",
        "import csv, sys\n",
        "import os\n",
        "import os.path\n",
        "import copy\n",
        "from tqdm.notebook import trange\n",
        "import warnings\n",
        "import pickle\n",
        "\n",
        "# preprocessing onwards\n",
        "from sklearn import preprocessing\n",
        "from sklearn import model_selection\n",
        "from sklearn.model_selection import train_test_split, RepeatedStratifiedKFold, GridSearchCV, KFold\n",
        "from sklearn.feature_selection import f_classif\n",
        "\n",
        "from imblearn.over_sampling import RandomOverSampler, SMOTE, ADASYN\n",
        "from imblearn.under_sampling import RandomUnderSampler, NearMiss\n",
        "from collections import Counter\n",
        "\n",
        "from sklearn import svm\n",
        "from sklearn.preprocessing import MaxAbsScaler, MinMaxScaler, Normalizer, PowerTransformer, QuantileTransformer, RobustScaler, StandardScaler\n",
        "from sklearn.metrics import classification_report, confusion_matrix\n",
        "from sklearn import metrics\n",
        "from sklearn.tree import export_graphviz\n",
        "from sklearn import tree\n",
        "from sklearn.inspection import DecisionBoundaryDisplay\n",
        "from sklearn.decomposition import PCA\n",
        "\n",
        "#from sklearn.exceptions import ConvergenceWarning\n",
        "from sklearn.feature_selection import SelectFromModel, RFECV\n",
        "from sklearn.inspection import permutation_importance"
      ]
    },
    {
      "cell_type": "code",
      "execution_count": 2,
      "metadata": {
        "colab": {
          "base_uri": "https://localhost:8080/",
          "height": 36
        },
        "id": "ASarjd8TrNAn",
        "outputId": "8ad2aee3-44cf-4ef2-c264-30292105bda5"
      },
      "outputs": [
        {
          "data": {
            "text/plain": [
              "'/Users/nadawahyu/Documents/Uni/Master/Forschungspraktikum_2/notebook'"
            ]
          },
          "execution_count": 2,
          "metadata": {},
          "output_type": "execute_result"
        }
      ],
      "source": [
        "pwd"
      ]
    },
    {
      "cell_type": "code",
      "execution_count": 3,
      "metadata": {
        "colab": {
          "base_uri": "https://localhost:8080/"
        },
        "id": "vBJxy6FarHVg",
        "outputId": "bb0d53ee-ab9a-40c5-9257-d236e72b662a"
      },
      "outputs": [
        {
          "name": "stdout",
          "output_type": "stream",
          "text": [
            "/Users/nadawahyu/Documents/Uni/Master/Forschungspraktikum_2/data\n"
          ]
        }
      ],
      "source": [
        "cd ../data"
      ]
    },
    {
      "cell_type": "code",
      "execution_count": 4,
      "metadata": {
        "id": "jJkxUUDtrXdz"
      },
      "outputs": [],
      "source": [
        "#data_da = pd.read_csv('data_allo_desc.csv')\n",
        "#data_db = pd.read_csv('data_binding_desc.csv')\n",
        "\n",
        "data_fa = pd.read_csv('data_allo_fp.csv')#.drop(['Unnamed: 0'], axis=1)\n",
        "data_fa = data_fa[data_fa['LigandType']!='none']\n",
        "#data_fb = pd.read_csv('data_binding_fp.csv')#.drop(['Unnamed: 0'], axis=1)\n",
        "#data_fb = data_fb[data_fb['LigandType']!='none']"
      ]
    },
    {
      "cell_type": "code",
      "execution_count": 5,
      "metadata": {
        "id": "I_Ey7yhRrJ1M"
      },
      "outputs": [],
      "source": [
        "# read pickle\n",
        "#X_train_pa, X_val_pa, X_test_pa, y_train_pa, y_val_pa, y_test_pa, descnm_pa = pd.read_pickle('X_pa.pkl')\n",
        "#X_train_pb, X_val_pb, X_test_pb, y_train_pb, y_val_pb, y_test_pb, descnm_pb = pd.read_pickle('X_pb.pkl')\n",
        "#X_train_sa, X_val_sa, X_test_sa, y_train_sa, y_val_sa, y_test_sa, descnm_sa = pd.read_pickle('X_sa.pkl')\n",
        "#X_train_sb, X_val_sb, X_test_sb, y_train_sb, y_val_sb, y_test_sb, descnm_sb = pd.read_pickle('X_sb.pkl')\n",
        "#X_train_da, X_val_da, X_test_da, y_train_da, y_val_da, y_test_da, descnm_da = pd.read_pickle('X_da.pkl')\n",
        "#X_train_db, X_val_db, X_test_db, y_train_db, y_val_db, y_test_db, descnm_db = pd.read_pickle('X_db.pkl')\n",
        "X_train_fa, X_val_fa, X_test_fa, y_train_fa, y_val_fa, y_test_fa, descnm_fa = pd.read_pickle('X_fa.pkl')\n",
        "#X_train_fb, X_val_fb, X_test_fb, y_train_fb, y_val_fb, y_test_fb, descnm_fb = pd.read_pickle('X_fb.pkl')"
      ]
    },
    {
      "cell_type": "code",
      "execution_count": null,
      "metadata": {
        "id": "nWWezbnAMFNZ"
      },
      "outputs": [],
      "source": []
    },
    {
      "cell_type": "markdown",
      "metadata": {
        "id": "GpneWlNBra64"
      },
      "source": [
        "# da"
      ]
    },
    {
      "cell_type": "markdown",
      "metadata": {
        "id": "FKoRTVArrcTC"
      },
      "source": [
        "## internal validation"
      ]
    },
    {
      "cell_type": "code",
      "execution_count": 6,
      "metadata": {
        "id": "s9UeLiD3rU-p"
      },
      "outputs": [],
      "source": [
        "target='LigandType'\n",
        "col_to_drop=['lig_smiles', 'lig_at']\n",
        "test_size=0.2\n",
        "val_size = 0.2\n",
        "random_state=0\n",
        "\n",
        "data = data_fa.copy()\n",
        "data_ = data.copy()\n",
        "\n",
        "# drop duplicate rows\n",
        "data_ = data.drop_duplicates().dropna()\n",
        "\n",
        "# drop cols with 'unnamed'\n",
        "colidx_to_drop = [i for i in data.columns if 'Unnamed' in i]\n",
        "\n",
        "#encode target\n",
        "to_mask = {}\n",
        "\n",
        "for i,j in enumerate(data_[target].unique()):\n",
        "  to_mask.update({j:i})\n",
        "\n",
        "data_ = data_.replace(to_mask)\n",
        "\n",
        "# separate x and y\n",
        "X = data_.loc[:, data_.columns.difference(col_to_drop+[target]+colidx_to_drop)]\n",
        "y = data_[target]\n",
        "\n",
        "# remove features that don't have variation\n",
        "X_out = X.loc[:,X.apply(pd.Series.nunique) != 1]\n",
        "mask = X_out.applymap(lambda x: isinstance(x, (int, float)))\n",
        "X_out2 = X_out.where(mask)\n",
        "X = X_out2.dropna(axis=1)\n",
        "\n",
        "# anova feature selection\n",
        "f_stat, p_val, = f_classif(X, y)\n",
        "\n",
        "# get index which probability is lower than p = 0.05\n",
        "idx = [i for i,j in enumerate(p_val) if j < 0.05]\n",
        "# select column with respective index\n",
        "X = X.iloc[:,idx]\n",
        "\n",
        "# split train-validation and test\n",
        "X_trainval, X_test, y_trainval, y_test = train_test_split(X, y, test_size = test_size, random_state=random_state, stratify=y)\n",
        "# split train and validation\n",
        "X_train, X_val, y_train, y_val = train_test_split(X_trainval, y_trainval, test_size = val_size/(1-val_size), random_state=random_state, stratify=y_trainval)\n",
        "\n",
        "descnm = np.array(X_train.columns)\n",
        "#X_train = np.array(X_train)\n",
        "#X_val = np.array(X_val)\n",
        "#X_test = np.array(X_test)\n",
        "#y_train = np.array(y_train)\n",
        "#y_val = np.array(y_val)\n",
        "#y_test = np.array(y_test)\n"
      ]
    },
    {
      "cell_type": "code",
      "execution_count": 7,
      "metadata": {
        "colab": {
          "base_uri": "https://localhost:8080/"
        },
        "id": "kxJIF9hPrekD",
        "outputId": "df80fe9e-95dd-48d9-d59a-8aa00e5fe243"
      },
      "outputs": [
        {
          "name": "stdout",
          "output_type": "stream",
          "text": [
            "train scores \n",
            "\n",
            "accuracy: 0.591\n",
            "f1: 0.575\n",
            "balanced accuracy: 0.591\n",
            "matthews corrcoeff: 0.182\n",
            "\n",
            "val scores \n",
            "\n",
            "accuracy: 0.527\n",
            "f1: 0.667\n",
            "balanced accuracy: 0.546\n",
            "matthews corrcoeff: 0.054\n"
          ]
        }
      ],
      "source": [
        "#X_train, y_train, X_val, y_val = X_train_da, y_train_da, X_val_da, y_val_da\n",
        "random_state = 0\n",
        "\n",
        "X_train, y_train  = SMOTE(random_state=random_state).fit_resample(X_train, y_train)\n",
        "\n",
        "clf = svm.SVC(random_state=random_state)\n",
        "fit = clf.fit(X_train, y_train)\n",
        "\n",
        "y_pred = fit.predict(X_train)\n",
        "y_val_pred = fit.predict(X_val)\n",
        "\n",
        "# calculate statistical metrics accuracy for training set\n",
        "train_accuracy = metrics.accuracy_score(y_train, y_pred)\n",
        "val_accuracy = metrics.accuracy_score(y_val, y_val_pred)\n",
        "\n",
        "# calculate statistical metrics for training set\n",
        "train_f1 = metrics.f1_score(y_train, y_pred, average = 'binary')\n",
        "train_ba = metrics.balanced_accuracy_score(y_train, y_pred)\n",
        "train_mcc = metrics.matthews_corrcoef(y_train, y_pred)\n",
        "\n",
        "# calculate statistical metrics for val set\n",
        "val_f1 = metrics.f1_score(y_val, y_val_pred, average = 'binary')\n",
        "val_ba = metrics.balanced_accuracy_score(y_val, y_val_pred)\n",
        "val_mcc = metrics.matthews_corrcoef(y_val, y_val_pred)\n",
        "\n",
        "print(f'train scores \\n')\n",
        "print(f'accuracy: {train_accuracy:.3f}')\n",
        "print(f'f1: {train_f1:.3f}')\n",
        "print(f'balanced accuracy: {train_ba:.3f}')\n",
        "print(f'matthews corrcoeff: {train_mcc:.3f}')\n",
        "print('')\n",
        "print(f'val scores \\n')\n",
        "print(f'accuracy: {val_accuracy:.3f}')\n",
        "print(f'f1: {val_f1:.3f}')\n",
        "print(f'balanced accuracy: {val_ba:.3f}')\n",
        "print(f'matthews corrcoeff: {val_mcc:.3f}')"
      ]
    },
    {
      "cell_type": "code",
      "execution_count": 8,
      "metadata": {
        "colab": {
          "base_uri": "https://localhost:8080/"
        },
        "id": "xxs1c8YyrgIM",
        "outputId": "0d1d214c-b437-42cb-93e9-9c8cf0d08d40"
      },
      "outputs": [
        {
          "name": "stdout",
          "output_type": "stream",
          "text": [
            "              precision    recall  f1-score   support\n",
            "\n",
            "           0       0.58      0.63      0.61      2099\n",
            "           1       0.60      0.55      0.57      2099\n",
            "\n",
            "    accuracy                           0.59      4198\n",
            "   macro avg       0.59      0.59      0.59      4198\n",
            "weighted avg       0.59      0.59      0.59      4198\n",
            "\n",
            "[[1318  781]\n",
            " [ 937 1162]]\n"
          ]
        }
      ],
      "source": [
        "print(classification_report(y_train, y_pred))\n",
        "print(confusion_matrix(y_train, y_pred))"
      ]
    },
    {
      "cell_type": "code",
      "execution_count": null,
      "metadata": {},
      "outputs": [],
      "source": []
    },
    {
      "cell_type": "code",
      "execution_count": 9,
      "metadata": {
        "colab": {
          "base_uri": "https://localhost:8080/"
        },
        "id": "qC4dH0ZXrhgj",
        "outputId": "0e1ed1ae-5cfa-4753-92e9-6ad062c9936b"
      },
      "outputs": [
        {
          "name": "stdout",
          "output_type": "stream",
          "text": [
            "              precision    recall  f1-score   support\n",
            "\n",
            "           0       0.11      0.57      0.18        72\n",
            "           1       0.92      0.52      0.67       700\n",
            "\n",
            "    accuracy                           0.53       772\n",
            "   macro avg       0.52      0.55      0.43       772\n",
            "weighted avg       0.85      0.53      0.62       772\n",
            "\n",
            "[[ 41  31]\n",
            " [334 366]]\n"
          ]
        }
      ],
      "source": [
        "print(classification_report(y_val, y_val_pred))\n",
        "print(confusion_matrix(y_val, y_val_pred))"
      ]
    },
    {
      "cell_type": "markdown",
      "metadata": {
        "id": "UjGMI-sFYSM6"
      },
      "source": [
        "## gridsearchcv C only"
      ]
    },
    {
      "cell_type": "code",
      "execution_count": null,
      "metadata": {
        "id": "xluh9oG7XC_v"
      },
      "outputs": [],
      "source": [
        "param_grid = {\n",
        "    #'kernel': ['linear', 'poly', 'rbf', 'sigmoid', 'precomputed'],\n",
        "    #'gamma': ['scale', 'auto'],\n",
        "    #'class_weight':[None, 'balanced'],\n",
        "    'C': [100, 10, 1, 0.1, 0.01]\n",
        "}"
      ]
    },
    {
      "cell_type": "code",
      "execution_count": null,
      "metadata": {
        "id": "BzS0PINHrjTu"
      },
      "outputs": [],
      "source": [
        "clf = svm.SVC(random_state=random_state)\n",
        "CV_rfc = GridSearchCV(estimator=clf,\n",
        "                      param_grid=param_grid,\n",
        "                      cv= 10,\n",
        "                      verbose=3)\n",
        "CV_rfc.fit(X_train, y_train)\n",
        "\n",
        "print('')\n",
        "print(CV_rfc.best_params_)\n",
        "print(CV_rfc.best_estimator_)"
      ]
    },
    {
      "cell_type": "code",
      "execution_count": null,
      "metadata": {
        "colab": {
          "base_uri": "https://localhost:8080/"
        },
        "id": "7SzrDNIDstSG",
        "outputId": "8199653a-b15d-42a5-8a98-773a99f02b90"
      },
      "outputs": [
        {
          "name": "stdout",
          "output_type": "stream",
          "text": [
            "train scores \n",
            "\n",
            "accuracy: 0.705\n",
            "f1: 0.711\n",
            "balanced accuracy: 0.705\n",
            "matthews corrcoeff: 0.411\n",
            "\n",
            "val scores \n",
            "\n",
            "accuracy: 0.674\n",
            "f1: 0.794\n",
            "balanced accuracy: 0.577\n",
            "matthews corrcoeff: 0.096\n"
          ]
        }
      ],
      "source": [
        "clf = svm.SVC(C=100, random_state=random_state)\n",
        "fit = clf.fit(X_train, y_train)\n",
        "\n",
        "y_pred = fit.predict(X_train)\n",
        "y_val_pred = fit.predict(X_val)\n",
        "\n",
        "# calculate statistical metrics accuracy for training set\n",
        "train_accuracy = metrics.accuracy_score(y_train, y_pred)\n",
        "val_accuracy = metrics.accuracy_score(y_val, y_val_pred)\n",
        "\n",
        "# calculate statistical metrics for training set\n",
        "train_f1 = metrics.f1_score(y_train, y_pred, average = 'binary')\n",
        "train_ba = metrics.balanced_accuracy_score(y_train, y_pred)\n",
        "train_mcc = metrics.matthews_corrcoef(y_train, y_pred)\n",
        "\n",
        "# calculate statistical metrics for val set\n",
        "val_f1 = metrics.f1_score(y_val, y_val_pred, average = 'binary')\n",
        "val_ba = metrics.balanced_accuracy_score(y_val, y_val_pred)\n",
        "val_mcc = metrics.matthews_corrcoef(y_val, y_val_pred)\n",
        "\n",
        "print(f'train scores \\n')\n",
        "print(f'accuracy: {train_accuracy:.3f}')\n",
        "print(f'f1: {train_f1:.3f}')\n",
        "print(f'balanced accuracy: {train_ba:.3f}')\n",
        "print(f'matthews corrcoeff: {train_mcc:.3f}')\n",
        "print('')\n",
        "print(f'val scores \\n')\n",
        "print(f'accuracy: {val_accuracy:.3f}')\n",
        "print(f'f1: {val_f1:.3f}')\n",
        "print(f'balanced accuracy: {val_ba:.3f}')\n",
        "print(f'matthews corrcoeff: {val_mcc:.3f}')"
      ]
    },
    {
      "cell_type": "code",
      "execution_count": null,
      "metadata": {
        "id": "taHfm3BwaIpD"
      },
      "outputs": [],
      "source": [
        "train scores\n",
        "\n",
        "accuracy: 0.591\n",
        "f1: 0.575\n",
        "balanced accuracy: 0.591\n",
        "matthews corrcoeff: 0.182\n",
        "\n",
        "val scores\n",
        "\n",
        "accuracy: 0.527\n",
        "f1: 0.667\n",
        "balanced accuracy: 0.546\n",
        "matthews corrcoeff: 0.054"
      ]
    },
    {
      "cell_type": "markdown",
      "metadata": {
        "id": "D-m1rfN8YWWq"
      },
      "source": [
        "## gridsearchcv all"
      ]
    },
    {
      "cell_type": "markdown",
      "metadata": {},
      "source": [
        "### rbf"
      ]
    },
    {
      "cell_type": "code",
      "execution_count": null,
      "metadata": {
        "id": "H5Yq9jvxtC-h"
      },
      "outputs": [],
      "source": [
        "param_grid = {\n",
        "    'kernel': ['rbf',],\n",
        "    'gamma': ['scale', 'auto'],\n",
        "    'class_weight':[None, 'balanced'],\n",
        "    'C': [100, 10, 1, 0.1, 0.01]\n",
        "}"
      ]
    },
    {
      "cell_type": "code",
      "execution_count": null,
      "metadata": {
        "colab": {
          "base_uri": "https://localhost:8080/"
        },
        "id": "ah5IdC1dZiNj",
        "outputId": "1d98a7e3-1f61-4017-cb26-ce6b1b7313e5"
      },
      "outputs": [
        {
          "name": "stdout",
          "output_type": "stream",
          "text": [
            "Fitting 10 folds for each of 20 candidates, totalling 200 fits\n",
            "[CV 1/10] END C=100, class_weight=None, gamma=scale, kernel=rbf;, score=0.671 total time=   2.1s\n",
            "[CV 2/10] END C=100, class_weight=None, gamma=scale, kernel=rbf;, score=0.705 total time=   2.3s\n",
            "[CV 3/10] END C=100, class_weight=None, gamma=scale, kernel=rbf;, score=0.664 total time=   2.2s\n",
            "[CV 4/10] END C=100, class_weight=None, gamma=scale, kernel=rbf;, score=0.695 total time=   2.8s\n",
            "[CV 5/10] END C=100, class_weight=None, gamma=scale, kernel=rbf;, score=0.710 total time=   3.2s\n",
            "[CV 6/10] END C=100, class_weight=None, gamma=scale, kernel=rbf;, score=0.693 total time=   2.4s\n",
            "[CV 7/10] END C=100, class_weight=None, gamma=scale, kernel=rbf;, score=0.705 total time=   2.3s\n",
            "[CV 8/10] END C=100, class_weight=None, gamma=scale, kernel=rbf;, score=0.662 total time=   2.2s\n",
            "[CV 9/10] END C=100, class_weight=None, gamma=scale, kernel=rbf;, score=0.714 total time=   2.2s\n",
            "[CV 10/10] END C=100, class_weight=None, gamma=scale, kernel=rbf;, score=0.699 total time=   2.5s\n",
            "[CV 1/10] END C=100, class_weight=None, gamma=auto, kernel=rbf;, score=0.633 total time=   3.5s\n",
            "[CV 2/10] END C=100, class_weight=None, gamma=auto, kernel=rbf;, score=0.602 total time=   2.8s\n",
            "[CV 3/10] END C=100, class_weight=None, gamma=auto, kernel=rbf;, score=0.633 total time=   2.4s\n",
            "[CV 4/10] END C=100, class_weight=None, gamma=auto, kernel=rbf;, score=0.636 total time=   2.4s\n",
            "[CV 5/10] END C=100, class_weight=None, gamma=auto, kernel=rbf;, score=0.626 total time=   2.3s\n",
            "[CV 6/10] END C=100, class_weight=None, gamma=auto, kernel=rbf;, score=0.621 total time=   2.7s\n",
            "[CV 7/10] END C=100, class_weight=None, gamma=auto, kernel=rbf;, score=0.629 total time=   3.4s\n",
            "[CV 8/10] END C=100, class_weight=None, gamma=auto, kernel=rbf;, score=0.621 total time=   2.6s\n",
            "[CV 9/10] END C=100, class_weight=None, gamma=auto, kernel=rbf;, score=0.618 total time=   2.3s\n",
            "[CV 10/10] END C=100, class_weight=None, gamma=auto, kernel=rbf;, score=0.611 total time=   2.4s\n",
            "[CV 1/10] END C=100, class_weight=balanced, gamma=scale, kernel=rbf;, score=0.671 total time=   2.1s\n",
            "[CV 2/10] END C=100, class_weight=balanced, gamma=scale, kernel=rbf;, score=0.705 total time=   2.8s\n",
            "[CV 3/10] END C=100, class_weight=balanced, gamma=scale, kernel=rbf;, score=0.664 total time=   2.9s\n",
            "[CV 4/10] END C=100, class_weight=balanced, gamma=scale, kernel=rbf;, score=0.695 total time=   2.7s\n",
            "[CV 5/10] END C=100, class_weight=balanced, gamma=scale, kernel=rbf;, score=0.710 total time=   2.1s\n",
            "[CV 6/10] END C=100, class_weight=balanced, gamma=scale, kernel=rbf;, score=0.693 total time=   2.1s\n",
            "[CV 7/10] END C=100, class_weight=balanced, gamma=scale, kernel=rbf;, score=0.705 total time=   2.1s\n",
            "[CV 8/10] END C=100, class_weight=balanced, gamma=scale, kernel=rbf;, score=0.662 total time=   2.1s\n",
            "[CV 9/10] END C=100, class_weight=balanced, gamma=scale, kernel=rbf;, score=0.714 total time=   2.6s\n",
            "[CV 10/10] END C=100, class_weight=balanced, gamma=scale, kernel=rbf;, score=0.699 total time=   4.3s\n",
            "[CV 1/10] END C=100, class_weight=balanced, gamma=auto, kernel=rbf;, score=0.633 total time=   2.2s\n",
            "[CV 2/10] END C=100, class_weight=balanced, gamma=auto, kernel=rbf;, score=0.602 total time=   2.2s\n",
            "[CV 3/10] END C=100, class_weight=balanced, gamma=auto, kernel=rbf;, score=0.633 total time=   2.4s\n",
            "[CV 4/10] END C=100, class_weight=balanced, gamma=auto, kernel=rbf;, score=0.636 total time=   2.3s\n",
            "[CV 5/10] END C=100, class_weight=balanced, gamma=auto, kernel=rbf;, score=0.626 total time=   2.9s\n",
            "[CV 6/10] END C=100, class_weight=balanced, gamma=auto, kernel=rbf;, score=0.621 total time=   3.3s\n",
            "[CV 7/10] END C=100, class_weight=balanced, gamma=auto, kernel=rbf;, score=0.629 total time=   2.4s\n",
            "[CV 8/10] END C=100, class_weight=balanced, gamma=auto, kernel=rbf;, score=0.621 total time=   2.2s\n",
            "[CV 9/10] END C=100, class_weight=balanced, gamma=auto, kernel=rbf;, score=0.618 total time=   2.2s\n",
            "[CV 10/10] END C=100, class_weight=balanced, gamma=auto, kernel=rbf;, score=0.611 total time=   2.2s\n",
            "[CV 1/10] END C=10, class_weight=None, gamma=scale, kernel=rbf;, score=0.648 total time=   2.9s\n",
            "[CV 2/10] END C=10, class_weight=None, gamma=scale, kernel=rbf;, score=0.667 total time=   3.2s\n",
            "[CV 3/10] END C=10, class_weight=None, gamma=scale, kernel=rbf;, score=0.626 total time=   3.2s\n",
            "[CV 4/10] END C=10, class_weight=None, gamma=scale, kernel=rbf;, score=0.626 total time=   2.7s\n",
            "[CV 5/10] END C=10, class_weight=None, gamma=scale, kernel=rbf;, score=0.676 total time=   2.1s\n",
            "[CV 6/10] END C=10, class_weight=None, gamma=scale, kernel=rbf;, score=0.662 total time=   2.2s\n",
            "[CV 7/10] END C=10, class_weight=None, gamma=scale, kernel=rbf;, score=0.650 total time=   2.2s\n",
            "[CV 8/10] END C=10, class_weight=None, gamma=scale, kernel=rbf;, score=0.636 total time=   2.1s\n",
            "[CV 9/10] END C=10, class_weight=None, gamma=scale, kernel=rbf;, score=0.680 total time=   2.6s\n",
            "[CV 10/10] END C=10, class_weight=None, gamma=scale, kernel=rbf;, score=0.644 total time=   2.9s\n",
            "[CV 1/10] END C=10, class_weight=None, gamma=auto, kernel=rbf;, score=0.633 total time=   2.6s\n",
            "[CV 2/10] END C=10, class_weight=None, gamma=auto, kernel=rbf;, score=0.602 total time=   2.2s\n",
            "[CV 3/10] END C=10, class_weight=None, gamma=auto, kernel=rbf;, score=0.633 total time=   2.2s\n",
            "[CV 4/10] END C=10, class_weight=None, gamma=auto, kernel=rbf;, score=0.636 total time=   2.3s\n",
            "[CV 5/10] END C=10, class_weight=None, gamma=auto, kernel=rbf;, score=0.626 total time=   2.4s\n",
            "[CV 6/10] END C=10, class_weight=None, gamma=auto, kernel=rbf;, score=0.621 total time=   3.3s\n",
            "[CV 7/10] END C=10, class_weight=None, gamma=auto, kernel=rbf;, score=0.629 total time=   2.8s\n",
            "[CV 8/10] END C=10, class_weight=None, gamma=auto, kernel=rbf;, score=0.621 total time=   2.1s\n",
            "[CV 9/10] END C=10, class_weight=None, gamma=auto, kernel=rbf;, score=0.618 total time=   2.1s\n",
            "[CV 10/10] END C=10, class_weight=None, gamma=auto, kernel=rbf;, score=0.611 total time=   2.2s\n",
            "[CV 1/10] END C=10, class_weight=balanced, gamma=scale, kernel=rbf;, score=0.648 total time=   2.1s\n",
            "[CV 2/10] END C=10, class_weight=balanced, gamma=scale, kernel=rbf;, score=0.667 total time=   2.7s\n",
            "[CV 3/10] END C=10, class_weight=balanced, gamma=scale, kernel=rbf;, score=0.626 total time=   3.0s\n",
            "[CV 4/10] END C=10, class_weight=balanced, gamma=scale, kernel=rbf;, score=0.626 total time=   2.4s\n",
            "[CV 5/10] END C=10, class_weight=balanced, gamma=scale, kernel=rbf;, score=0.676 total time=   2.1s\n",
            "[CV 6/10] END C=10, class_weight=balanced, gamma=scale, kernel=rbf;, score=0.662 total time=   2.1s\n",
            "[CV 7/10] END C=10, class_weight=balanced, gamma=scale, kernel=rbf;, score=0.650 total time=   2.1s\n",
            "[CV 8/10] END C=10, class_weight=balanced, gamma=scale, kernel=rbf;, score=0.636 total time=   2.1s\n",
            "[CV 9/10] END C=10, class_weight=balanced, gamma=scale, kernel=rbf;, score=0.680 total time=   2.9s\n",
            "[CV 10/10] END C=10, class_weight=balanced, gamma=scale, kernel=rbf;, score=0.644 total time=   3.0s\n",
            "[CV 1/10] END C=10, class_weight=balanced, gamma=auto, kernel=rbf;, score=0.633 total time=   2.2s\n",
            "[CV 2/10] END C=10, class_weight=balanced, gamma=auto, kernel=rbf;, score=0.602 total time=   2.3s\n",
            "[CV 3/10] END C=10, class_weight=balanced, gamma=auto, kernel=rbf;, score=0.633 total time=   2.3s\n",
            "[CV 4/10] END C=10, class_weight=balanced, gamma=auto, kernel=rbf;, score=0.636 total time=   2.2s\n",
            "[CV 5/10] END C=10, class_weight=balanced, gamma=auto, kernel=rbf;, score=0.626 total time=   2.8s\n",
            "[CV 6/10] END C=10, class_weight=balanced, gamma=auto, kernel=rbf;, score=0.621 total time=   3.3s\n",
            "[CV 7/10] END C=10, class_weight=balanced, gamma=auto, kernel=rbf;, score=0.629 total time=   2.5s\n",
            "[CV 8/10] END C=10, class_weight=balanced, gamma=auto, kernel=rbf;, score=0.621 total time=   2.1s\n",
            "[CV 9/10] END C=10, class_weight=balanced, gamma=auto, kernel=rbf;, score=0.618 total time=   2.2s\n",
            "[CV 10/10] END C=10, class_weight=balanced, gamma=auto, kernel=rbf;, score=0.611 total time=   2.2s\n",
            "[CV 1/10] END C=1, class_weight=None, gamma=scale, kernel=rbf;, score=0.557 total time=   2.1s\n",
            "[CV 2/10] END C=1, class_weight=None, gamma=scale, kernel=rbf;, score=0.600 total time=   3.0s\n",
            "[CV 3/10] END C=1, class_weight=None, gamma=scale, kernel=rbf;, score=0.552 total time=   3.0s\n",
            "[CV 4/10] END C=1, class_weight=None, gamma=scale, kernel=rbf;, score=0.557 total time=   2.1s\n",
            "[CV 5/10] END C=1, class_weight=None, gamma=scale, kernel=rbf;, score=0.564 total time=   2.1s\n",
            "[CV 6/10] END C=1, class_weight=None, gamma=scale, kernel=rbf;, score=0.617 total time=   2.1s\n",
            "[CV 7/10] END C=1, class_weight=None, gamma=scale, kernel=rbf;, score=0.586 total time=   2.2s\n",
            "[CV 8/10] END C=1, class_weight=None, gamma=scale, kernel=rbf;, score=0.624 total time=   2.6s\n",
            "[CV 9/10] END C=1, class_weight=None, gamma=scale, kernel=rbf;, score=0.585 total time=   3.0s\n",
            "[CV 10/10] END C=1, class_weight=None, gamma=scale, kernel=rbf;, score=0.575 total time=   2.6s\n",
            "[CV 1/10] END C=1, class_weight=None, gamma=auto, kernel=rbf;, score=0.633 total time=   2.2s\n",
            "[CV 2/10] END C=1, class_weight=None, gamma=auto, kernel=rbf;, score=0.602 total time=   2.3s\n",
            "[CV 3/10] END C=1, class_weight=None, gamma=auto, kernel=rbf;, score=0.633 total time=   2.3s\n",
            "[CV 4/10] END C=1, class_weight=None, gamma=auto, kernel=rbf;, score=0.636 total time=   2.3s\n",
            "[CV 5/10] END C=1, class_weight=None, gamma=auto, kernel=rbf;, score=0.626 total time=   6.5s\n",
            "[CV 6/10] END C=1, class_weight=None, gamma=auto, kernel=rbf;, score=0.621 total time=   4.6s\n",
            "[CV 7/10] END C=1, class_weight=None, gamma=auto, kernel=rbf;, score=0.629 total time=   5.2s\n",
            "[CV 8/10] END C=1, class_weight=None, gamma=auto, kernel=rbf;, score=0.621 total time=   7.6s\n",
            "[CV 9/10] END C=1, class_weight=None, gamma=auto, kernel=rbf;, score=0.618 total time=   3.6s\n",
            "[CV 10/10] END C=1, class_weight=None, gamma=auto, kernel=rbf;, score=0.611 total time=   2.3s\n",
            "[CV 1/10] END C=1, class_weight=balanced, gamma=scale, kernel=rbf;, score=0.557 total time=   2.1s\n",
            "[CV 2/10] END C=1, class_weight=balanced, gamma=scale, kernel=rbf;, score=0.600 total time=   2.7s\n",
            "[CV 3/10] END C=1, class_weight=balanced, gamma=scale, kernel=rbf;, score=0.552 total time=   3.0s\n",
            "[CV 4/10] END C=1, class_weight=balanced, gamma=scale, kernel=rbf;, score=0.557 total time=   2.4s\n",
            "[CV 5/10] END C=1, class_weight=balanced, gamma=scale, kernel=rbf;, score=0.564 total time=   2.1s\n",
            "[CV 6/10] END C=1, class_weight=balanced, gamma=scale, kernel=rbf;, score=0.617 total time=   2.1s\n",
            "[CV 7/10] END C=1, class_weight=balanced, gamma=scale, kernel=rbf;, score=0.586 total time=   2.1s\n",
            "[CV 8/10] END C=1, class_weight=balanced, gamma=scale, kernel=rbf;, score=0.624 total time=   2.2s\n",
            "[CV 9/10] END C=1, class_weight=balanced, gamma=scale, kernel=rbf;, score=0.585 total time=   3.2s\n",
            "[CV 10/10] END C=1, class_weight=balanced, gamma=scale, kernel=rbf;, score=0.573 total time=   3.1s\n",
            "[CV 1/10] END C=1, class_weight=balanced, gamma=auto, kernel=rbf;, score=0.633 total time=   2.3s\n",
            "[CV 2/10] END C=1, class_weight=balanced, gamma=auto, kernel=rbf;, score=0.602 total time=   2.3s\n",
            "[CV 3/10] END C=1, class_weight=balanced, gamma=auto, kernel=rbf;, score=0.633 total time=   2.3s\n",
            "[CV 4/10] END C=1, class_weight=balanced, gamma=auto, kernel=rbf;, score=0.636 total time=   2.3s\n",
            "[CV 5/10] END C=1, class_weight=balanced, gamma=auto, kernel=rbf;, score=0.626 total time=   3.3s\n",
            "[CV 6/10] END C=1, class_weight=balanced, gamma=auto, kernel=rbf;, score=0.621 total time=   3.3s\n",
            "[CV 7/10] END C=1, class_weight=balanced, gamma=auto, kernel=rbf;, score=0.629 total time=   2.3s\n",
            "[CV 8/10] END C=1, class_weight=balanced, gamma=auto, kernel=rbf;, score=0.621 total time=   2.3s\n",
            "[CV 9/10] END C=1, class_weight=balanced, gamma=auto, kernel=rbf;, score=0.618 total time=   2.4s\n",
            "[CV 10/10] END C=1, class_weight=balanced, gamma=auto, kernel=rbf;, score=0.611 total time=   2.3s\n",
            "[CV 1/10] END C=0.1, class_weight=None, gamma=scale, kernel=rbf;, score=0.562 total time=   2.9s\n",
            "[CV 2/10] END C=0.1, class_weight=None, gamma=scale, kernel=rbf;, score=0.571 total time=   3.1s\n",
            "[CV 3/10] END C=0.1, class_weight=None, gamma=scale, kernel=rbf;, score=0.529 total time=   2.3s\n",
            "[CV 4/10] END C=0.1, class_weight=None, gamma=scale, kernel=rbf;, score=0.543 total time=   2.2s\n",
            "[CV 5/10] END C=0.1, class_weight=None, gamma=scale, kernel=rbf;, score=0.548 total time=   2.2s\n",
            "[CV 6/10] END C=0.1, class_weight=None, gamma=scale, kernel=rbf;, score=0.588 total time=   2.2s\n",
            "[CV 7/10] END C=0.1, class_weight=None, gamma=scale, kernel=rbf;, score=0.560 total time=   2.6s\n",
            "[CV 8/10] END C=0.1, class_weight=None, gamma=scale, kernel=rbf;, score=0.598 total time=   3.1s\n",
            "[CV 9/10] END C=0.1, class_weight=None, gamma=scale, kernel=rbf;, score=0.585 total time=   2.7s\n",
            "[CV 10/10] END C=0.1, class_weight=None, gamma=scale, kernel=rbf;, score=0.563 total time=   2.1s\n",
            "[CV 1/10] END C=0.1, class_weight=None, gamma=auto, kernel=rbf;, score=0.514 total time=   2.9s\n",
            "[CV 2/10] END C=0.1, class_weight=None, gamma=auto, kernel=rbf;, score=0.519 total time=   3.7s\n",
            "[CV 3/10] END C=0.1, class_weight=None, gamma=auto, kernel=rbf;, score=0.524 total time=   7.3s\n",
            "[CV 4/10] END C=0.1, class_weight=None, gamma=auto, kernel=rbf;, score=0.548 total time=   3.6s\n",
            "[CV 5/10] END C=0.1, class_weight=None, gamma=auto, kernel=rbf;, score=0.540 total time=   2.5s\n",
            "[CV 6/10] END C=0.1, class_weight=None, gamma=auto, kernel=rbf;, score=0.521 total time=   2.2s\n",
            "[CV 7/10] END C=0.1, class_weight=None, gamma=auto, kernel=rbf;, score=0.521 total time=   2.8s\n",
            "[CV 8/10] END C=0.1, class_weight=None, gamma=auto, kernel=rbf;, score=0.517 total time=   3.4s\n",
            "[CV 9/10] END C=0.1, class_weight=None, gamma=auto, kernel=rbf;, score=0.508 total time=   2.6s\n",
            "[CV 10/10] END C=0.1, class_weight=None, gamma=auto, kernel=rbf;, score=0.508 total time=   2.3s\n",
            "[CV 1/10] END C=0.1, class_weight=balanced, gamma=scale, kernel=rbf;, score=0.562 total time=   2.3s\n",
            "[CV 2/10] END C=0.1, class_weight=balanced, gamma=scale, kernel=rbf;, score=0.571 total time=   2.2s\n",
            "[CV 3/10] END C=0.1, class_weight=balanced, gamma=scale, kernel=rbf;, score=0.529 total time=   2.3s\n",
            "[CV 4/10] END C=0.1, class_weight=balanced, gamma=scale, kernel=rbf;, score=0.543 total time=   3.1s\n",
            "[CV 5/10] END C=0.1, class_weight=balanced, gamma=scale, kernel=rbf;, score=0.548 total time=   2.8s\n",
            "[CV 6/10] END C=0.1, class_weight=balanced, gamma=scale, kernel=rbf;, score=0.588 total time=   2.2s\n",
            "[CV 7/10] END C=0.1, class_weight=balanced, gamma=scale, kernel=rbf;, score=0.560 total time=   2.2s\n",
            "[CV 8/10] END C=0.1, class_weight=balanced, gamma=scale, kernel=rbf;, score=0.598 total time=   2.2s\n",
            "[CV 9/10] END C=0.1, class_weight=balanced, gamma=scale, kernel=rbf;, score=0.580 total time=   2.3s\n",
            "[CV 10/10] END C=0.1, class_weight=balanced, gamma=scale, kernel=rbf;, score=0.563 total time=   3.1s\n",
            "[CV 1/10] END C=0.1, class_weight=balanced, gamma=auto, kernel=rbf;, score=0.514 total time=   3.3s\n",
            "[CV 2/10] END C=0.1, class_weight=balanced, gamma=auto, kernel=rbf;, score=0.519 total time=   2.4s\n",
            "[CV 3/10] END C=0.1, class_weight=balanced, gamma=auto, kernel=rbf;, score=0.524 total time=   2.3s\n",
            "[CV 4/10] END C=0.1, class_weight=balanced, gamma=auto, kernel=rbf;, score=0.548 total time=   2.3s\n",
            "[CV 5/10] END C=0.1, class_weight=balanced, gamma=auto, kernel=rbf;, score=0.540 total time=   2.3s\n",
            "[CV 6/10] END C=0.1, class_weight=balanced, gamma=auto, kernel=rbf;, score=0.521 total time=   3.0s\n",
            "[CV 7/10] END C=0.1, class_weight=balanced, gamma=auto, kernel=rbf;, score=0.521 total time=   3.3s\n",
            "[CV 8/10] END C=0.1, class_weight=balanced, gamma=auto, kernel=rbf;, score=0.517 total time=   2.5s\n",
            "[CV 9/10] END C=0.1, class_weight=balanced, gamma=auto, kernel=rbf;, score=0.618 total time=   2.8s\n",
            "[CV 10/10] END C=0.1, class_weight=balanced, gamma=auto, kernel=rbf;, score=0.518 total time=   3.4s\n",
            "[CV 1/10] END C=0.01, class_weight=None, gamma=scale, kernel=rbf;, score=0.567 total time=   3.1s\n",
            "[CV 2/10] END C=0.01, class_weight=None, gamma=scale, kernel=rbf;, score=0.567 total time=   3.3s\n",
            "[CV 3/10] END C=0.01, class_weight=None, gamma=scale, kernel=rbf;, score=0.517 total time=   2.7s\n",
            "[CV 4/10] END C=0.01, class_weight=None, gamma=scale, kernel=rbf;, score=0.540 total time=   2.3s\n",
            "[CV 5/10] END C=0.01, class_weight=None, gamma=scale, kernel=rbf;, score=0.548 total time=   2.2s\n",
            "[CV 6/10] END C=0.01, class_weight=None, gamma=scale, kernel=rbf;, score=0.581 total time=   2.3s\n",
            "[CV 7/10] END C=0.01, class_weight=None, gamma=scale, kernel=rbf;, score=0.557 total time=   2.4s\n",
            "[CV 8/10] END C=0.01, class_weight=None, gamma=scale, kernel=rbf;, score=0.574 total time=   3.3s\n",
            "[CV 9/10] END C=0.01, class_weight=None, gamma=scale, kernel=rbf;, score=0.573 total time=   2.9s\n",
            "[CV 10/10] END C=0.01, class_weight=None, gamma=scale, kernel=rbf;, score=0.547 total time=   2.2s\n",
            "[CV 1/10] END C=0.01, class_weight=None, gamma=auto, kernel=rbf;, score=0.514 total time=   2.2s\n",
            "[CV 2/10] END C=0.01, class_weight=None, gamma=auto, kernel=rbf;, score=0.519 total time=   2.3s\n",
            "[CV 3/10] END C=0.01, class_weight=None, gamma=auto, kernel=rbf;, score=0.524 total time=   2.3s\n",
            "[CV 4/10] END C=0.01, class_weight=None, gamma=auto, kernel=rbf;, score=0.548 total time=   3.1s\n",
            "[CV 5/10] END C=0.01, class_weight=None, gamma=auto, kernel=rbf;, score=0.540 total time=   3.2s\n",
            "[CV 6/10] END C=0.01, class_weight=None, gamma=auto, kernel=rbf;, score=0.521 total time=   2.3s\n",
            "[CV 7/10] END C=0.01, class_weight=None, gamma=auto, kernel=rbf;, score=0.521 total time=   2.3s\n",
            "[CV 8/10] END C=0.01, class_weight=None, gamma=auto, kernel=rbf;, score=0.517 total time=   2.3s\n",
            "[CV 9/10] END C=0.01, class_weight=None, gamma=auto, kernel=rbf;, score=0.499 total time=   2.2s\n",
            "[CV 10/10] END C=0.01, class_weight=None, gamma=auto, kernel=rbf;, score=0.499 total time=   2.9s\n",
            "[CV 1/10] END C=0.01, class_weight=balanced, gamma=scale, kernel=rbf;, score=0.567 total time=   3.3s\n",
            "[CV 2/10] END C=0.01, class_weight=balanced, gamma=scale, kernel=rbf;, score=0.567 total time=   2.5s\n",
            "[CV 3/10] END C=0.01, class_weight=balanced, gamma=scale, kernel=rbf;, score=0.517 total time=   2.2s\n",
            "[CV 4/10] END C=0.01, class_weight=balanced, gamma=scale, kernel=rbf;, score=0.540 total time=   2.2s\n",
            "[CV 5/10] END C=0.01, class_weight=balanced, gamma=scale, kernel=rbf;, score=0.548 total time=   2.3s\n",
            "[CV 6/10] END C=0.01, class_weight=balanced, gamma=scale, kernel=rbf;, score=0.581 total time=   2.7s\n",
            "[CV 7/10] END C=0.01, class_weight=balanced, gamma=scale, kernel=rbf;, score=0.557 total time=   3.2s\n",
            "[CV 8/10] END C=0.01, class_weight=balanced, gamma=scale, kernel=rbf;, score=0.574 total time=   2.7s\n",
            "[CV 9/10] END C=0.01, class_weight=balanced, gamma=scale, kernel=rbf;, score=0.573 total time=   2.5s\n",
            "[CV 10/10] END C=0.01, class_weight=balanced, gamma=scale, kernel=rbf;, score=0.547 total time=   2.4s\n",
            "[CV 1/10] END C=0.01, class_weight=balanced, gamma=auto, kernel=rbf;, score=0.514 total time=   2.2s\n",
            "[CV 2/10] END C=0.01, class_weight=balanced, gamma=auto, kernel=rbf;, score=0.519 total time=   2.5s\n",
            "[CV 3/10] END C=0.01, class_weight=balanced, gamma=auto, kernel=rbf;, score=0.524 total time=   3.4s\n",
            "[CV 4/10] END C=0.01, class_weight=balanced, gamma=auto, kernel=rbf;, score=0.548 total time=   2.9s\n",
            "[CV 5/10] END C=0.01, class_weight=balanced, gamma=auto, kernel=rbf;, score=0.540 total time=   2.3s\n",
            "[CV 6/10] END C=0.01, class_weight=balanced, gamma=auto, kernel=rbf;, score=0.521 total time=   2.3s\n",
            "[CV 7/10] END C=0.01, class_weight=balanced, gamma=auto, kernel=rbf;, score=0.521 total time=   2.3s\n",
            "[CV 8/10] END C=0.01, class_weight=balanced, gamma=auto, kernel=rbf;, score=0.517 total time=   2.2s\n",
            "[CV 9/10] END C=0.01, class_weight=balanced, gamma=auto, kernel=rbf;, score=0.501 total time=   3.4s\n",
            "[CV 10/10] END C=0.01, class_weight=balanced, gamma=auto, kernel=rbf;, score=0.501 total time=   3.1s\n",
            "\n",
            "{'C': 100, 'class_weight': None, 'gamma': 'scale', 'kernel': 'rbf'}\n",
            "SVC(C=100, random_state=0)\n"
          ]
        }
      ],
      "source": [
        "clf = svm.SVC(random_state=random_state)\n",
        "CV_rfc = GridSearchCV(estimator=clf,\n",
        "                      param_grid=param_grid,\n",
        "                      cv= 10,\n",
        "                      verbose=3)\n",
        "CV_rfc.fit(X_train, y_train)\n",
        "\n",
        "print('')\n",
        "print(CV_rfc.best_params_)\n",
        "print(CV_rfc.best_estimator_)"
      ]
    },
    {
      "cell_type": "code",
      "execution_count": null,
      "metadata": {
        "colab": {
          "base_uri": "https://localhost:8080/"
        },
        "id": "0JjddrtFYnqr",
        "outputId": "777516b5-31cd-4af1-9f65-2b360f371c87"
      },
      "outputs": [
        {
          "name": "stdout",
          "output_type": "stream",
          "text": [
            "train scores \n",
            "\n",
            "accuracy: 0.705\n",
            "f1: 0.711\n",
            "balanced accuracy: 0.705\n",
            "matthews corrcoeff: 0.411\n",
            "\n",
            "val scores \n",
            "\n",
            "accuracy: 0.674\n",
            "f1: 0.794\n",
            "balanced accuracy: 0.577\n",
            "matthews corrcoeff: 0.096\n"
          ]
        }
      ],
      "source": [
        "clf = svm.SVC(C=100,  random_state=random_state)\n",
        "fit = clf.fit(X_train, y_train)\n",
        "\n",
        "y_pred = fit.predict(X_train)\n",
        "y_val_pred = fit.predict(X_val)\n",
        "\n",
        "# calculate statistical metrics accuracy for training set\n",
        "train_accuracy = metrics.accuracy_score(y_train, y_pred)\n",
        "val_accuracy = metrics.accuracy_score(y_val, y_val_pred)\n",
        "\n",
        "# calculate statistical metrics for training set\n",
        "train_f1 = metrics.f1_score(y_train, y_pred, average = 'binary')\n",
        "train_ba = metrics.balanced_accuracy_score(y_train, y_pred)\n",
        "train_mcc = metrics.matthews_corrcoef(y_train, y_pred)\n",
        "\n",
        "# calculate statistical metrics for val set\n",
        "val_f1 = metrics.f1_score(y_val, y_val_pred, average = 'binary')\n",
        "val_ba = metrics.balanced_accuracy_score(y_val, y_val_pred)\n",
        "val_mcc = metrics.matthews_corrcoef(y_val, y_val_pred)\n",
        "\n",
        "print(f'train scores \\n')\n",
        "print(f'accuracy: {train_accuracy:.3f}')\n",
        "print(f'f1: {train_f1:.3f}')\n",
        "print(f'balanced accuracy: {train_ba:.3f}')\n",
        "print(f'matthews corrcoeff: {train_mcc:.3f}')\n",
        "print('')\n",
        "print(f'val scores \\n')\n",
        "print(f'accuracy: {val_accuracy:.3f}')\n",
        "print(f'f1: {val_f1:.3f}')\n",
        "print(f'balanced accuracy: {val_ba:.3f}')\n",
        "print(f'matthews corrcoeff: {val_mcc:.3f}')"
      ]
    },
    {
      "cell_type": "markdown",
      "metadata": {
        "id": "rga94Zp5BV8M"
      },
      "source": [
        "### poly"
      ]
    },
    {
      "cell_type": "code",
      "execution_count": null,
      "metadata": {
        "id": "j8LSAFrRBWtX"
      },
      "outputs": [],
      "source": [
        "param_grid = {\n",
        "    'kernel': ['poly',],\n",
        "    #'gamma': ['scale', 'auto'],\n",
        "    'class_weight':[None, 'balanced'],\n",
        "    'C': [100, 10, 1, 0.1, 0.01]\n",
        "}"
      ]
    },
    {
      "cell_type": "code",
      "execution_count": null,
      "metadata": {
        "colab": {
          "base_uri": "https://localhost:8080/"
        },
        "id": "LZ1ZG7teBWtY",
        "outputId": "b8e174d4-b820-4105-a01d-b3f4117d90a3"
      },
      "outputs": [
        {
          "name": "stdout",
          "output_type": "stream",
          "text": [
            "Fitting 10 folds for each of 10 candidates, totalling 100 fits\n",
            "[CV 1/10] END C=100, class_weight=None, kernel=poly;, score=0.629 total time=   3.4s\n",
            "[CV 2/10] END C=100, class_weight=None, kernel=poly;, score=0.693 total time=   3.6s\n",
            "[CV 3/10] END C=100, class_weight=None, kernel=poly;, score=0.621 total time=   5.2s\n",
            "[CV 4/10] END C=100, class_weight=None, kernel=poly;, score=0.638 total time=   3.5s\n",
            "[CV 5/10] END C=100, class_weight=None, kernel=poly;, score=0.657 total time=   3.5s\n",
            "[CV 6/10] END C=100, class_weight=None, kernel=poly;, score=0.662 total time=   3.9s\n",
            "[CV 7/10] END C=100, class_weight=None, kernel=poly;, score=0.688 total time=   4.8s\n",
            "[CV 8/10] END C=100, class_weight=None, kernel=poly;, score=0.650 total time=   3.3s\n",
            "[CV 9/10] END C=100, class_weight=None, kernel=poly;, score=0.671 total time=   3.6s\n",
            "[CV 10/10] END C=100, class_weight=None, kernel=poly;, score=0.656 total time=   3.8s\n",
            "[CV 1/10] END C=100, class_weight=balanced, kernel=poly;, score=0.629 total time=   4.8s\n",
            "[CV 2/10] END C=100, class_weight=balanced, kernel=poly;, score=0.693 total time=   3.3s\n",
            "[CV 3/10] END C=100, class_weight=balanced, kernel=poly;, score=0.621 total time=   3.5s\n",
            "[CV 4/10] END C=100, class_weight=balanced, kernel=poly;, score=0.638 total time=   3.9s\n",
            "[CV 5/10] END C=100, class_weight=balanced, kernel=poly;, score=0.657 total time=   5.1s\n",
            "[CV 6/10] END C=100, class_weight=balanced, kernel=poly;, score=0.662 total time=   3.5s\n",
            "[CV 7/10] END C=100, class_weight=balanced, kernel=poly;, score=0.688 total time=   3.4s\n",
            "[CV 8/10] END C=100, class_weight=balanced, kernel=poly;, score=0.650 total time=   3.6s\n",
            "[CV 9/10] END C=100, class_weight=balanced, kernel=poly;, score=0.671 total time=   5.0s\n",
            "[CV 10/10] END C=100, class_weight=balanced, kernel=poly;, score=0.656 total time=   3.5s\n",
            "[CV 1/10] END C=10, class_weight=None, kernel=poly;, score=0.583 total time=   2.2s\n",
            "[CV 2/10] END C=10, class_weight=None, kernel=poly;, score=0.586 total time=   2.3s\n",
            "[CV 3/10] END C=10, class_weight=None, kernel=poly;, score=0.571 total time=   2.6s\n",
            "[CV 4/10] END C=10, class_weight=None, kernel=poly;, score=0.574 total time=   3.1s\n",
            "[CV 5/10] END C=10, class_weight=None, kernel=poly;, score=0.607 total time=   2.8s\n",
            "[CV 6/10] END C=10, class_weight=None, kernel=poly;, score=0.588 total time=   2.4s\n",
            "[CV 7/10] END C=10, class_weight=None, kernel=poly;, score=0.581 total time=   2.4s\n",
            "[CV 8/10] END C=10, class_weight=None, kernel=poly;, score=0.588 total time=   2.5s\n",
            "[CV 9/10] END C=10, class_weight=None, kernel=poly;, score=0.616 total time=   3.0s\n",
            "[CV 10/10] END C=10, class_weight=None, kernel=poly;, score=0.556 total time=   3.4s\n",
            "[CV 1/10] END C=10, class_weight=balanced, kernel=poly;, score=0.583 total time=   2.6s\n",
            "[CV 2/10] END C=10, class_weight=balanced, kernel=poly;, score=0.586 total time=   2.4s\n",
            "[CV 3/10] END C=10, class_weight=balanced, kernel=poly;, score=0.571 total time=   2.8s\n",
            "[CV 4/10] END C=10, class_weight=balanced, kernel=poly;, score=0.574 total time=   3.5s\n",
            "[CV 5/10] END C=10, class_weight=balanced, kernel=poly;, score=0.607 total time=   3.8s\n",
            "[CV 6/10] END C=10, class_weight=balanced, kernel=poly;, score=0.588 total time=   3.2s\n",
            "[CV 7/10] END C=10, class_weight=balanced, kernel=poly;, score=0.581 total time=   2.3s\n",
            "[CV 8/10] END C=10, class_weight=balanced, kernel=poly;, score=0.588 total time=   2.4s\n",
            "[CV 9/10] END C=10, class_weight=balanced, kernel=poly;, score=0.613 total time=   2.6s\n",
            "[CV 10/10] END C=10, class_weight=balanced, kernel=poly;, score=0.556 total time=   2.8s\n",
            "[CV 1/10] END C=1, class_weight=None, kernel=poly;, score=0.555 total time=   3.0s\n",
            "[CV 2/10] END C=1, class_weight=None, kernel=poly;, score=0.567 total time=   2.7s\n",
            "[CV 3/10] END C=1, class_weight=None, kernel=poly;, score=0.519 total time=   2.3s\n",
            "[CV 4/10] END C=1, class_weight=None, kernel=poly;, score=0.545 total time=   2.2s\n",
            "[CV 5/10] END C=1, class_weight=None, kernel=poly;, score=0.548 total time=   2.3s\n",
            "[CV 6/10] END C=1, class_weight=None, kernel=poly;, score=0.543 total time=   2.3s\n",
            "[CV 7/10] END C=1, class_weight=None, kernel=poly;, score=0.550 total time=   3.1s\n",
            "[CV 8/10] END C=1, class_weight=None, kernel=poly;, score=0.567 total time=   2.8s\n",
            "[CV 9/10] END C=1, class_weight=None, kernel=poly;, score=0.592 total time=   2.3s\n",
            "[CV 10/10] END C=1, class_weight=None, kernel=poly;, score=0.527 total time=   2.3s\n",
            "[CV 1/10] END C=1, class_weight=balanced, kernel=poly;, score=0.555 total time=   2.2s\n",
            "[CV 2/10] END C=1, class_weight=balanced, kernel=poly;, score=0.567 total time=   2.2s\n",
            "[CV 3/10] END C=1, class_weight=balanced, kernel=poly;, score=0.519 total time=   3.0s\n",
            "[CV 4/10] END C=1, class_weight=balanced, kernel=poly;, score=0.545 total time=   3.1s\n",
            "[CV 5/10] END C=1, class_weight=balanced, kernel=poly;, score=0.548 total time=   2.3s\n",
            "[CV 6/10] END C=1, class_weight=balanced, kernel=poly;, score=0.543 total time=   2.2s\n",
            "[CV 7/10] END C=1, class_weight=balanced, kernel=poly;, score=0.550 total time=   2.2s\n",
            "[CV 8/10] END C=1, class_weight=balanced, kernel=poly;, score=0.567 total time=   2.2s\n",
            "[CV 9/10] END C=1, class_weight=balanced, kernel=poly;, score=0.592 total time=   2.9s\n",
            "[CV 10/10] END C=1, class_weight=balanced, kernel=poly;, score=0.527 total time=   3.4s\n",
            "[CV 1/10] END C=0.1, class_weight=None, kernel=poly;, score=0.531 total time=   2.2s\n",
            "[CV 2/10] END C=0.1, class_weight=None, kernel=poly;, score=0.550 total time=   2.2s\n",
            "[CV 3/10] END C=0.1, class_weight=None, kernel=poly;, score=0.507 total time=   2.1s\n",
            "[CV 4/10] END C=0.1, class_weight=None, kernel=poly;, score=0.531 total time=   2.1s\n",
            "[CV 5/10] END C=0.1, class_weight=None, kernel=poly;, score=0.526 total time=   2.0s\n",
            "[CV 6/10] END C=0.1, class_weight=None, kernel=poly;, score=0.538 total time=   2.8s\n",
            "[CV 7/10] END C=0.1, class_weight=None, kernel=poly;, score=0.550 total time=   2.7s\n",
            "[CV 8/10] END C=0.1, class_weight=None, kernel=poly;, score=0.536 total time=   2.0s\n",
            "[CV 9/10] END C=0.1, class_weight=None, kernel=poly;, score=0.568 total time=   1.9s\n",
            "[CV 10/10] END C=0.1, class_weight=None, kernel=poly;, score=0.508 total time=   1.9s\n",
            "[CV 1/10] END C=0.1, class_weight=balanced, kernel=poly;, score=0.531 total time=   1.9s\n",
            "[CV 2/10] END C=0.1, class_weight=balanced, kernel=poly;, score=0.550 total time=   2.0s\n",
            "[CV 3/10] END C=0.1, class_weight=balanced, kernel=poly;, score=0.507 total time=   2.6s\n",
            "[CV 4/10] END C=0.1, class_weight=balanced, kernel=poly;, score=0.531 total time=   2.7s\n",
            "[CV 5/10] END C=0.1, class_weight=balanced, kernel=poly;, score=0.526 total time=   2.1s\n",
            "[CV 6/10] END C=0.1, class_weight=balanced, kernel=poly;, score=0.538 total time=   2.0s\n",
            "[CV 7/10] END C=0.1, class_weight=balanced, kernel=poly;, score=0.550 total time=   2.0s\n",
            "[CV 8/10] END C=0.1, class_weight=balanced, kernel=poly;, score=0.536 total time=   1.9s\n",
            "[CV 9/10] END C=0.1, class_weight=balanced, kernel=poly;, score=0.568 total time=   2.1s\n",
            "[CV 10/10] END C=0.1, class_weight=balanced, kernel=poly;, score=0.508 total time=   2.6s\n",
            "[CV 1/10] END C=0.01, class_weight=None, kernel=poly;, score=0.526 total time=   2.6s\n",
            "[CV 2/10] END C=0.01, class_weight=None, kernel=poly;, score=0.536 total time=   2.1s\n",
            "[CV 3/10] END C=0.01, class_weight=None, kernel=poly;, score=0.502 total time=   1.9s\n",
            "[CV 4/10] END C=0.01, class_weight=None, kernel=poly;, score=0.517 total time=   2.0s\n",
            "[CV 5/10] END C=0.01, class_weight=None, kernel=poly;, score=0.529 total time=   1.9s\n",
            "[CV 6/10] END C=0.01, class_weight=None, kernel=poly;, score=0.536 total time=   1.9s\n",
            "[CV 7/10] END C=0.01, class_weight=None, kernel=poly;, score=0.538 total time=   2.2s\n",
            "[CV 8/10] END C=0.01, class_weight=None, kernel=poly;, score=0.521 total time=   2.6s\n",
            "[CV 9/10] END C=0.01, class_weight=None, kernel=poly;, score=0.561 total time=   2.4s\n",
            "[CV 10/10] END C=0.01, class_weight=None, kernel=poly;, score=0.511 total time=   2.0s\n",
            "[CV 1/10] END C=0.01, class_weight=balanced, kernel=poly;, score=0.526 total time=   1.9s\n",
            "[CV 2/10] END C=0.01, class_weight=balanced, kernel=poly;, score=0.536 total time=   1.8s\n",
            "[CV 3/10] END C=0.01, class_weight=balanced, kernel=poly;, score=0.502 total time=   1.9s\n",
            "[CV 4/10] END C=0.01, class_weight=balanced, kernel=poly;, score=0.517 total time=   1.9s\n",
            "[CV 5/10] END C=0.01, class_weight=balanced, kernel=poly;, score=0.529 total time=   2.7s\n",
            "[CV 6/10] END C=0.01, class_weight=balanced, kernel=poly;, score=0.536 total time=   2.7s\n",
            "[CV 7/10] END C=0.01, class_weight=balanced, kernel=poly;, score=0.538 total time=   2.0s\n",
            "[CV 8/10] END C=0.01, class_weight=balanced, kernel=poly;, score=0.521 total time=   1.9s\n",
            "[CV 9/10] END C=0.01, class_weight=balanced, kernel=poly;, score=0.561 total time=   2.0s\n",
            "[CV 10/10] END C=0.01, class_weight=balanced, kernel=poly;, score=0.511 total time=   2.1s\n",
            "\n",
            "{'C': 100, 'class_weight': None, 'kernel': 'poly'}\n",
            "SVC(C=100, kernel='poly', random_state=0)\n"
          ]
        }
      ],
      "source": [
        "clf = svm.SVC(random_state=random_state)\n",
        "CV_rfc = GridSearchCV(estimator=clf,\n",
        "                      param_grid=param_grid,\n",
        "                      cv= 10,\n",
        "                      verbose=3)\n",
        "CV_rfc.fit(X_train, y_train)\n",
        "\n",
        "print('')\n",
        "print(CV_rfc.best_params_)\n",
        "print(CV_rfc.best_estimator_)"
      ]
    },
    {
      "cell_type": "code",
      "execution_count": null,
      "metadata": {
        "colab": {
          "base_uri": "https://localhost:8080/"
        },
        "id": "rdkX4gUxBWta",
        "outputId": "717ec511-96fb-48a4-ca35-3193dbf910e4"
      },
      "outputs": [
        {
          "name": "stdout",
          "output_type": "stream",
          "text": [
            "train scores \n",
            "\n",
            "accuracy: 0.668\n",
            "f1: 0.691\n",
            "balanced accuracy: 0.668\n",
            "matthews corrcoeff: 0.340\n",
            "\n",
            "val scores \n",
            "\n",
            "accuracy: 0.698\n",
            "f1: 0.815\n",
            "balanced accuracy: 0.547\n",
            "matthews corrcoeff: 0.061\n"
          ]
        }
      ],
      "source": [
        "clf = svm.SVC(C=100, kernel='poly', random_state=random_state)\n",
        "fit = clf.fit(X_train, y_train)\n",
        "\n",
        "y_pred = fit.predict(X_train)\n",
        "y_val_pred = fit.predict(X_val)\n",
        "\n",
        "# calculate statistical metrics accuracy for training set\n",
        "train_accuracy = metrics.accuracy_score(y_train, y_pred)\n",
        "val_accuracy = metrics.accuracy_score(y_val, y_val_pred)\n",
        "\n",
        "# calculate statistical metrics for training set\n",
        "train_f1 = metrics.f1_score(y_train, y_pred, average = 'binary')\n",
        "train_ba = metrics.balanced_accuracy_score(y_train, y_pred)\n",
        "train_mcc = metrics.matthews_corrcoef(y_train, y_pred)\n",
        "\n",
        "# calculate statistical metrics for val set\n",
        "val_f1 = metrics.f1_score(y_val, y_val_pred, average = 'binary')\n",
        "val_ba = metrics.balanced_accuracy_score(y_val, y_val_pred)\n",
        "val_mcc = metrics.matthews_corrcoef(y_val, y_val_pred)\n",
        "\n",
        "print(f'train scores \\n')\n",
        "print(f'accuracy: {train_accuracy:.3f}')\n",
        "print(f'f1: {train_f1:.3f}')\n",
        "print(f'balanced accuracy: {train_ba:.3f}')\n",
        "print(f'matthews corrcoeff: {train_mcc:.3f}')\n",
        "print('')\n",
        "print(f'val scores \\n')\n",
        "print(f'accuracy: {val_accuracy:.3f}')\n",
        "print(f'f1: {val_f1:.3f}')\n",
        "print(f'balanced accuracy: {val_ba:.3f}')\n",
        "print(f'matthews corrcoeff: {val_mcc:.3f}')"
      ]
    },
    {
      "cell_type": "markdown",
      "metadata": {},
      "source": [
        "### sigmoid"
      ]
    },
    {
      "cell_type": "code",
      "execution_count": null,
      "metadata": {
        "id": "MoeungSpFsvs"
      },
      "outputs": [],
      "source": [
        "param_grid = {\n",
        "    'kernel': ['sigmoid',],\n",
        "    #'gamma': ['scale', 'auto'],\n",
        "    'class_weight':[None, 'balanced'],\n",
        "    'C': [100, 10, 1, 0.1, 0.01]\n",
        "}"
      ]
    },
    {
      "cell_type": "code",
      "execution_count": null,
      "metadata": {
        "colab": {
          "base_uri": "https://localhost:8080/"
        },
        "id": "jDwqR6mZFsvy",
        "outputId": "89eaa2b4-0184-4ac5-eba7-89682c961f37"
      },
      "outputs": [
        {
          "name": "stdout",
          "output_type": "stream",
          "text": [
            "Fitting 10 folds for each of 10 candidates, totalling 100 fits\n",
            "[CV 1/10] END C=100, class_weight=None, kernel=sigmoid;, score=0.510 total time=   2.7s\n",
            "[CV 2/10] END C=100, class_weight=None, kernel=sigmoid;, score=0.495 total time=   2.1s\n",
            "[CV 3/10] END C=100, class_weight=None, kernel=sigmoid;, score=0.505 total time=   1.8s\n",
            "[CV 4/10] END C=100, class_weight=None, kernel=sigmoid;, score=0.471 total time=   2.3s\n",
            "[CV 5/10] END C=100, class_weight=None, kernel=sigmoid;, score=0.483 total time=   2.2s\n",
            "[CV 6/10] END C=100, class_weight=None, kernel=sigmoid;, score=0.481 total time=   1.5s\n",
            "[CV 7/10] END C=100, class_weight=None, kernel=sigmoid;, score=0.457 total time=   1.5s\n",
            "[CV 8/10] END C=100, class_weight=None, kernel=sigmoid;, score=0.457 total time=   1.6s\n",
            "[CV 9/10] END C=100, class_weight=None, kernel=sigmoid;, score=0.439 total time=   2.0s\n",
            "[CV 10/10] END C=100, class_weight=None, kernel=sigmoid;, score=0.499 total time=   1.7s\n",
            "[CV 1/10] END C=100, class_weight=balanced, kernel=sigmoid;, score=0.510 total time=   1.9s\n",
            "[CV 2/10] END C=100, class_weight=balanced, kernel=sigmoid;, score=0.495 total time=   1.5s\n",
            "[CV 3/10] END C=100, class_weight=balanced, kernel=sigmoid;, score=0.505 total time=   1.5s\n",
            "[CV 4/10] END C=100, class_weight=balanced, kernel=sigmoid;, score=0.471 total time=   1.5s\n",
            "[CV 5/10] END C=100, class_weight=balanced, kernel=sigmoid;, score=0.483 total time=   1.5s\n",
            "[CV 6/10] END C=100, class_weight=balanced, kernel=sigmoid;, score=0.481 total time=   1.5s\n",
            "[CV 7/10] END C=100, class_weight=balanced, kernel=sigmoid;, score=0.457 total time=   1.5s\n",
            "[CV 8/10] END C=100, class_weight=balanced, kernel=sigmoid;, score=0.457 total time=   1.7s\n",
            "[CV 9/10] END C=100, class_weight=balanced, kernel=sigmoid;, score=0.437 total time=   2.1s\n",
            "[CV 10/10] END C=100, class_weight=balanced, kernel=sigmoid;, score=0.499 total time=   1.8s\n",
            "[CV 1/10] END C=10, class_weight=None, kernel=sigmoid;, score=0.510 total time=   1.7s\n",
            "[CV 2/10] END C=10, class_weight=None, kernel=sigmoid;, score=0.498 total time=   1.5s\n",
            "[CV 3/10] END C=10, class_weight=None, kernel=sigmoid;, score=0.505 total time=   1.5s\n",
            "[CV 4/10] END C=10, class_weight=None, kernel=sigmoid;, score=0.474 total time=   1.5s\n",
            "[CV 5/10] END C=10, class_weight=None, kernel=sigmoid;, score=0.483 total time=   1.5s\n",
            "[CV 6/10] END C=10, class_weight=None, kernel=sigmoid;, score=0.481 total time=   1.5s\n",
            "[CV 7/10] END C=10, class_weight=None, kernel=sigmoid;, score=0.460 total time=   1.5s\n",
            "[CV 8/10] END C=10, class_weight=None, kernel=sigmoid;, score=0.460 total time=   1.8s\n",
            "[CV 9/10] END C=10, class_weight=None, kernel=sigmoid;, score=0.442 total time=   1.9s\n",
            "[CV 10/10] END C=10, class_weight=None, kernel=sigmoid;, score=0.501 total time=   1.7s\n",
            "[CV 1/10] END C=10, class_weight=balanced, kernel=sigmoid;, score=0.510 total time=   1.6s\n",
            "[CV 2/10] END C=10, class_weight=balanced, kernel=sigmoid;, score=0.498 total time=   1.5s\n",
            "[CV 3/10] END C=10, class_weight=balanced, kernel=sigmoid;, score=0.505 total time=   1.5s\n",
            "[CV 4/10] END C=10, class_weight=balanced, kernel=sigmoid;, score=0.474 total time=   1.5s\n",
            "[CV 5/10] END C=10, class_weight=balanced, kernel=sigmoid;, score=0.483 total time=   1.5s\n",
            "[CV 6/10] END C=10, class_weight=balanced, kernel=sigmoid;, score=0.481 total time=   1.5s\n",
            "[CV 7/10] END C=10, class_weight=balanced, kernel=sigmoid;, score=0.460 total time=   1.5s\n",
            "[CV 8/10] END C=10, class_weight=balanced, kernel=sigmoid;, score=0.460 total time=   1.9s\n",
            "[CV 9/10] END C=10, class_weight=balanced, kernel=sigmoid;, score=0.439 total time=   2.1s\n",
            "[CV 10/10] END C=10, class_weight=balanced, kernel=sigmoid;, score=0.501 total time=   1.8s\n",
            "[CV 1/10] END C=1, class_weight=None, kernel=sigmoid;, score=0.512 total time=   1.5s\n",
            "[CV 2/10] END C=1, class_weight=None, kernel=sigmoid;, score=0.507 total time=   1.5s\n",
            "[CV 3/10] END C=1, class_weight=None, kernel=sigmoid;, score=0.500 total time=   1.6s\n",
            "[CV 4/10] END C=1, class_weight=None, kernel=sigmoid;, score=0.481 total time=   1.5s\n",
            "[CV 5/10] END C=1, class_weight=None, kernel=sigmoid;, score=0.488 total time=   1.5s\n",
            "[CV 6/10] END C=1, class_weight=None, kernel=sigmoid;, score=0.486 total time=   1.6s\n",
            "[CV 7/10] END C=1, class_weight=None, kernel=sigmoid;, score=0.462 total time=   1.8s\n",
            "[CV 8/10] END C=1, class_weight=None, kernel=sigmoid;, score=0.464 total time=   2.0s\n",
            "[CV 9/10] END C=1, class_weight=None, kernel=sigmoid;, score=0.439 total time=   2.0s\n",
            "[CV 10/10] END C=1, class_weight=None, kernel=sigmoid;, score=0.499 total time=   1.5s\n",
            "[CV 1/10] END C=1, class_weight=balanced, kernel=sigmoid;, score=0.512 total time=   1.5s\n",
            "[CV 2/10] END C=1, class_weight=balanced, kernel=sigmoid;, score=0.507 total time=   1.5s\n",
            "[CV 3/10] END C=1, class_weight=balanced, kernel=sigmoid;, score=0.500 total time=   1.5s\n",
            "[CV 4/10] END C=1, class_weight=balanced, kernel=sigmoid;, score=0.481 total time=   1.5s\n",
            "[CV 5/10] END C=1, class_weight=balanced, kernel=sigmoid;, score=0.488 total time=   1.5s\n",
            "[CV 6/10] END C=1, class_weight=balanced, kernel=sigmoid;, score=0.486 total time=   1.5s\n",
            "[CV 7/10] END C=1, class_weight=balanced, kernel=sigmoid;, score=0.462 total time=   2.0s\n",
            "[CV 8/10] END C=1, class_weight=balanced, kernel=sigmoid;, score=0.464 total time=   2.0s\n",
            "[CV 9/10] END C=1, class_weight=balanced, kernel=sigmoid;, score=0.439 total time=   2.0s\n",
            "[CV 10/10] END C=1, class_weight=balanced, kernel=sigmoid;, score=0.499 total time=   1.7s\n",
            "[CV 1/10] END C=0.1, class_weight=None, kernel=sigmoid;, score=0.514 total time=   1.9s\n",
            "[CV 2/10] END C=0.1, class_weight=None, kernel=sigmoid;, score=0.507 total time=   1.9s\n",
            "[CV 3/10] END C=0.1, class_weight=None, kernel=sigmoid;, score=0.500 total time=   1.9s\n",
            "[CV 4/10] END C=0.1, class_weight=None, kernel=sigmoid;, score=0.483 total time=   1.9s\n",
            "[CV 5/10] END C=0.1, class_weight=None, kernel=sigmoid;, score=0.507 total time=   2.4s\n",
            "[CV 6/10] END C=0.1, class_weight=None, kernel=sigmoid;, score=0.490 total time=   2.5s\n",
            "[CV 7/10] END C=0.1, class_weight=None, kernel=sigmoid;, score=0.471 total time=   2.2s\n",
            "[CV 8/10] END C=0.1, class_weight=None, kernel=sigmoid;, score=0.469 total time=   1.9s\n",
            "[CV 9/10] END C=0.1, class_weight=None, kernel=sigmoid;, score=0.451 total time=   1.9s\n",
            "[CV 10/10] END C=0.1, class_weight=None, kernel=sigmoid;, score=0.508 total time=   1.9s\n",
            "[CV 1/10] END C=0.1, class_weight=balanced, kernel=sigmoid;, score=0.514 total time=   1.9s\n",
            "[CV 2/10] END C=0.1, class_weight=balanced, kernel=sigmoid;, score=0.507 total time=   2.1s\n",
            "[CV 3/10] END C=0.1, class_weight=balanced, kernel=sigmoid;, score=0.500 total time=   2.5s\n",
            "[CV 4/10] END C=0.1, class_weight=balanced, kernel=sigmoid;, score=0.483 total time=   2.5s\n",
            "[CV 5/10] END C=0.1, class_weight=balanced, kernel=sigmoid;, score=0.507 total time=   1.9s\n",
            "[CV 6/10] END C=0.1, class_weight=balanced, kernel=sigmoid;, score=0.490 total time=   1.9s\n",
            "[CV 7/10] END C=0.1, class_weight=balanced, kernel=sigmoid;, score=0.471 total time=   1.9s\n",
            "[CV 8/10] END C=0.1, class_weight=balanced, kernel=sigmoid;, score=0.469 total time=   1.9s\n",
            "[CV 9/10] END C=0.1, class_weight=balanced, kernel=sigmoid;, score=0.451 total time=   2.0s\n",
            "[CV 10/10] END C=0.1, class_weight=balanced, kernel=sigmoid;, score=0.508 total time=   2.5s\n",
            "[CV 1/10] END C=0.01, class_weight=None, kernel=sigmoid;, score=0.519 total time=   3.6s\n",
            "[CV 2/10] END C=0.01, class_weight=None, kernel=sigmoid;, score=0.517 total time=   2.7s\n",
            "[CV 3/10] END C=0.01, class_weight=None, kernel=sigmoid;, score=0.505 total time=   2.8s\n",
            "[CV 4/10] END C=0.01, class_weight=None, kernel=sigmoid;, score=0.490 total time=   2.8s\n",
            "[CV 5/10] END C=0.01, class_weight=None, kernel=sigmoid;, score=0.507 total time=   3.2s\n",
            "[CV 6/10] END C=0.01, class_weight=None, kernel=sigmoid;, score=0.517 total time=   3.7s\n",
            "[CV 7/10] END C=0.01, class_weight=None, kernel=sigmoid;, score=0.500 total time=   2.9s\n",
            "[CV 8/10] END C=0.01, class_weight=None, kernel=sigmoid;, score=0.517 total time=   2.8s\n",
            "[CV 9/10] END C=0.01, class_weight=None, kernel=sigmoid;, score=0.499 total time=   2.8s\n",
            "[CV 10/10] END C=0.01, class_weight=None, kernel=sigmoid;, score=0.499 total time=   3.1s\n",
            "[CV 1/10] END C=0.01, class_weight=balanced, kernel=sigmoid;, score=0.519 total time=   3.7s\n",
            "[CV 2/10] END C=0.01, class_weight=balanced, kernel=sigmoid;, score=0.517 total time=   3.0s\n",
            "[CV 3/10] END C=0.01, class_weight=balanced, kernel=sigmoid;, score=0.505 total time=   2.8s\n",
            "[CV 4/10] END C=0.01, class_weight=balanced, kernel=sigmoid;, score=0.490 total time=   3.8s\n",
            "[CV 5/10] END C=0.01, class_weight=balanced, kernel=sigmoid;, score=0.507 total time=   3.8s\n",
            "[CV 6/10] END C=0.01, class_weight=balanced, kernel=sigmoid;, score=0.517 total time=   3.6s\n",
            "[CV 7/10] END C=0.01, class_weight=balanced, kernel=sigmoid;, score=0.500 total time=   2.8s\n",
            "[CV 8/10] END C=0.01, class_weight=balanced, kernel=sigmoid;, score=0.517 total time=   2.8s\n",
            "[CV 9/10] END C=0.01, class_weight=balanced, kernel=sigmoid;, score=0.501 total time=   3.0s\n",
            "[CV 10/10] END C=0.01, class_weight=balanced, kernel=sigmoid;, score=0.501 total time=   3.5s\n",
            "\n",
            "{'C': 0.01, 'class_weight': 'balanced', 'kernel': 'sigmoid'}\n",
            "SVC(C=0.01, class_weight='balanced', kernel='sigmoid', random_state=0)\n"
          ]
        }
      ],
      "source": [
        "clf = svm.SVC(random_state=random_state)\n",
        "CV_rfc = GridSearchCV(estimator=clf,\n",
        "                      param_grid=param_grid,\n",
        "                      cv= 10,\n",
        "                      verbose=3)\n",
        "CV_rfc.fit(X_train, y_train)\n",
        "\n",
        "print('')\n",
        "print(CV_rfc.best_params_)\n",
        "print(CV_rfc.best_estimator_)"
      ]
    },
    {
      "cell_type": "code",
      "execution_count": null,
      "metadata": {
        "colab": {
          "base_uri": "https://localhost:8080/"
        },
        "id": "OoarL9rzFsv0",
        "outputId": "37288e6e-0c8b-413a-c17b-1e133fc9ec18"
      },
      "outputs": [
        {
          "name": "stdout",
          "output_type": "stream",
          "text": [
            "train scores \n",
            "\n",
            "accuracy: 0.510\n",
            "f1: 0.115\n",
            "balanced accuracy: 0.510\n",
            "matthews corrcoeff: 0.046\n",
            "\n",
            "val scores \n",
            "\n",
            "accuracy: 0.171\n",
            "f1: 0.160\n",
            "balanced accuracy: 0.537\n",
            "matthews corrcoeff: 0.078\n"
          ]
        }
      ],
      "source": [
        "clf = svm.SVC(C=0.01, class_weight='balanced', kernel='sigmoid', random_state=random_state)\n",
        "fit = clf.fit(X_train, y_train)\n",
        "\n",
        "y_pred = fit.predict(X_train)\n",
        "y_val_pred = fit.predict(X_val)\n",
        "\n",
        "# calculate statistical metrics accuracy for training set\n",
        "train_accuracy = metrics.accuracy_score(y_train, y_pred)\n",
        "val_accuracy = metrics.accuracy_score(y_val, y_val_pred)\n",
        "\n",
        "# calculate statistical metrics for training set\n",
        "train_f1 = metrics.f1_score(y_train, y_pred, average = 'binary')\n",
        "train_ba = metrics.balanced_accuracy_score(y_train, y_pred)\n",
        "train_mcc = metrics.matthews_corrcoef(y_train, y_pred)\n",
        "\n",
        "# calculate statistical metrics for val set\n",
        "val_f1 = metrics.f1_score(y_val, y_val_pred, average = 'binary')\n",
        "val_ba = metrics.balanced_accuracy_score(y_val, y_val_pred)\n",
        "val_mcc = metrics.matthews_corrcoef(y_val, y_val_pred)\n",
        "\n",
        "print(f'train scores \\n')\n",
        "print(f'accuracy: {train_accuracy:.3f}')\n",
        "print(f'f1: {train_f1:.3f}')\n",
        "print(f'balanced accuracy: {train_ba:.3f}')\n",
        "print(f'matthews corrcoeff: {train_mcc:.3f}')\n",
        "print('')\n",
        "print(f'val scores \\n')\n",
        "print(f'accuracy: {val_accuracy:.3f}')\n",
        "print(f'f1: {val_f1:.3f}')\n",
        "print(f'balanced accuracy: {val_ba:.3f}')\n",
        "print(f'matthews corrcoeff: {val_mcc:.3f}')"
      ]
    },
    {
      "cell_type": "code",
      "execution_count": null,
      "metadata": {
        "id": "0DOTGd5QG7vn"
      },
      "outputs": [],
      "source": []
    },
    {
      "cell_type": "markdown",
      "metadata": {},
      "source": [
        "### linear"
      ]
    },
    {
      "cell_type": "code",
      "execution_count": 10,
      "metadata": {
        "id": "ZtOeCpT0HLqN"
      },
      "outputs": [],
      "source": [
        "param_grid = {\n",
        "    'kernel': ['linear',],\n",
        "    #'gamma': ['scale', 'auto'],\n",
        "    #'class_weight':[None, 'balanced'],\n",
        "    'C': [0.01, 0.1, 1, 10, 100],\n",
        "}"
      ]
    },
    {
      "cell_type": "code",
      "execution_count": 11,
      "metadata": {
        "colab": {
          "base_uri": "https://localhost:8080/"
        },
        "id": "2efFChY8HLqP",
        "outputId": "f5d3478f-6d2d-43f1-a287-b0e9e2eb7254"
      },
      "outputs": [
        {
          "name": "stdout",
          "output_type": "stream",
          "text": [
            "Fitting 10 folds for each of 5 candidates, totalling 50 fits\n",
            "[CV 1/10] END ............C=0.01, kernel=linear;, score=0.645 total time=44.8min\n",
            "[CV 2/10] END ............C=0.01, kernel=linear;, score=0.769 total time=29.2min\n"
          ]
        }
      ],
      "source": [
        "clf = svm.SVC(random_state=random_state)\n",
        "CV_rfc = GridSearchCV(estimator=clf,\n",
        "                      param_grid=param_grid,\n",
        "                      cv= 10,\n",
        "                      verbose=3)\n",
        "CV_rfc.fit(X_train, y_train)\n",
        "\n",
        "print('')\n",
        "print(CV_rfc.best_params_)\n",
        "print(CV_rfc.best_estimator_)"
      ]
    },
    {
      "cell_type": "code",
      "execution_count": null,
      "metadata": {
        "colab": {
          "base_uri": "https://localhost:8080/"
        },
        "id": "qm6Q6CR0HLqS",
        "outputId": "37288e6e-0c8b-413a-c17b-1e133fc9ec18"
      },
      "outputs": [
        {
          "name": "stdout",
          "output_type": "stream",
          "text": [
            "train scores \n",
            "\n",
            "accuracy: 0.510\n",
            "f1: 0.115\n",
            "balanced accuracy: 0.510\n",
            "matthews corrcoeff: 0.046\n",
            "\n",
            "val scores \n",
            "\n",
            "accuracy: 0.171\n",
            "f1: 0.160\n",
            "balanced accuracy: 0.537\n",
            "matthews corrcoeff: 0.078\n"
          ]
        }
      ],
      "source": [
        "clf = svm.SVC(C=0.01, class_weight='balanced', kernel='sigmoid', random_state=random_state)\n",
        "fit = clf.fit(X_train, y_train)\n",
        "\n",
        "y_pred = fit.predict(X_train)\n",
        "y_val_pred = fit.predict(X_val)\n",
        "\n",
        "# calculate statistical metrics accuracy for training set\n",
        "train_accuracy = metrics.accuracy_score(y_train, y_pred)\n",
        "val_accuracy = metrics.accuracy_score(y_val, y_val_pred)\n",
        "\n",
        "# calculate statistical metrics for training set\n",
        "train_f1 = metrics.f1_score(y_train, y_pred, average = 'binary')\n",
        "train_ba = metrics.balanced_accuracy_score(y_train, y_pred)\n",
        "train_mcc = metrics.matthews_corrcoef(y_train, y_pred)\n",
        "\n",
        "# calculate statistical metrics for val set\n",
        "val_f1 = metrics.f1_score(y_val, y_val_pred, average = 'binary')\n",
        "val_ba = metrics.balanced_accuracy_score(y_val, y_val_pred)\n",
        "val_mcc = metrics.matthews_corrcoef(y_val, y_val_pred)\n",
        "\n",
        "print(f'train scores \\n')\n",
        "print(f'accuracy: {train_accuracy:.3f}')\n",
        "print(f'f1: {train_f1:.3f}')\n",
        "print(f'balanced accuracy: {train_ba:.3f}')\n",
        "print(f'matthews corrcoeff: {train_mcc:.3f}')\n",
        "print('')\n",
        "print(f'val scores \\n')\n",
        "print(f'accuracy: {val_accuracy:.3f}')\n",
        "print(f'f1: {val_f1:.3f}')\n",
        "print(f'balanced accuracy: {val_ba:.3f}')\n",
        "print(f'matthews corrcoeff: {val_mcc:.3f}')"
      ]
    },
    {
      "cell_type": "markdown",
      "metadata": {},
      "source": [
        "## rfecv"
      ]
    },
    {
      "cell_type": "code",
      "execution_count": 10,
      "metadata": {},
      "outputs": [
        {
          "name": "stdout",
          "output_type": "stream",
          "text": [
            "Fitting estimator with 288 features.\n"
          ]
        }
      ],
      "source": [
        "svc=svm.SVC(kernel=\"linear\")\n",
        "rfecv = RFECV(estimator=svc, \n",
        "              step=30, \n",
        "              cv=KFold(10), # Stratified fold inorder to reduce bias\n",
        "              scoring='balanced_accuracy', \n",
        "              verbose=3)\n",
        "rfetrain=rfecv.fit(X_train, y_train)\n",
        "print('Optimal number of features :', rfecv.n_features_)\n",
        "\n",
        "\n",
        "# Plot showing the Cross Validation score\n",
        "plt.figure()\n",
        "plt.xlabel(\"Number of features selected\")\n",
        "plt.ylabel(\"Cross validation score (nb of correct classifications)\")\n",
        "plt.plot(range(1, len(rfecv.grid_scores_) + 1), rfecv.grid_scores_)\n",
        "plt.show()\n"
      ]
    },
    {
      "cell_type": "markdown",
      "metadata": {},
      "source": [
        "## halvinggridsearch"
      ]
    },
    {
      "cell_type": "code",
      "execution_count": 11,
      "metadata": {},
      "outputs": [],
      "source": [
        "param_grid = {\n",
        "    'kernel': ['linear',],\n",
        "    #'gamma': ['scale', 'auto'],\n",
        "    #'class_weight':[None, 'balanced'],\n",
        "    'C': [0.01, 0.1, 1, 10, 100],\n",
        "}"
      ]
    },
    {
      "cell_type": "code",
      "execution_count": 14,
      "metadata": {},
      "outputs": [],
      "source": [
        "from sklearn.experimental import enable_halving_search_cv"
      ]
    },
    {
      "cell_type": "code",
      "execution_count": 15,
      "metadata": {},
      "outputs": [
        {
          "name": "stdout",
          "output_type": "stream",
          "text": [
            "n_iterations: 2\n",
            "n_required_iterations: 2\n",
            "n_possible_iterations: 2\n",
            "min_resources_: 1399\n",
            "max_resources_: 4198\n",
            "aggressive_elimination: False\n",
            "factor: 3\n",
            "----------\n",
            "iter: 0\n",
            "n_candidates: 5\n",
            "n_resources: 1399\n",
            "Fitting 10 folds for each of 5 candidates, totalling 50 fits\n",
            "[CV 1/10] END C=0.01, kernel=linear;, score=(train=0.756, test=0.626) total time=15.4min\n",
            "[CV 2/10] END C=0.01, kernel=linear;, score=(train=0.754, test=0.741) total time=12.1min\n",
            "[CV 3/10] END C=0.01, kernel=linear;, score=(train=0.745, test=0.647) total time=13.4min\n",
            "[CV 4/10] END C=0.01, kernel=linear;, score=(train=0.756, test=0.799) total time=17.1min\n",
            "[CV 5/10] END C=0.01, kernel=linear;, score=(train=0.741, test=0.719) total time=18.5min\n",
            "[CV 6/10] END C=0.01, kernel=linear;, score=(train=0.732, test=0.719) total time=11.3min\n",
            "[CV 7/10] END C=0.01, kernel=linear;, score=(train=0.764, test=0.719) total time=10.6min\n",
            "[CV 8/10] END C=0.01, kernel=linear;, score=(train=0.739, test=0.770) total time=13.4min\n",
            "[CV 9/10] END C=0.01, kernel=linear;, score=(train=0.762, test=0.777) total time=16.0min\n",
            "[CV 10/10] END C=0.01, kernel=linear;, score=(train=0.733, test=0.669) total time= 8.7min\n",
            "[CV 1/10] END C=0.1, kernel=linear;, score=(train=0.732, test=0.647) total time=21.0min\n",
            "[CV 2/10] END C=0.1, kernel=linear;, score=(train=0.761, test=0.734) total time=19.9min\n",
            "[CV 3/10] END C=0.1, kernel=linear;, score=(train=0.724, test=0.676) total time= 6.9min\n",
            "[CV 4/10] END C=0.1, kernel=linear;, score=(train=0.744, test=0.770) total time=24.3min\n",
            "[CV 5/10] END C=0.1, kernel=linear;, score=(train=0.713, test=0.662) total time=20.5min\n",
            "[CV 6/10] END C=0.1, kernel=linear;, score=(train=0.709, test=0.734) total time=15.9min\n",
            "[CV 7/10] END C=0.1, kernel=linear;, score=(train=0.766, test=0.727) total time= 7.8min\n",
            "[CV 8/10] END C=0.1, kernel=linear;, score=(train=0.749, test=0.741) total time=20.1min\n",
            "[CV 9/10] END C=0.1, kernel=linear;, score=(train=0.744, test=0.799) total time= 9.6min\n",
            "[CV 10/10] END C=0.1, kernel=linear;, score=(train=0.751, test=0.683) total time=10.7min\n",
            "[CV 1/10] END C=1, kernel=linear;, score=(train=0.742, test=0.683) total time=20.2min\n",
            "[CV 2/10] END C=1, kernel=linear;, score=(train=0.754, test=0.727) total time=24.5min\n",
            "[CV 3/10] END C=1, kernel=linear;, score=(train=0.751, test=0.691) total time=24.3min\n",
            "[CV 4/10] END C=1, kernel=linear;, score=(train=0.754, test=0.777) total time=21.3min\n",
            "[CV 5/10] END C=1, kernel=linear;, score=(train=0.732, test=0.691) total time=17.1min\n",
            "[CV 6/10] END C=1, kernel=linear;, score=(train=0.728, test=0.698) total time=22.3min\n",
            "[CV 7/10] END C=1, kernel=linear;, score=(train=0.752, test=0.719) total time=28.7min\n",
            "[CV 8/10] END C=1, kernel=linear;, score=(train=0.737, test=0.784) total time=19.5min\n",
            "[CV 9/10] END C=1, kernel=linear;, score=(train=0.739, test=0.791) total time=22.6min\n",
            "[CV 10/10] END C=1, kernel=linear;, score=(train=0.747, test=0.705) total time=14.5min\n",
            "[CV 1/10] END C=10, kernel=linear;, score=(train=0.748, test=0.619) total time=22.5min\n",
            "[CV 2/10] END C=10, kernel=linear;, score=(train=0.754, test=0.741) total time=16.1min\n",
            "[CV 3/10] END C=10, kernel=linear;, score=(train=0.753, test=0.655) total time= 7.7min\n",
            "[CV 4/10] END C=10, kernel=linear;, score=(train=0.759, test=0.827) total time=13.6min\n",
            "[CV 5/10] END C=10, kernel=linear;, score=(train=0.746, test=0.719) total time=89.5min\n",
            "[CV 6/10] END C=10, kernel=linear;, score=(train=0.723, test=0.683) total time=23.6min\n",
            "[CV 7/10] END C=10, kernel=linear;, score=(train=0.752, test=0.719) total time=29.4min\n",
            "[CV 8/10] END C=10, kernel=linear;, score=(train=0.747, test=0.770) total time=17.4min\n",
            "[CV 9/10] END C=10, kernel=linear;, score=(train=0.750, test=0.755) total time=19.4min\n",
            "[CV 10/10] END C=10, kernel=linear;, score=(train=0.754, test=0.691) total time=22.5min\n",
            "[CV 1/10] END C=100, kernel=linear;, score=(train=0.743, test=0.633) total time=34.9min\n",
            "[CV 2/10] END C=100, kernel=linear;, score=(train=0.744, test=0.763) total time=14.9min\n",
            "[CV 3/10] END C=100, kernel=linear;, score=(train=0.743, test=0.662) total time=16.0min\n",
            "[CV 4/10] END C=100, kernel=linear;, score=(train=0.743, test=0.791) total time=32.5min\n",
            "[CV 5/10] END C=100, kernel=linear;, score=(train=0.720, test=0.683) total time=21.6min\n",
            "[CV 6/10] END C=100, kernel=linear;, score=(train=0.735, test=0.676) total time=16.6min\n",
            "[CV 7/10] END C=100, kernel=linear;, score=(train=0.761, test=0.755) total time=33.0min\n",
            "[CV 8/10] END C=100, kernel=linear;, score=(train=0.739, test=0.784) total time=58.2min\n",
            "[CV 9/10] END C=100, kernel=linear;, score=(train=0.746, test=0.763) total time=42.2min\n",
            "[CV 10/10] END C=100, kernel=linear;, score=(train=0.751, test=0.705) total time=29.2min\n",
            "----------\n",
            "iter: 1\n",
            "n_candidates: 2\n",
            "n_resources: 4197\n",
            "Fitting 10 folds for each of 2 candidates, totalling 20 fits\n",
            "[CV 1/10] END C=100, kernel=linear;, score=(train=0.788, test=0.659) total time=41.9min\n",
            "[CV 2/10] END C=100, kernel=linear;, score=(train=0.765, test=0.761) total time=123.5min\n",
            "[CV 3/10] END C=100, kernel=linear;, score=(train=0.755, test=0.733) total time=86.4min\n",
            "[CV 4/10] END C=100, kernel=linear;, score=(train=0.768, test=0.780) total time=83.5min\n",
            "[CV 5/10] END C=100, kernel=linear;, score=(train=0.770, test=0.773) total time=69.3min\n",
            "[CV 6/10] END C=100, kernel=linear;, score=(train=0.769, test=0.773) total time=126.0min\n",
            "[CV 7/10] END C=100, kernel=linear;, score=(train=0.768, test=0.778) total time=32.9min\n",
            "[CV 8/10] END C=100, kernel=linear;, score=(train=0.759, test=0.740) total time=54.9min\n",
            "[CV 9/10] END C=100, kernel=linear;, score=(train=0.777, test=0.775) total time=123.7min\n",
            "[CV 10/10] END C=100, kernel=linear;, score=(train=0.765, test=0.756) total time=58.0min\n",
            "[CV 1/10] END C=1, kernel=linear;, score=(train=0.787, test=0.649) total time=37.5min\n",
            "[CV 2/10] END C=1, kernel=linear;, score=(train=0.769, test=0.761) total time=27.1min\n",
            "[CV 3/10] END C=1, kernel=linear;, score=(train=0.770, test=0.757) total time=28.8min\n",
            "[CV 4/10] END C=1, kernel=linear;, score=(train=0.767, test=0.759) total time=43.5min\n",
            "[CV 5/10] END C=1, kernel=linear;, score=(train=0.768, test=0.747) total time=37.0min\n",
            "[CV 6/10] END C=1, kernel=linear;, score=(train=0.759, test=0.747) total time=68.5min\n",
            "[CV 7/10] END C=1, kernel=linear;, score=(train=0.765, test=0.773) total time=52.4min\n",
            "[CV 8/10] END C=1, kernel=linear;, score=(train=0.760, test=0.749) total time=97.4min\n",
            "[CV 9/10] END C=1, kernel=linear;, score=(train=0.766, test=0.751) total time=96.4min\n",
            "[CV 10/10] END C=1, kernel=linear;, score=(train=0.765, test=0.761) total time=72.8min\n",
            "\n",
            "{'C': 100, 'kernel': 'linear'}\n",
            "SVC(C=100, kernel='linear', random_state=0)\n"
          ]
        }
      ],
      "source": [
        "clf = svm.SVC(random_state=random_state)\n",
        "CV_rfc = model_selection.HalvingGridSearchCV(estimator=clf,\n",
        "                      param_grid=param_grid,\n",
        "                      cv= 10,\n",
        "                      verbose=3)\n",
        "CV_rfc.fit(X_train, y_train)\n",
        "\n",
        "print('')\n",
        "print(CV_rfc.best_params_)\n",
        "print(CV_rfc.best_estimator_)"
      ]
    },
    {
      "cell_type": "markdown",
      "metadata": {},
      "source": []
    }
  ],
  "metadata": {
    "colab": {
      "collapsed_sections": [
        "UjGMI-sFYSM6"
      ],
      "provenance": []
    },
    "kernelspec": {
      "display_name": "Python 3",
      "name": "python3"
    },
    "language_info": {
      "codemirror_mode": {
        "name": "ipython",
        "version": 3
      },
      "file_extension": ".py",
      "mimetype": "text/x-python",
      "name": "python",
      "nbconvert_exporter": "python",
      "pygments_lexer": "ipython3",
      "version": "3.10.12"
    }
  },
  "nbformat": 4,
  "nbformat_minor": 0
}
