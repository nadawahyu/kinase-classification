{
  "cells": [
    {
      "cell_type": "code",
      "execution_count": 1,
      "metadata": {
        "id": "xx1S5ouvrFCL"
      },
      "outputs": [],
      "source": [
        "# general data analysis package\n",
        "import pandas as pd\n",
        "import numpy as np\n",
        "import matplotlib.pyplot as plt\n",
        "import seaborn as sns\n",
        "\n",
        "# file management package\n",
        "import csv, sys\n",
        "import os\n",
        "import os.path\n",
        "import copy\n",
        "from tqdm.notebook import trange\n",
        "import warnings\n",
        "import pickle\n",
        "\n",
        "# preprocessing onwards\n",
        "from sklearn import preprocessing\n",
        "from sklearn import model_selection\n",
        "from sklearn.model_selection import train_test_split, RepeatedStratifiedKFold, GridSearchCV, KFold\n",
        "from sklearn.feature_selection import f_classif\n",
        "\n",
        "from imblearn.over_sampling import RandomOverSampler, SMOTE, ADASYN\n",
        "from imblearn.under_sampling import RandomUnderSampler, NearMiss\n",
        "from collections import Counter\n",
        "\n",
        "from sklearn import svm\n",
        "from sklearn.preprocessing import MaxAbsScaler, MinMaxScaler, Normalizer, PowerTransformer, QuantileTransformer, RobustScaler, StandardScaler\n",
        "from sklearn.metrics import classification_report, confusion_matrix\n",
        "from sklearn import metrics\n",
        "from sklearn.tree import export_graphviz\n",
        "from sklearn import tree\n",
        "from sklearn.inspection import DecisionBoundaryDisplay\n",
        "\n",
        "#from sklearn.exceptions import ConvergenceWarning\n",
        "from sklearn.feature_selection import SelectFromModel, RFECV\n",
        "from sklearn.inspection import permutation_importance"
      ]
    },
    {
      "cell_type": "code",
      "execution_count": 2,
      "metadata": {
        "colab": {
          "base_uri": "https://localhost:8080/",
          "height": 36
        },
        "id": "ASarjd8TrNAn",
        "outputId": "0239d098-a5c7-4724-f0e4-4a903d88a31b"
      },
      "outputs": [
        {
          "data": {
            "text/plain": [
              "'/Users/nadawahyu/Documents/Uni/Master/Forschungspraktikum_2/notebook'"
            ]
          },
          "execution_count": 2,
          "metadata": {},
          "output_type": "execute_result"
        }
      ],
      "source": [
        "pwd"
      ]
    },
    {
      "cell_type": "code",
      "execution_count": 3,
      "metadata": {
        "colab": {
          "base_uri": "https://localhost:8080/"
        },
        "id": "vBJxy6FarHVg",
        "outputId": "8089ffb5-eff4-400d-f780-b45c9ca27d3f"
      },
      "outputs": [
        {
          "name": "stdout",
          "output_type": "stream",
          "text": [
            "/Users/nadawahyu/Documents/Uni/Master/Forschungspraktikum_2/data\n"
          ]
        }
      ],
      "source": [
        "cd ../data"
      ]
    },
    {
      "cell_type": "code",
      "execution_count": 4,
      "metadata": {
        "id": "jJkxUUDtrXdz"
      },
      "outputs": [],
      "source": [
        "#data_da = pd.read_csv('data_allo_desc.csv')\n",
        "data_db = pd.read_csv('data_binding_desc.csv')\n",
        "\n",
        "#data_fa = pd.read_csv('data_allo_fp.csv')#.drop(['Unnamed: 0'], axis=1)\n",
        "#data_fa = data_fa[data_fa['LigandType']!='none']\n",
        "#data_fb = pd.read_csv('data_binding_fp.csv')#.drop(['Unnamed: 0'], axis=1)\n",
        "#data_fb = data_fb[data_fb['LigandType']!='none']"
      ]
    },
    {
      "cell_type": "code",
      "execution_count": 5,
      "metadata": {
        "id": "I_Ey7yhRrJ1M"
      },
      "outputs": [],
      "source": [
        "# read pickle\n",
        "#X_train_pa, X_val_pa, X_test_pa, y_train_pa, y_val_pa, y_test_pa, descnm_pa = pd.read_pickle('X_pa.pkl')\n",
        "#X_train_pb, X_val_pb, X_test_pb, y_train_pb, y_val_pb, y_test_pb, descnm_pb = pd.read_pickle('X_pb.pkl')\n",
        "#X_train_sa, X_val_sa, X_test_sa, y_train_sa, y_val_sa, y_test_sa, descnm_sa = pd.read_pickle('X_sa.pkl')\n",
        "#X_train_sb, X_val_sb, X_test_sb, y_train_sb, y_val_sb, y_test_sb, descnm_sb = pd.read_pickle('X_sb.pkl')\n",
        "#X_train_da, X_val_da, X_test_da, y_train_da, y_val_da, y_test_da, descnm_da = pd.read_pickle('X_da.pkl')\n",
        "X_train_db, X_val_db, X_test_db, y_train_db, y_val_db, y_test_db, descnm_db = pd.read_pickle('X_db.pkl')\n",
        "#X_train_fa, X_val_fa, X_test_fa, y_train_fa, y_val_fa, y_test_fa, descnm_fa = pd.read_pickle('X_fa.pkl')\n",
        "#X_train_fb, X_val_fb, X_test_fb, y_train_fb, y_val_fb, y_test_fb, descnm_fb = pd.read_pickle('X_fb.pkl')"
      ]
    },
    {
      "cell_type": "code",
      "execution_count": null,
      "metadata": {
        "id": "nWWezbnAMFNZ"
      },
      "outputs": [],
      "source": []
    },
    {
      "cell_type": "markdown",
      "metadata": {
        "id": "GpneWlNBra64"
      },
      "source": [
        "# da"
      ]
    },
    {
      "cell_type": "markdown",
      "metadata": {
        "id": "FKoRTVArrcTC"
      },
      "source": [
        "## internal validation"
      ]
    },
    {
      "cell_type": "code",
      "execution_count": 6,
      "metadata": {
        "id": "s9UeLiD3rU-p"
      },
      "outputs": [],
      "source": [
        "target='LigandType'\n",
        "col_to_drop=['lig_smiles', 'lig_at']\n",
        "test_size=0.2\n",
        "val_size = 0.2\n",
        "random_state=0\n",
        "\n",
        "data = data_db.copy()\n",
        "data_ = data.copy()\n",
        "\n",
        "# drop duplicate rows\n",
        "data_ = data.drop_duplicates().dropna()\n",
        "\n",
        "# drop cols with 'unnamed'\n",
        "colidx_to_drop = [i for i in data.columns if 'Unnamed' in i]\n",
        "\n",
        "#encode target\n",
        "to_mask = {}\n",
        "\n",
        "for i,j in enumerate(data_[target].unique()):\n",
        "  to_mask.update({j:i})\n",
        "\n",
        "data_ = data_.replace(to_mask)\n",
        "\n",
        "# separate x and y\n",
        "X = data_.loc[:, data_.columns.difference(col_to_drop+[target]+colidx_to_drop)]\n",
        "y = data_[target]\n",
        "\n",
        "# remove features that don't have variation\n",
        "X_out = X.loc[:,X.apply(pd.Series.nunique) != 1]\n",
        "mask = X_out.applymap(lambda x: isinstance(x, (int, float)))\n",
        "X_out2 = X_out.where(mask)\n",
        "X = X_out2.dropna(axis=1)\n",
        "\n",
        "# anova feature selection\n",
        "f_stat, p_val, = f_classif(X, y)\n",
        "\n",
        "# get index which probability is lower than p = 0.05\n",
        "idx = [i for i,j in enumerate(p_val) if j < 0.05]\n",
        "# select column with respective index\n",
        "X = X.iloc[:,idx]\n",
        "\n",
        "# split train-validation and test\n",
        "X_trainval, X_test, y_trainval, y_test = train_test_split(X, y, test_size = test_size, random_state=random_state, stratify=y)\n",
        "# split train and validation\n",
        "X_train, X_val, y_train, y_val = train_test_split(X_trainval, y_trainval, test_size = val_size/(1-val_size), random_state=random_state, stratify=y_trainval)\n",
        "\n",
        "descnm = np.array(X_train.columns)\n",
        "X_train = np.array(X_train)\n",
        "X_val = np.array(X_val)\n",
        "X_test = np.array(X_test)\n",
        "y_train = np.array(y_train)\n",
        "y_val = np.array(y_val)\n",
        "y_test = np.array(y_test)\n"
      ]
    },
    {
      "cell_type": "code",
      "execution_count": 7,
      "metadata": {},
      "outputs": [
        {
          "name": "stdout",
          "output_type": "stream",
          "text": [
            "0.5998575160294467\n",
            "0.1999525053431489\n",
            "0.20018997862740442\n"
          ]
        }
      ],
      "source": [
        "print(len(X_train)/len(data_))\n",
        "print(len(X_val)/len(data_))\n",
        "print(len(X_test)/len(data_))"
      ]
    },
    {
      "cell_type": "code",
      "execution_count": 8,
      "metadata": {
        "colab": {
          "base_uri": "https://localhost:8080/"
        },
        "id": "kxJIF9hPrekD",
        "outputId": "14c7790b-c951-4eb1-9e64-5a90f91df44a"
      },
      "outputs": [
        {
          "name": "stdout",
          "output_type": "stream",
          "text": [
            "train scores \n",
            "\n",
            "accuracy: 0.197\n",
            "f1: 0.073\n",
            "balanced accuracy: 0.197\n",
            "matthews corrcoeff: -0.012\n",
            "\n",
            "val scores \n",
            "\n",
            "accuracy: 0.059\n",
            "f1: 0.008\n",
            "balanced accuracy: 0.172\n",
            "matthews corrcoeff: -0.038\n"
          ]
        }
      ],
      "source": [
        "#X_train, y_train, X_val, y_val = X_train_da, y_train_da, X_val_da, y_val_da\n",
        "random_state = 0\n",
        "\n",
        "X_train, y_train  = SMOTE(random_state=random_state).fit_resample(X_train, y_train)\n",
        "\n",
        "clf = svm.SVC(random_state=random_state)\n",
        "fit = clf.fit(X_train, y_train)\n",
        "\n",
        "y_pred = fit.predict(X_train)\n",
        "y_val_pred = fit.predict(X_val)\n",
        "\n",
        "# calculate statistical metrics accuracy for training set\n",
        "train_accuracy = metrics.accuracy_score(y_train, y_pred)\n",
        "val_accuracy = metrics.accuracy_score(y_val, y_val_pred)\n",
        "\n",
        "# calculate statistical metrics for training set\n",
        "train_f1 = metrics.f1_score(y_train, y_pred, average = 'weighted',zero_division=0)\n",
        "train_ba = metrics.balanced_accuracy_score(y_train, y_pred)\n",
        "train_mcc = metrics.matthews_corrcoef(y_train, y_pred)\n",
        "\n",
        "# calculate statistical metrics for val set\n",
        "val_f1 = metrics.f1_score(y_val, y_val_pred, average = 'weighted',zero_division=0)\n",
        "val_ba = metrics.balanced_accuracy_score(y_val, y_val_pred)\n",
        "val_mcc = metrics.matthews_corrcoef(y_val, y_val_pred)\n",
        "\n",
        "print(f'train scores \\n')\n",
        "print(f'accuracy: {train_accuracy:.3f}')\n",
        "print(f'f1: {train_f1:.3f}')\n",
        "print(f'balanced accuracy: {train_ba:.3f}')\n",
        "print(f'matthews corrcoeff: {train_mcc:.3f}')\n",
        "print('')\n",
        "print(f'val scores \\n')\n",
        "print(f'accuracy: {val_accuracy:.3f}')\n",
        "print(f'f1: {val_f1:.3f}')\n",
        "print(f'balanced accuracy: {val_ba:.3f}')\n",
        "print(f'matthews corrcoeff: {val_mcc:.3f}')"
      ]
    },
    {
      "cell_type": "code",
      "execution_count": 9,
      "metadata": {
        "colab": {
          "base_uri": "https://localhost:8080/"
        },
        "id": "xxs1c8YyrgIM",
        "outputId": "b4bdeadd-2682-458d-96d2-761f86dadf08"
      },
      "outputs": [
        {
          "name": "stdout",
          "output_type": "stream",
          "text": [
            "              precision    recall  f1-score   support\n",
            "\n",
            "           0       0.00      0.00      0.00      2096\n",
            "           1       1.00      0.00      0.00      2096\n",
            "           2       0.20      0.97      0.33      2096\n",
            "           3       0.12      0.00      0.01      2096\n",
            "           4       0.07      0.01      0.02      2096\n",
            "\n",
            "    accuracy                           0.20     10480\n",
            "   macro avg       0.28      0.20      0.07     10480\n",
            "weighted avg       0.28      0.20      0.07     10480\n",
            "\n",
            "[[   0    0 2001   16   79]\n",
            " [   0    1 1987   26   82]\n",
            " [   0    0 2026    2   68]\n",
            " [   0    0 1926    6  164]\n",
            " [   0    0 2065    0   31]]\n"
          ]
        },
        {
          "name": "stderr",
          "output_type": "stream",
          "text": [
            "/opt/anaconda3/envs/kinase/lib/python3.10/site-packages/sklearn/metrics/_classification.py:1469: UndefinedMetricWarning: Precision and F-score are ill-defined and being set to 0.0 in labels with no predicted samples. Use `zero_division` parameter to control this behavior.\n",
            "  _warn_prf(average, modifier, msg_start, len(result))\n",
            "/opt/anaconda3/envs/kinase/lib/python3.10/site-packages/sklearn/metrics/_classification.py:1469: UndefinedMetricWarning: Precision and F-score are ill-defined and being set to 0.0 in labels with no predicted samples. Use `zero_division` parameter to control this behavior.\n",
            "  _warn_prf(average, modifier, msg_start, len(result))\n",
            "/opt/anaconda3/envs/kinase/lib/python3.10/site-packages/sklearn/metrics/_classification.py:1469: UndefinedMetricWarning: Precision and F-score are ill-defined and being set to 0.0 in labels with no predicted samples. Use `zero_division` parameter to control this behavior.\n",
            "  _warn_prf(average, modifier, msg_start, len(result))\n"
          ]
        }
      ],
      "source": [
        "print(classification_report(y_train, y_pred))\n",
        "print(confusion_matrix(y_train, y_pred))"
      ]
    },
    {
      "cell_type": "code",
      "execution_count": 10,
      "metadata": {
        "colab": {
          "base_uri": "https://localhost:8080/"
        },
        "id": "qC4dH0ZXrhgj",
        "outputId": "14fb0734-fe81-4eff-aa82-0ffdc27aa862"
      },
      "outputs": [
        {
          "name": "stdout",
          "output_type": "stream",
          "text": [
            "              precision    recall  f1-score   support\n",
            "\n",
            "           0       0.00      0.00      0.00        28\n",
            "           1       0.00      0.00      0.00       698\n",
            "           2       0.06      0.86      0.12        58\n",
            "           3       0.00      0.00      0.00        41\n",
            "           4       0.00      0.00      0.00        17\n",
            "\n",
            "    accuracy                           0.06       842\n",
            "   macro avg       0.01      0.17      0.02       842\n",
            "weighted avg       0.00      0.06      0.01       842\n",
            "\n",
            "[[  0   0  22   1   5]\n",
            " [  0   0 668   4  26]\n",
            " [  0   0  50   1   7]\n",
            " [  0   0  37   0   4]\n",
            " [  0   0  17   0   0]]\n"
          ]
        },
        {
          "name": "stderr",
          "output_type": "stream",
          "text": [
            "/opt/anaconda3/envs/kinase/lib/python3.10/site-packages/sklearn/metrics/_classification.py:1469: UndefinedMetricWarning: Precision and F-score are ill-defined and being set to 0.0 in labels with no predicted samples. Use `zero_division` parameter to control this behavior.\n",
            "  _warn_prf(average, modifier, msg_start, len(result))\n",
            "/opt/anaconda3/envs/kinase/lib/python3.10/site-packages/sklearn/metrics/_classification.py:1469: UndefinedMetricWarning: Precision and F-score are ill-defined and being set to 0.0 in labels with no predicted samples. Use `zero_division` parameter to control this behavior.\n",
            "  _warn_prf(average, modifier, msg_start, len(result))\n",
            "/opt/anaconda3/envs/kinase/lib/python3.10/site-packages/sklearn/metrics/_classification.py:1469: UndefinedMetricWarning: Precision and F-score are ill-defined and being set to 0.0 in labels with no predicted samples. Use `zero_division` parameter to control this behavior.\n",
            "  _warn_prf(average, modifier, msg_start, len(result))\n"
          ]
        }
      ],
      "source": [
        "print(classification_report(y_val, y_val_pred))\n",
        "print(confusion_matrix(y_val, y_val_pred))"
      ]
    },
    {
      "cell_type": "markdown",
      "metadata": {
        "id": "UjGMI-sFYSM6"
      },
      "source": [
        "## gridsearchcv C only"
      ]
    },
    {
      "cell_type": "code",
      "execution_count": 11,
      "metadata": {
        "id": "xluh9oG7XC_v"
      },
      "outputs": [],
      "source": [
        "param_grid = {\n",
        "    #'kernel': ['linear', 'poly', 'rbf', 'sigmoid', 'precomputed'],\n",
        "    #'gamma': ['scale', 'auto'],\n",
        "    #'class_weight':[None, 'balanced'],\n",
        "    'C': [100, 10, 1, 0.1, 0.01]\n",
        "}"
      ]
    },
    {
      "cell_type": "code",
      "execution_count": 12,
      "metadata": {
        "colab": {
          "base_uri": "https://localhost:8080/",
          "height": 426
        },
        "id": "BzS0PINHrjTu",
        "outputId": "433f359f-e484-4881-830a-f5f5c6495767"
      },
      "outputs": [
        {
          "name": "stdout",
          "output_type": "stream",
          "text": [
            "Fitting 10 folds for each of 5 candidates, totalling 50 fits\n",
            "[CV 1/10] END ............................C=100;, score=0.198 total time=  20.2s\n",
            "[CV 2/10] END ............................C=100;, score=0.189 total time=  21.9s\n",
            "[CV 3/10] END ............................C=100;, score=0.201 total time=  21.5s\n",
            "[CV 4/10] END ............................C=100;, score=0.199 total time=  20.7s\n",
            "[CV 5/10] END ............................C=100;, score=0.199 total time=  20.2s\n",
            "[CV 6/10] END ............................C=100;, score=0.199 total time=  19.0s\n",
            "[CV 7/10] END ............................C=100;, score=0.199 total time=  19.3s\n",
            "[CV 8/10] END ............................C=100;, score=0.199 total time=  19.5s\n",
            "[CV 9/10] END ............................C=100;, score=0.199 total time=  19.3s\n",
            "[CV 10/10] END ...........................C=100;, score=0.200 total time=  18.5s\n",
            "[CV 1/10] END .............................C=10;, score=0.197 total time=  19.2s\n",
            "[CV 2/10] END .............................C=10;, score=0.196 total time=  43.7s\n",
            "[CV 3/10] END .............................C=10;, score=0.201 total time=  26.7s\n",
            "[CV 4/10] END .............................C=10;, score=0.199 total time=  22.0s\n",
            "[CV 5/10] END .............................C=10;, score=0.199 total time=  27.2s\n",
            "[CV 6/10] END .............................C=10;, score=0.199 total time=  56.1s\n",
            "[CV 7/10] END .............................C=10;, score=0.199 total time=  45.5s\n",
            "[CV 8/10] END .............................C=10;, score=0.199 total time=  40.0s\n",
            "[CV 9/10] END .............................C=10;, score=0.199 total time=  26.7s\n",
            "[CV 10/10] END ............................C=10;, score=0.199 total time=  33.4s\n",
            "[CV 1/10] END ..............................C=1;, score=0.196 total time=  33.4s\n",
            "[CV 2/10] END ..............................C=1;, score=0.196 total time=  21.4s\n",
            "[CV 3/10] END ..............................C=1;, score=0.201 total time=  20.8s\n",
            "[CV 4/10] END ..............................C=1;, score=0.199 total time=  27.4s\n",
            "[CV 5/10] END ..............................C=1;, score=0.199 total time=  28.0s\n",
            "[CV 6/10] END ..............................C=1;, score=0.199 total time=  20.8s\n",
            "[CV 7/10] END ..............................C=1;, score=0.199 total time=  20.8s\n",
            "[CV 8/10] END ..............................C=1;, score=0.199 total time=  19.6s\n",
            "[CV 9/10] END ..............................C=1;, score=0.199 total time=  21.0s\n",
            "[CV 10/10] END .............................C=1;, score=0.199 total time=  20.6s\n",
            "[CV 1/10] END ............................C=0.1;, score=0.202 total time=  20.3s\n",
            "[CV 2/10] END ............................C=0.1;, score=0.200 total time=  19.8s\n",
            "[CV 3/10] END ............................C=0.1;, score=0.200 total time=  19.6s\n",
            "[CV 4/10] END ............................C=0.1;, score=0.199 total time=  40.0s\n",
            "[CV 5/10] END ............................C=0.1;, score=0.199 total time=  50.6s\n",
            "[CV 6/10] END ............................C=0.1;, score=0.199 total time= 1.6min\n",
            "[CV 7/10] END ............................C=0.1;, score=0.199 total time=  49.3s\n",
            "[CV 8/10] END ............................C=0.1;, score=0.199 total time=  25.2s\n",
            "[CV 9/10] END ............................C=0.1;, score=0.199 total time=  26.6s\n",
            "[CV 10/10] END ...........................C=0.1;, score=0.199 total time=  23.3s\n",
            "[CV 1/10] END ...........................C=0.01;, score=0.205 total time=  20.1s\n",
            "[CV 2/10] END ...........................C=0.01;, score=0.211 total time=  26.6s\n",
            "[CV 3/10] END ...........................C=0.01;, score=0.200 total time=  23.4s\n",
            "[CV 4/10] END ...........................C=0.01;, score=0.199 total time=  22.7s\n",
            "[CV 5/10] END ...........................C=0.01;, score=0.199 total time=  22.6s\n",
            "[CV 6/10] END ...........................C=0.01;, score=0.199 total time=  26.5s\n",
            "[CV 7/10] END ...........................C=0.01;, score=0.199 total time=  20.3s\n",
            "[CV 8/10] END ...........................C=0.01;, score=0.199 total time=  21.3s\n",
            "[CV 9/10] END ...........................C=0.01;, score=0.199 total time=  22.1s\n",
            "[CV 10/10] END ..........................C=0.01;, score=0.199 total time=  21.3s\n",
            "\n",
            "{'C': 0.01}\n",
            "SVC(C=0.01, random_state=0)\n"
          ]
        }
      ],
      "source": [
        "clf = svm.SVC(random_state=random_state)\n",
        "CV_rfc = GridSearchCV(estimator=clf,\n",
        "                      param_grid=param_grid,\n",
        "                      cv= 10,\n",
        "                      verbose=3)\n",
        "CV_rfc.fit(X_train, y_train)\n",
        "\n",
        "print('')\n",
        "print(CV_rfc.best_params_)\n",
        "print(CV_rfc.best_estimator_)"
      ]
    },
    {
      "cell_type": "code",
      "execution_count": null,
      "metadata": {
        "id": "7SzrDNIDstSG"
      },
      "outputs": [],
      "source": [
        "clf = svm.SVC(C=100, random_state=random_state)\n",
        "fit = clf.fit(X_train, y_train)\n",
        "\n",
        "y_pred = fit.predict(X_train)\n",
        "y_val_pred = fit.predict(X_val)\n",
        "\n",
        "# calculate statistical metrics accuracy for training set\n",
        "train_accuracy = metrics.accuracy_score(y_train, y_pred)\n",
        "val_accuracy = metrics.accuracy_score(y_val, y_val_pred)\n",
        "\n",
        "# calculate statistical metrics for training set\n",
        "train_f1 = metrics.f1_score(y_train, y_pred, average = 'weighted')\n",
        "train_ba = metrics.balanced_accuracy_score(y_train, y_pred)\n",
        "train_mcc = metrics.matthews_corrcoef(y_train, y_pred)\n",
        "\n",
        "# calculate statistical metrics for val set\n",
        "val_f1 = metrics.f1_score(y_val, y_val_pred, average = 'weighted')\n",
        "val_ba = metrics.balanced_accuracy_score(y_val, y_val_pred)\n",
        "val_mcc = metrics.matthews_corrcoef(y_val, y_val_pred)\n",
        "\n",
        "print(f'train scores \\n')\n",
        "print(f'accuracy: {train_accuracy:.3f}')\n",
        "print(f'f1: {train_f1:.3f}')\n",
        "print(f'balanced accuracy: {train_ba:.3f}')\n",
        "print(f'matthews corrcoeff: {train_mcc:.3f}')\n",
        "print('')\n",
        "print(f'val scores \\n')\n",
        "print(f'accuracy: {val_accuracy:.3f}')\n",
        "print(f'f1: {val_f1:.3f}')\n",
        "print(f'balanced accuracy: {val_ba:.3f}')\n",
        "print(f'matthews corrcoeff: {val_mcc:.3f}')"
      ]
    },
    {
      "cell_type": "markdown",
      "metadata": {
        "id": "D-m1rfN8YWWq"
      },
      "source": [
        "## gridsearchcv full"
      ]
    },
    {
      "cell_type": "markdown",
      "metadata": {
        "id": "jVaRu6S-Akuh"
      },
      "source": [
        "rbf"
      ]
    },
    {
      "cell_type": "code",
      "execution_count": null,
      "metadata": {
        "id": "H5Yq9jvxtC-h"
      },
      "outputs": [],
      "source": [
        "param_grid = {\n",
        "    'kernel': ['rbf',],\n",
        "    'gamma': ['scale', 'auto'],\n",
        "    'class_weight':[None, 'balanced'],\n",
        "    'C': [100, 10, 1, 0.1, 0.01]\n",
        "}"
      ]
    },
    {
      "cell_type": "code",
      "execution_count": null,
      "metadata": {
        "colab": {
          "base_uri": "https://localhost:8080/"
        },
        "id": "ah5IdC1dZiNj",
        "outputId": "a71fb0ab-f745-4e77-8982-204fdc440a6b"
      },
      "outputs": [
        {
          "name": "stdout",
          "output_type": "stream",
          "text": [
            "Fitting 10 folds for each of 20 candidates, totalling 200 fits\n",
            "[CV 1/10] END C=100, class_weight=None, gamma=scale, kernel=rbf;, score=0.685 total time=   1.1s\n",
            "[CV 2/10] END C=100, class_weight=None, gamma=scale, kernel=rbf;, score=0.895 total time=   1.1s\n",
            "[CV 3/10] END C=100, class_weight=None, gamma=scale, kernel=rbf;, score=0.874 total time=   1.1s\n",
            "[CV 4/10] END C=100, class_weight=None, gamma=scale, kernel=rbf;, score=0.862 total time=   1.1s\n",
            "[CV 5/10] END C=100, class_weight=None, gamma=scale, kernel=rbf;, score=0.871 total time=   1.1s\n",
            "[CV 6/10] END C=100, class_weight=None, gamma=scale, kernel=rbf;, score=0.878 total time=   1.1s\n",
            "[CV 7/10] END C=100, class_weight=None, gamma=scale, kernel=rbf;, score=0.847 total time=   1.1s\n",
            "[CV 8/10] END C=100, class_weight=None, gamma=scale, kernel=rbf;, score=0.876 total time=   1.1s\n",
            "[CV 9/10] END C=100, class_weight=None, gamma=scale, kernel=rbf;, score=0.833 total time=   1.3s\n",
            "[CV 10/10] END C=100, class_weight=None, gamma=scale, kernel=rbf;, score=0.890 total time=   1.5s\n",
            "[CV 1/10] END C=100, class_weight=None, gamma=auto, kernel=rbf;, score=0.971 total time=   4.6s\n",
            "[CV 2/10] END C=100, class_weight=None, gamma=auto, kernel=rbf;, score=0.936 total time=   2.2s\n",
            "[CV 3/10] END C=100, class_weight=None, gamma=auto, kernel=rbf;, score=0.919 total time=   2.1s\n",
            "[CV 4/10] END C=100, class_weight=None, gamma=auto, kernel=rbf;, score=0.933 total time=   2.4s\n",
            "[CV 5/10] END C=100, class_weight=None, gamma=auto, kernel=rbf;, score=0.916 total time=   2.0s\n",
            "[CV 6/10] END C=100, class_weight=None, gamma=auto, kernel=rbf;, score=0.933 total time=   1.7s\n",
            "[CV 7/10] END C=100, class_weight=None, gamma=auto, kernel=rbf;, score=0.947 total time=   2.0s\n",
            "[CV 8/10] END C=100, class_weight=None, gamma=auto, kernel=rbf;, score=0.940 total time=   2.3s\n",
            "[CV 9/10] END C=100, class_weight=None, gamma=auto, kernel=rbf;, score=0.947 total time=   1.5s\n",
            "[CV 10/10] END C=100, class_weight=None, gamma=auto, kernel=rbf;, score=0.945 total time=   1.5s\n",
            "[CV 1/10] END C=100, class_weight=balanced, gamma=scale, kernel=rbf;, score=0.685 total time=   1.1s\n",
            "[CV 2/10] END C=100, class_weight=balanced, gamma=scale, kernel=rbf;, score=0.895 total time=   1.1s\n",
            "[CV 3/10] END C=100, class_weight=balanced, gamma=scale, kernel=rbf;, score=0.874 total time=   1.1s\n",
            "[CV 4/10] END C=100, class_weight=balanced, gamma=scale, kernel=rbf;, score=0.864 total time=   1.1s\n",
            "[CV 5/10] END C=100, class_weight=balanced, gamma=scale, kernel=rbf;, score=0.871 total time=   1.1s\n",
            "[CV 6/10] END C=100, class_weight=balanced, gamma=scale, kernel=rbf;, score=0.878 total time=   1.1s\n",
            "[CV 7/10] END C=100, class_weight=balanced, gamma=scale, kernel=rbf;, score=0.845 total time=   1.3s\n",
            "[CV 8/10] END C=100, class_weight=balanced, gamma=scale, kernel=rbf;, score=0.876 total time=   1.6s\n",
            "[CV 9/10] END C=100, class_weight=balanced, gamma=scale, kernel=rbf;, score=0.833 total time=   1.6s\n",
            "[CV 10/10] END C=100, class_weight=balanced, gamma=scale, kernel=rbf;, score=0.890 total time=   1.6s\n",
            "[CV 1/10] END C=100, class_weight=balanced, gamma=auto, kernel=rbf;, score=0.971 total time=   1.7s\n",
            "[CV 2/10] END C=100, class_weight=balanced, gamma=auto, kernel=rbf;, score=0.936 total time=   1.4s\n",
            "[CV 3/10] END C=100, class_weight=balanced, gamma=auto, kernel=rbf;, score=0.919 total time=   1.5s\n",
            "[CV 4/10] END C=100, class_weight=balanced, gamma=auto, kernel=rbf;, score=0.933 total time=   1.5s\n",
            "[CV 5/10] END C=100, class_weight=balanced, gamma=auto, kernel=rbf;, score=0.916 total time=   1.4s\n",
            "[CV 6/10] END C=100, class_weight=balanced, gamma=auto, kernel=rbf;, score=0.933 total time=   1.4s\n",
            "[CV 7/10] END C=100, class_weight=balanced, gamma=auto, kernel=rbf;, score=0.947 total time=   1.4s\n",
            "[CV 8/10] END C=100, class_weight=balanced, gamma=auto, kernel=rbf;, score=0.940 total time=   1.9s\n",
            "[CV 9/10] END C=100, class_weight=balanced, gamma=auto, kernel=rbf;, score=0.947 total time=   2.0s\n",
            "[CV 10/10] END C=100, class_weight=balanced, gamma=auto, kernel=rbf;, score=0.945 total time=   2.1s\n",
            "[CV 1/10] END C=10, class_weight=None, gamma=scale, kernel=rbf;, score=0.640 total time=   1.2s\n",
            "[CV 2/10] END C=10, class_weight=None, gamma=scale, kernel=rbf;, score=0.766 total time=   1.0s\n",
            "[CV 3/10] END C=10, class_weight=None, gamma=scale, kernel=rbf;, score=0.737 total time=   1.0s\n",
            "[CV 4/10] END C=10, class_weight=None, gamma=scale, kernel=rbf;, score=0.749 total time=   1.0s\n",
            "[CV 5/10] END C=10, class_weight=None, gamma=scale, kernel=rbf;, score=0.761 total time=   1.0s\n",
            "[CV 6/10] END C=10, class_weight=None, gamma=scale, kernel=rbf;, score=0.776 total time=   1.0s\n",
            "[CV 7/10] END C=10, class_weight=None, gamma=scale, kernel=rbf;, score=0.742 total time=   1.0s\n",
            "[CV 8/10] END C=10, class_weight=None, gamma=scale, kernel=rbf;, score=0.773 total time=   1.0s\n",
            "[CV 9/10] END C=10, class_weight=None, gamma=scale, kernel=rbf;, score=0.726 total time=   1.0s\n",
            "[CV 10/10] END C=10, class_weight=None, gamma=scale, kernel=rbf;, score=0.771 total time=   1.0s\n",
            "[CV 1/10] END C=10, class_weight=None, gamma=auto, kernel=rbf;, score=0.971 total time=   2.1s\n",
            "[CV 2/10] END C=10, class_weight=None, gamma=auto, kernel=rbf;, score=0.936 total time=   2.0s\n",
            "[CV 3/10] END C=10, class_weight=None, gamma=auto, kernel=rbf;, score=0.919 total time=   2.0s\n",
            "[CV 4/10] END C=10, class_weight=None, gamma=auto, kernel=rbf;, score=0.933 total time=   1.5s\n",
            "[CV 5/10] END C=10, class_weight=None, gamma=auto, kernel=rbf;, score=0.916 total time=   1.4s\n",
            "[CV 6/10] END C=10, class_weight=None, gamma=auto, kernel=rbf;, score=0.933 total time=   1.4s\n",
            "[CV 7/10] END C=10, class_weight=None, gamma=auto, kernel=rbf;, score=0.947 total time=   1.4s\n",
            "[CV 8/10] END C=10, class_weight=None, gamma=auto, kernel=rbf;, score=0.940 total time=   1.5s\n",
            "[CV 9/10] END C=10, class_weight=None, gamma=auto, kernel=rbf;, score=0.947 total time=   1.3s\n",
            "[CV 10/10] END C=10, class_weight=None, gamma=auto, kernel=rbf;, score=0.945 total time=   2.1s\n",
            "[CV 1/10] END C=10, class_weight=balanced, gamma=scale, kernel=rbf;, score=0.640 total time=   1.6s\n",
            "[CV 2/10] END C=10, class_weight=balanced, gamma=scale, kernel=rbf;, score=0.766 total time=   1.7s\n",
            "[CV 3/10] END C=10, class_weight=balanced, gamma=scale, kernel=rbf;, score=0.737 total time=   1.6s\n",
            "[CV 4/10] END C=10, class_weight=balanced, gamma=scale, kernel=rbf;, score=0.749 total time=   1.3s\n",
            "[CV 5/10] END C=10, class_weight=balanced, gamma=scale, kernel=rbf;, score=0.761 total time=   1.2s\n",
            "[CV 6/10] END C=10, class_weight=balanced, gamma=scale, kernel=rbf;, score=0.776 total time=   1.2s\n",
            "[CV 7/10] END C=10, class_weight=balanced, gamma=scale, kernel=rbf;, score=0.742 total time=   1.1s\n",
            "[CV 8/10] END C=10, class_weight=balanced, gamma=scale, kernel=rbf;, score=0.773 total time=   1.1s\n",
            "[CV 9/10] END C=10, class_weight=balanced, gamma=scale, kernel=rbf;, score=0.726 total time=   1.1s\n",
            "[CV 10/10] END C=10, class_weight=balanced, gamma=scale, kernel=rbf;, score=0.771 total time=   1.1s\n",
            "[CV 1/10] END C=10, class_weight=balanced, gamma=auto, kernel=rbf;, score=0.971 total time=   1.5s\n",
            "[CV 2/10] END C=10, class_weight=balanced, gamma=auto, kernel=rbf;, score=0.936 total time=   1.7s\n",
            "[CV 3/10] END C=10, class_weight=balanced, gamma=auto, kernel=rbf;, score=0.919 total time=   2.2s\n",
            "[CV 4/10] END C=10, class_weight=balanced, gamma=auto, kernel=rbf;, score=0.933 total time=   2.1s\n",
            "[CV 5/10] END C=10, class_weight=balanced, gamma=auto, kernel=rbf;, score=0.916 total time=   1.6s\n",
            "[CV 6/10] END C=10, class_weight=balanced, gamma=auto, kernel=rbf;, score=0.933 total time=   1.3s\n",
            "[CV 7/10] END C=10, class_weight=balanced, gamma=auto, kernel=rbf;, score=0.947 total time=   1.4s\n",
            "[CV 8/10] END C=10, class_weight=balanced, gamma=auto, kernel=rbf;, score=0.940 total time=   1.5s\n",
            "[CV 9/10] END C=10, class_weight=balanced, gamma=auto, kernel=rbf;, score=0.947 total time=   1.4s\n",
            "[CV 10/10] END C=10, class_weight=balanced, gamma=auto, kernel=rbf;, score=0.945 total time=   1.5s\n",
            "[CV 1/10] END C=1, class_weight=None, gamma=scale, kernel=rbf;, score=0.611 total time=   1.1s\n",
            "[CV 2/10] END C=1, class_weight=None, gamma=scale, kernel=rbf;, score=0.644 total time=   1.3s\n",
            "[CV 3/10] END C=1, class_weight=None, gamma=scale, kernel=rbf;, score=0.635 total time=   1.6s\n",
            "[CV 4/10] END C=1, class_weight=None, gamma=scale, kernel=rbf;, score=0.654 total time=   1.6s\n",
            "[CV 5/10] END C=1, class_weight=None, gamma=scale, kernel=rbf;, score=0.644 total time=   1.6s\n",
            "[CV 6/10] END C=1, class_weight=None, gamma=scale, kernel=rbf;, score=0.647 total time=   1.4s\n",
            "[CV 7/10] END C=1, class_weight=None, gamma=scale, kernel=rbf;, score=0.621 total time=   1.1s\n",
            "[CV 8/10] END C=1, class_weight=None, gamma=scale, kernel=rbf;, score=0.623 total time=   1.1s\n",
            "[CV 9/10] END C=1, class_weight=None, gamma=scale, kernel=rbf;, score=0.644 total time=   1.1s\n",
            "[CV 10/10] END C=1, class_weight=None, gamma=scale, kernel=rbf;, score=0.654 total time=   1.1s\n",
            "[CV 1/10] END C=1, class_weight=None, gamma=auto, kernel=rbf;, score=0.971 total time=   1.4s\n",
            "[CV 2/10] END C=1, class_weight=None, gamma=auto, kernel=rbf;, score=0.931 total time=   1.5s\n",
            "[CV 3/10] END C=1, class_weight=None, gamma=auto, kernel=rbf;, score=0.919 total time=   1.5s\n",
            "[CV 4/10] END C=1, class_weight=None, gamma=auto, kernel=rbf;, score=0.931 total time=   1.8s\n",
            "[CV 5/10] END C=1, class_weight=None, gamma=auto, kernel=rbf;, score=0.909 total time=   2.2s\n",
            "[CV 6/10] END C=1, class_weight=None, gamma=auto, kernel=rbf;, score=0.926 total time=   2.0s\n",
            "[CV 7/10] END C=1, class_weight=None, gamma=auto, kernel=rbf;, score=0.940 total time=   1.5s\n",
            "[CV 8/10] END C=1, class_weight=None, gamma=auto, kernel=rbf;, score=0.931 total time=   1.4s\n",
            "[CV 9/10] END C=1, class_weight=None, gamma=auto, kernel=rbf;, score=0.945 total time=   1.4s\n",
            "[CV 10/10] END C=1, class_weight=None, gamma=auto, kernel=rbf;, score=0.943 total time=   1.4s\n",
            "[CV 1/10] END C=1, class_weight=balanced, gamma=scale, kernel=rbf;, score=0.611 total time=   1.2s\n",
            "[CV 2/10] END C=1, class_weight=balanced, gamma=scale, kernel=rbf;, score=0.644 total time=   1.3s\n",
            "[CV 3/10] END C=1, class_weight=balanced, gamma=scale, kernel=rbf;, score=0.637 total time=   1.3s\n",
            "[CV 4/10] END C=1, class_weight=balanced, gamma=scale, kernel=rbf;, score=0.652 total time=   1.5s\n",
            "[CV 5/10] END C=1, class_weight=balanced, gamma=scale, kernel=rbf;, score=0.644 total time=   1.8s\n",
            "[CV 6/10] END C=1, class_weight=balanced, gamma=scale, kernel=rbf;, score=0.647 total time=   1.8s\n",
            "[CV 7/10] END C=1, class_weight=balanced, gamma=scale, kernel=rbf;, score=0.621 total time=   1.8s\n",
            "[CV 8/10] END C=1, class_weight=balanced, gamma=scale, kernel=rbf;, score=0.623 total time=   1.3s\n",
            "[CV 9/10] END C=1, class_weight=balanced, gamma=scale, kernel=rbf;, score=0.644 total time=   1.3s\n",
            "[CV 10/10] END C=1, class_weight=balanced, gamma=scale, kernel=rbf;, score=0.654 total time=   1.3s\n",
            "[CV 1/10] END C=1, class_weight=balanced, gamma=auto, kernel=rbf;, score=0.971 total time=   1.5s\n",
            "[CV 2/10] END C=1, class_weight=balanced, gamma=auto, kernel=rbf;, score=0.931 total time=   1.4s\n",
            "[CV 3/10] END C=1, class_weight=balanced, gamma=auto, kernel=rbf;, score=0.919 total time=   1.5s\n",
            "[CV 4/10] END C=1, class_weight=balanced, gamma=auto, kernel=rbf;, score=0.931 total time=   1.5s\n",
            "[CV 5/10] END C=1, class_weight=balanced, gamma=auto, kernel=rbf;, score=0.909 total time=   2.1s\n",
            "[CV 6/10] END C=1, class_weight=balanced, gamma=auto, kernel=rbf;, score=0.926 total time=   2.1s\n",
            "[CV 7/10] END C=1, class_weight=balanced, gamma=auto, kernel=rbf;, score=0.940 total time=   2.0s\n",
            "[CV 8/10] END C=1, class_weight=balanced, gamma=auto, kernel=rbf;, score=0.931 total time=   1.5s\n",
            "[CV 9/10] END C=1, class_weight=balanced, gamma=auto, kernel=rbf;, score=0.945 total time=   1.4s\n",
            "[CV 10/10] END C=1, class_weight=balanced, gamma=auto, kernel=rbf;, score=0.943 total time=   1.5s\n",
            "[CV 1/10] END C=0.1, class_weight=None, gamma=scale, kernel=rbf;, score=0.597 total time=   1.1s\n",
            "[CV 2/10] END C=0.1, class_weight=None, gamma=scale, kernel=rbf;, score=0.535 total time=   1.2s\n",
            "[CV 3/10] END C=0.1, class_weight=None, gamma=scale, kernel=rbf;, score=0.585 total time=   1.2s\n",
            "[CV 4/10] END C=0.1, class_weight=None, gamma=scale, kernel=rbf;, score=0.578 total time=   1.2s\n",
            "[CV 5/10] END C=0.1, class_weight=None, gamma=scale, kernel=rbf;, score=0.535 total time=   1.4s\n",
            "[CV 6/10] END C=0.1, class_weight=None, gamma=scale, kernel=rbf;, score=0.587 total time=   1.7s\n",
            "[CV 7/10] END C=0.1, class_weight=None, gamma=scale, kernel=rbf;, score=0.551 total time=   1.7s\n",
            "[CV 8/10] END C=0.1, class_weight=None, gamma=scale, kernel=rbf;, score=0.520 total time=   1.7s\n",
            "[CV 9/10] END C=0.1, class_weight=None, gamma=scale, kernel=rbf;, score=0.539 total time=   1.2s\n",
            "[CV 10/10] END C=0.1, class_weight=None, gamma=scale, kernel=rbf;, score=0.570 total time=   1.2s\n",
            "[CV 1/10] END C=0.1, class_weight=None, gamma=auto, kernel=rbf;, score=0.952 total time=   1.3s\n",
            "[CV 2/10] END C=0.1, class_weight=None, gamma=auto, kernel=rbf;, score=0.945 total time=   1.3s\n",
            "[CV 3/10] END C=0.1, class_weight=None, gamma=auto, kernel=rbf;, score=0.864 total time=   1.6s\n",
            "[CV 4/10] END C=0.1, class_weight=None, gamma=auto, kernel=rbf;, score=0.890 total time=   1.3s\n",
            "[CV 5/10] END C=0.1, class_weight=None, gamma=auto, kernel=rbf;, score=0.869 total time=   1.3s\n",
            "[CV 6/10] END C=0.1, class_weight=None, gamma=auto, kernel=rbf;, score=0.800 total time=   1.5s\n",
            "[CV 7/10] END C=0.1, class_weight=None, gamma=auto, kernel=rbf;, score=0.747 total time=   1.8s\n",
            "[CV 8/10] END C=0.1, class_weight=None, gamma=auto, kernel=rbf;, score=0.749 total time=   1.8s\n",
            "[CV 9/10] END C=0.1, class_weight=None, gamma=auto, kernel=rbf;, score=0.716 total time=   1.8s\n",
            "[CV 10/10] END C=0.1, class_weight=None, gamma=auto, kernel=rbf;, score=0.847 total time=   1.3s\n",
            "[CV 1/10] END C=0.1, class_weight=balanced, gamma=scale, kernel=rbf;, score=0.599 total time=   1.3s\n",
            "[CV 2/10] END C=0.1, class_weight=balanced, gamma=scale, kernel=rbf;, score=0.537 total time=   1.3s\n",
            "[CV 3/10] END C=0.1, class_weight=balanced, gamma=scale, kernel=rbf;, score=0.585 total time=   1.3s\n",
            "[CV 4/10] END C=0.1, class_weight=balanced, gamma=scale, kernel=rbf;, score=0.578 total time=   1.3s\n",
            "[CV 5/10] END C=0.1, class_weight=balanced, gamma=scale, kernel=rbf;, score=0.535 total time=   1.3s\n",
            "[CV 6/10] END C=0.1, class_weight=balanced, gamma=scale, kernel=rbf;, score=0.587 total time=   1.4s\n",
            "[CV 7/10] END C=0.1, class_weight=balanced, gamma=scale, kernel=rbf;, score=0.551 total time=   1.6s\n",
            "[CV 8/10] END C=0.1, class_weight=balanced, gamma=scale, kernel=rbf;, score=0.520 total time=   1.9s\n",
            "[CV 9/10] END C=0.1, class_weight=balanced, gamma=scale, kernel=rbf;, score=0.539 total time=   1.9s\n",
            "[CV 10/10] END C=0.1, class_weight=balanced, gamma=scale, kernel=rbf;, score=0.568 total time=   1.7s\n",
            "[CV 1/10] END C=0.1, class_weight=balanced, gamma=auto, kernel=rbf;, score=0.921 total time=   1.5s\n",
            "[CV 2/10] END C=0.1, class_weight=balanced, gamma=auto, kernel=rbf;, score=0.905 total time=   1.5s\n",
            "[CV 3/10] END C=0.1, class_weight=balanced, gamma=auto, kernel=rbf;, score=0.835 total time=   1.5s\n",
            "[CV 4/10] END C=0.1, class_weight=balanced, gamma=auto, kernel=rbf;, score=0.842 total time=   1.5s\n",
            "[CV 5/10] END C=0.1, class_weight=balanced, gamma=auto, kernel=rbf;, score=0.826 total time=   1.5s\n",
            "[CV 6/10] END C=0.1, class_weight=balanced, gamma=auto, kernel=rbf;, score=0.828 total time=   1.5s\n",
            "[CV 7/10] END C=0.1, class_weight=balanced, gamma=auto, kernel=rbf;, score=0.797 total time=   2.0s\n",
            "[CV 8/10] END C=0.1, class_weight=balanced, gamma=auto, kernel=rbf;, score=0.776 total time=   2.1s\n",
            "[CV 9/10] END C=0.1, class_weight=balanced, gamma=auto, kernel=rbf;, score=0.764 total time=   2.8s\n",
            "[CV 10/10] END C=0.1, class_weight=balanced, gamma=auto, kernel=rbf;, score=0.876 total time=   2.1s\n",
            "[CV 1/10] END C=0.01, class_weight=None, gamma=scale, kernel=rbf;, score=0.513 total time=   1.5s\n",
            "[CV 2/10] END C=0.01, class_weight=None, gamma=scale, kernel=rbf;, score=0.511 total time=   1.5s\n",
            "[CV 3/10] END C=0.01, class_weight=None, gamma=scale, kernel=rbf;, score=0.520 total time=   1.7s\n",
            "[CV 4/10] END C=0.01, class_weight=None, gamma=scale, kernel=rbf;, score=0.494 total time=   1.3s\n",
            "[CV 5/10] END C=0.01, class_weight=None, gamma=scale, kernel=rbf;, score=0.513 total time=   1.2s\n",
            "[CV 6/10] END C=0.01, class_weight=None, gamma=scale, kernel=rbf;, score=0.554 total time=   1.3s\n",
            "[CV 7/10] END C=0.01, class_weight=None, gamma=scale, kernel=rbf;, score=0.501 total time=   1.8s\n",
            "[CV 8/10] END C=0.01, class_weight=None, gamma=scale, kernel=rbf;, score=0.516 total time=   1.8s\n",
            "[CV 9/10] END C=0.01, class_weight=None, gamma=scale, kernel=rbf;, score=0.513 total time=   1.7s\n",
            "[CV 10/10] END C=0.01, class_weight=None, gamma=scale, kernel=rbf;, score=0.532 total time=   1.4s\n",
            "[CV 1/10] END C=0.01, class_weight=None, gamma=auto, kernel=rbf;, score=0.499 total time=   1.3s\n",
            "[CV 2/10] END C=0.01, class_weight=None, gamma=auto, kernel=rbf;, score=0.499 total time=   1.3s\n",
            "[CV 3/10] END C=0.01, class_weight=None, gamma=auto, kernel=rbf;, score=0.499 total time=   1.3s\n",
            "[CV 4/10] END C=0.01, class_weight=None, gamma=auto, kernel=rbf;, score=0.499 total time=   1.3s\n",
            "[CV 5/10] END C=0.01, class_weight=None, gamma=auto, kernel=rbf;, score=0.499 total time=   1.3s\n",
            "[CV 6/10] END C=0.01, class_weight=None, gamma=auto, kernel=rbf;, score=0.499 total time=   1.3s\n",
            "[CV 7/10] END C=0.01, class_weight=None, gamma=auto, kernel=rbf;, score=0.499 total time=   1.3s\n",
            "[CV 8/10] END C=0.01, class_weight=None, gamma=auto, kernel=rbf;, score=0.499 total time=   1.8s\n",
            "[CV 9/10] END C=0.01, class_weight=None, gamma=auto, kernel=rbf;, score=0.499 total time=   1.8s\n",
            "[CV 10/10] END C=0.01, class_weight=None, gamma=auto, kernel=rbf;, score=0.499 total time=   1.8s\n",
            "[CV 1/10] END C=0.01, class_weight=balanced, gamma=scale, kernel=rbf;, score=0.532 total time=   1.6s\n",
            "[CV 2/10] END C=0.01, class_weight=balanced, gamma=scale, kernel=rbf;, score=0.501 total time=   1.4s\n",
            "[CV 3/10] END C=0.01, class_weight=balanced, gamma=scale, kernel=rbf;, score=0.556 total time=   1.4s\n",
            "[CV 4/10] END C=0.01, class_weight=balanced, gamma=scale, kernel=rbf;, score=0.549 total time=   1.4s\n",
            "[CV 5/10] END C=0.01, class_weight=balanced, gamma=scale, kernel=rbf;, score=0.599 total time=   1.4s\n",
            "[CV 6/10] END C=0.01, class_weight=balanced, gamma=scale, kernel=rbf;, score=0.523 total time=   1.4s\n",
            "[CV 7/10] END C=0.01, class_weight=balanced, gamma=scale, kernel=rbf;, score=0.501 total time=   1.4s\n",
            "[CV 8/10] END C=0.01, class_weight=balanced, gamma=scale, kernel=rbf;, score=0.520 total time=   1.7s\n",
            "[CV 9/10] END C=0.01, class_weight=balanced, gamma=scale, kernel=rbf;, score=0.499 total time=   2.0s\n",
            "[CV 10/10] END C=0.01, class_weight=balanced, gamma=scale, kernel=rbf;, score=0.539 total time=   2.0s\n",
            "[CV 1/10] END C=0.01, class_weight=balanced, gamma=auto, kernel=rbf;, score=0.501 total time=   1.8s\n",
            "[CV 2/10] END C=0.01, class_weight=balanced, gamma=auto, kernel=rbf;, score=0.501 total time=   1.5s\n",
            "[CV 3/10] END C=0.01, class_weight=balanced, gamma=auto, kernel=rbf;, score=0.501 total time=   1.5s\n",
            "[CV 4/10] END C=0.01, class_weight=balanced, gamma=auto, kernel=rbf;, score=0.501 total time=   1.5s\n",
            "[CV 5/10] END C=0.01, class_weight=balanced, gamma=auto, kernel=rbf;, score=0.501 total time=   1.5s\n",
            "[CV 6/10] END C=0.01, class_weight=balanced, gamma=auto, kernel=rbf;, score=0.501 total time=   1.5s\n",
            "[CV 7/10] END C=0.01, class_weight=balanced, gamma=auto, kernel=rbf;, score=0.501 total time=   1.5s\n",
            "[CV 8/10] END C=0.01, class_weight=balanced, gamma=auto, kernel=rbf;, score=0.501 total time=   2.1s\n",
            "[CV 9/10] END C=0.01, class_weight=balanced, gamma=auto, kernel=rbf;, score=0.501 total time=   2.1s\n",
            "[CV 10/10] END C=0.01, class_weight=balanced, gamma=auto, kernel=rbf;, score=0.501 total time=   2.5s\n",
            "\n",
            "{'C': 100, 'class_weight': None, 'gamma': 'auto', 'kernel': 'rbf'}\n",
            "SVC(C=100, gamma='auto', random_state=0)\n"
          ]
        }
      ],
      "source": [
        "clf = svm.SVC(random_state=random_state)\n",
        "CV_rfc = GridSearchCV(estimator=clf,\n",
        "                      param_grid=param_grid,\n",
        "                      cv= 10,\n",
        "                      verbose=3)\n",
        "CV_rfc.fit(X_train, y_train)\n",
        "\n",
        "print('')\n",
        "print(CV_rfc.best_params_)\n",
        "print(CV_rfc.best_estimator_)"
      ]
    },
    {
      "cell_type": "code",
      "execution_count": null,
      "metadata": {
        "colab": {
          "base_uri": "https://localhost:8080/"
        },
        "id": "TL0w0gUAAizn",
        "outputId": "e7dd5c7c-2334-4cc5-9b01-1fb2e763de82"
      },
      "outputs": [
        {
          "name": "stdout",
          "output_type": "stream",
          "text": [
            "train scores \n",
            "\n",
            "accuracy: 1.000\n",
            "f1: 1.000\n",
            "balanced accuracy: 1.000\n",
            "matthews corrcoeff: 1.000\n",
            "\n",
            "val scores \n",
            "\n",
            "accuracy: 0.916\n",
            "f1: 0.956\n",
            "balanced accuracy: 0.555\n",
            "matthews corrcoeff: 0.297\n"
          ]
        }
      ],
      "source": [
        "clf = svm.SVC(C=100, gamma='auto', random_state=random_state)\n",
        "fit = clf.fit(X_train, y_train)\n",
        "\n",
        "y_pred = fit.predict(X_train)\n",
        "y_val_pred = fit.predict(X_val)\n",
        "\n",
        "# calculate statistical metrics accuracy for training set\n",
        "train_accuracy = metrics.accuracy_score(y_train, y_pred)\n",
        "val_accuracy = metrics.accuracy_score(y_val, y_val_pred)\n",
        "\n",
        "# calculate statistical metrics for training set\n",
        "train_f1 = metrics.f1_score(y_train, y_pred, average = 'weighted')\n",
        "train_ba = metrics.balanced_accuracy_score(y_train, y_pred)\n",
        "train_mcc = metrics.matthews_corrcoef(y_train, y_pred)\n",
        "\n",
        "# calculate statistical metrics for val set\n",
        "val_f1 = metrics.f1_score(y_val, y_val_pred, average = 'weighted')\n",
        "val_ba = metrics.balanced_accuracy_score(y_val, y_val_pred)\n",
        "val_mcc = metrics.matthews_corrcoef(y_val, y_val_pred)\n",
        "\n",
        "print(f'train scores \\n')\n",
        "print(f'accuracy: {train_accuracy:.3f}')\n",
        "print(f'f1: {train_f1:.3f}')\n",
        "print(f'balanced accuracy: {train_ba:.3f}')\n",
        "print(f'matthews corrcoeff: {train_mcc:.3f}')\n",
        "print('')\n",
        "print(f'val scores \\n')\n",
        "print(f'accuracy: {val_accuracy:.3f}')\n",
        "print(f'f1: {val_f1:.3f}')\n",
        "print(f'balanced accuracy: {val_ba:.3f}')\n",
        "print(f'matthews corrcoeff: {val_mcc:.3f}')"
      ]
    },
    {
      "cell_type": "markdown",
      "metadata": {
        "id": "hv_38Y9aAwww"
      },
      "source": [
        "poly"
      ]
    },
    {
      "cell_type": "code",
      "execution_count": null,
      "metadata": {
        "id": "RDYs93rp_YgD"
      },
      "outputs": [],
      "source": [
        "param_grid = {\n",
        "    'kernel': ['poly',],\n",
        "    #'gamma': ['scale', 'auto'],\n",
        "    'class_weight':[None, 'balanced'],\n",
        "    'C': [100, 10, 1, 0.1, 0.01]\n",
        "}"
      ]
    },
    {
      "cell_type": "code",
      "execution_count": null,
      "metadata": {
        "colab": {
          "base_uri": "https://localhost:8080/"
        },
        "id": "FYOqWBFdA3iv",
        "outputId": "cd4aa735-a2df-4df9-937d-ff442489b297"
      },
      "outputs": [
        {
          "name": "stdout",
          "output_type": "stream",
          "text": [
            "Fitting 10 folds for each of 10 candidates, totalling 100 fits\n",
            "[CV 1/10] END C=100, class_weight=None, kernel=poly;, score=0.649 total time=   4.1s\n",
            "[CV 2/10] END C=100, class_weight=None, kernel=poly;, score=0.816 total time=   6.7s\n",
            "[CV 3/10] END C=100, class_weight=None, kernel=poly;, score=0.842 total time=   5.6s\n",
            "[CV 4/10] END C=100, class_weight=None, kernel=poly;, score=0.835 total time=   3.7s\n",
            "[CV 5/10] END C=100, class_weight=None, kernel=poly;, score=0.847 total time=   2.0s\n",
            "[CV 6/10] END C=100, class_weight=None, kernel=poly;, score=0.857 total time=   2.8s\n",
            "[CV 7/10] END C=100, class_weight=None, kernel=poly;, score=0.807 total time=   3.1s\n",
            "[CV 8/10] END C=100, class_weight=None, kernel=poly;, score=0.847 total time=   2.6s\n",
            "[CV 9/10] END C=100, class_weight=None, kernel=poly;, score=0.771 total time=   2.2s\n",
            "[CV 10/10] END C=100, class_weight=None, kernel=poly;, score=0.800 total time=   2.1s\n",
            "[CV 1/10] END C=100, class_weight=balanced, kernel=poly;, score=0.649 total time=   2.1s\n",
            "[CV 2/10] END C=100, class_weight=balanced, kernel=poly;, score=0.816 total time=   2.2s\n",
            "[CV 3/10] END C=100, class_weight=balanced, kernel=poly;, score=0.842 total time=   3.2s\n",
            "[CV 4/10] END C=100, class_weight=balanced, kernel=poly;, score=0.835 total time=   2.9s\n",
            "[CV 5/10] END C=100, class_weight=balanced, kernel=poly;, score=0.847 total time=   2.1s\n",
            "[CV 6/10] END C=100, class_weight=balanced, kernel=poly;, score=0.857 total time=   2.2s\n",
            "[CV 7/10] END C=100, class_weight=balanced, kernel=poly;, score=0.807 total time=   2.1s\n",
            "[CV 8/10] END C=100, class_weight=balanced, kernel=poly;, score=0.847 total time=   2.2s\n",
            "[CV 9/10] END C=100, class_weight=balanced, kernel=poly;, score=0.771 total time=   3.0s\n",
            "[CV 10/10] END C=100, class_weight=balanced, kernel=poly;, score=0.800 total time=   6.1s\n",
            "[CV 1/10] END C=10, class_weight=None, kernel=poly;, score=0.642 total time=   1.9s\n",
            "[CV 2/10] END C=10, class_weight=None, kernel=poly;, score=0.730 total time=   1.8s\n",
            "[CV 3/10] END C=10, class_weight=None, kernel=poly;, score=0.735 total time=   2.0s\n",
            "[CV 4/10] END C=10, class_weight=None, kernel=poly;, score=0.771 total time=   2.4s\n",
            "[CV 5/10] END C=10, class_weight=None, kernel=poly;, score=0.771 total time=   2.6s\n",
            "[CV 6/10] END C=10, class_weight=None, kernel=poly;, score=0.795 total time=   1.9s\n",
            "[CV 7/10] END C=10, class_weight=None, kernel=poly;, score=0.740 total time=   1.8s\n",
            "[CV 8/10] END C=10, class_weight=None, kernel=poly;, score=0.757 total time=   1.3s\n",
            "[CV 9/10] END C=10, class_weight=None, kernel=poly;, score=0.721 total time=   1.5s\n",
            "[CV 10/10] END C=10, class_weight=None, kernel=poly;, score=0.742 total time=   1.3s\n",
            "[CV 1/10] END C=10, class_weight=balanced, kernel=poly;, score=0.642 total time=   1.5s\n",
            "[CV 2/10] END C=10, class_weight=balanced, kernel=poly;, score=0.730 total time=   1.5s\n",
            "[CV 3/10] END C=10, class_weight=balanced, kernel=poly;, score=0.733 total time=   1.5s\n",
            "[CV 4/10] END C=10, class_weight=balanced, kernel=poly;, score=0.771 total time=   1.6s\n",
            "[CV 5/10] END C=10, class_weight=balanced, kernel=poly;, score=0.771 total time=   1.9s\n",
            "[CV 6/10] END C=10, class_weight=balanced, kernel=poly;, score=0.795 total time=   1.9s\n",
            "[CV 7/10] END C=10, class_weight=balanced, kernel=poly;, score=0.740 total time=   1.8s\n",
            "[CV 8/10] END C=10, class_weight=balanced, kernel=poly;, score=0.754 total time=   1.4s\n",
            "[CV 9/10] END C=10, class_weight=balanced, kernel=poly;, score=0.721 total time=   1.5s\n",
            "[CV 10/10] END C=10, class_weight=balanced, kernel=poly;, score=0.742 total time=   1.4s\n",
            "[CV 1/10] END C=1, class_weight=None, kernel=poly;, score=0.578 total time=   1.1s\n",
            "[CV 2/10] END C=1, class_weight=None, kernel=poly;, score=0.601 total time=   1.1s\n",
            "[CV 3/10] END C=1, class_weight=None, kernel=poly;, score=0.632 total time=   1.1s\n",
            "[CV 4/10] END C=1, class_weight=None, kernel=poly;, score=0.666 total time=   1.1s\n",
            "[CV 5/10] END C=1, class_weight=None, kernel=poly;, score=0.656 total time=   1.3s\n",
            "[CV 6/10] END C=1, class_weight=None, kernel=poly;, score=0.642 total time=   2.1s\n",
            "[CV 7/10] END C=1, class_weight=None, kernel=poly;, score=0.606 total time=   1.6s\n",
            "[CV 8/10] END C=1, class_weight=None, kernel=poly;, score=0.644 total time=   1.5s\n",
            "[CV 9/10] END C=1, class_weight=None, kernel=poly;, score=0.582 total time=   1.2s\n",
            "[CV 10/10] END C=1, class_weight=None, kernel=poly;, score=0.606 total time=   1.1s\n",
            "[CV 1/10] END C=1, class_weight=balanced, kernel=poly;, score=0.578 total time=   1.2s\n",
            "[CV 2/10] END C=1, class_weight=balanced, kernel=poly;, score=0.601 total time=   1.2s\n",
            "[CV 3/10] END C=1, class_weight=balanced, kernel=poly;, score=0.632 total time=   1.2s\n",
            "[CV 4/10] END C=1, class_weight=balanced, kernel=poly;, score=0.666 total time=   1.2s\n",
            "[CV 5/10] END C=1, class_weight=balanced, kernel=poly;, score=0.656 total time=   1.4s\n",
            "[CV 6/10] END C=1, class_weight=balanced, kernel=poly;, score=0.640 total time=   1.2s\n",
            "[CV 7/10] END C=1, class_weight=balanced, kernel=poly;, score=0.609 total time=   1.8s\n",
            "[CV 8/10] END C=1, class_weight=balanced, kernel=poly;, score=0.644 total time=   1.8s\n",
            "[CV 9/10] END C=1, class_weight=balanced, kernel=poly;, score=0.585 total time=   1.7s\n",
            "[CV 10/10] END C=1, class_weight=balanced, kernel=poly;, score=0.609 total time=   1.5s\n",
            "[CV 1/10] END C=0.1, class_weight=None, kernel=poly;, score=0.525 total time=   1.1s\n",
            "[CV 2/10] END C=0.1, class_weight=None, kernel=poly;, score=0.535 total time=   1.0s\n",
            "[CV 3/10] END C=0.1, class_weight=None, kernel=poly;, score=0.547 total time=   0.9s\n",
            "[CV 4/10] END C=0.1, class_weight=None, kernel=poly;, score=0.542 total time=   1.2s\n",
            "[CV 5/10] END C=0.1, class_weight=None, kernel=poly;, score=0.566 total time=   1.0s\n",
            "[CV 6/10] END C=0.1, class_weight=None, kernel=poly;, score=0.547 total time=   1.0s\n",
            "[CV 7/10] END C=0.1, class_weight=None, kernel=poly;, score=0.508 total time=   1.1s\n",
            "[CV 8/10] END C=0.1, class_weight=None, kernel=poly;, score=0.558 total time=   1.0s\n",
            "[CV 9/10] END C=0.1, class_weight=None, kernel=poly;, score=0.551 total time=   1.2s\n",
            "[CV 10/10] END C=0.1, class_weight=None, kernel=poly;, score=0.544 total time=   1.5s\n",
            "[CV 1/10] END C=0.1, class_weight=balanced, kernel=poly;, score=0.527 total time=   1.6s\n",
            "[CV 2/10] END C=0.1, class_weight=balanced, kernel=poly;, score=0.535 total time=   1.7s\n",
            "[CV 3/10] END C=0.1, class_weight=balanced, kernel=poly;, score=0.547 total time=   1.4s\n",
            "[CV 4/10] END C=0.1, class_weight=balanced, kernel=poly;, score=0.539 total time=   1.1s\n",
            "[CV 5/10] END C=0.1, class_weight=balanced, kernel=poly;, score=0.563 total time=   1.1s\n",
            "[CV 6/10] END C=0.1, class_weight=balanced, kernel=poly;, score=0.549 total time=   1.1s\n",
            "[CV 7/10] END C=0.1, class_weight=balanced, kernel=poly;, score=0.504 total time=   1.1s\n",
            "[CV 8/10] END C=0.1, class_weight=balanced, kernel=poly;, score=0.558 total time=   1.2s\n",
            "[CV 9/10] END C=0.1, class_weight=balanced, kernel=poly;, score=0.551 total time=   1.1s\n",
            "[CV 10/10] END C=0.1, class_weight=balanced, kernel=poly;, score=0.544 total time=   1.1s\n",
            "[CV 1/10] END C=0.01, class_weight=None, kernel=poly;, score=0.499 total time=   0.9s\n",
            "[CV 2/10] END C=0.01, class_weight=None, kernel=poly;, score=0.499 total time=   1.3s\n",
            "[CV 3/10] END C=0.01, class_weight=None, kernel=poly;, score=0.542 total time=   1.5s\n",
            "[CV 4/10] END C=0.01, class_weight=None, kernel=poly;, score=0.506 total time=   1.5s\n",
            "[CV 5/10] END C=0.01, class_weight=None, kernel=poly;, score=0.499 total time=   1.5s\n",
            "[CV 6/10] END C=0.01, class_weight=None, kernel=poly;, score=0.513 total time=   1.1s\n",
            "[CV 7/10] END C=0.01, class_weight=None, kernel=poly;, score=0.537 total time=   1.0s\n",
            "[CV 8/10] END C=0.01, class_weight=None, kernel=poly;, score=0.535 total time=   1.0s\n",
            "[CV 9/10] END C=0.01, class_weight=None, kernel=poly;, score=0.482 total time=   1.0s\n",
            "[CV 10/10] END C=0.01, class_weight=None, kernel=poly;, score=0.537 total time=   1.0s\n",
            "[CV 1/10] END C=0.01, class_weight=balanced, kernel=poly;, score=0.511 total time=   1.1s\n",
            "[CV 2/10] END C=0.01, class_weight=balanced, kernel=poly;, score=0.501 total time=   1.1s\n",
            "[CV 3/10] END C=0.01, class_weight=balanced, kernel=poly;, score=0.547 total time=   1.1s\n",
            "[CV 4/10] END C=0.01, class_weight=balanced, kernel=poly;, score=0.508 total time=   1.1s\n",
            "[CV 5/10] END C=0.01, class_weight=balanced, kernel=poly;, score=0.499 total time=   1.3s\n",
            "[CV 6/10] END C=0.01, class_weight=balanced, kernel=poly;, score=0.511 total time=   1.6s\n",
            "[CV 7/10] END C=0.01, class_weight=balanced, kernel=poly;, score=0.551 total time=   1.7s\n",
            "[CV 8/10] END C=0.01, class_weight=balanced, kernel=poly;, score=0.523 total time=   1.7s\n",
            "[CV 9/10] END C=0.01, class_weight=balanced, kernel=poly;, score=0.482 total time=   1.3s\n",
            "[CV 10/10] END C=0.01, class_weight=balanced, kernel=poly;, score=0.520 total time=   1.1s\n",
            "\n",
            "{'C': 100, 'class_weight': None, 'kernel': 'poly'}\n",
            "SVC(C=100, kernel='poly', random_state=0)\n"
          ]
        }
      ],
      "source": [
        "clf = svm.SVC(random_state=random_state)\n",
        "CV_rfc = GridSearchCV(estimator=clf,\n",
        "                      param_grid=param_grid,\n",
        "                      cv= 10,\n",
        "                      verbose=3)\n",
        "CV_rfc.fit(X_train, y_train)\n",
        "\n",
        "print('')\n",
        "print(CV_rfc.best_params_)\n",
        "print(CV_rfc.best_estimator_)"
      ]
    },
    {
      "cell_type": "code",
      "execution_count": null,
      "metadata": {
        "id": "lOKVQS-q-9JQ"
      },
      "outputs": [],
      "source": [
        " 'poly', 'rbf', 'sigmoid', 'precomputed'"
      ]
    },
    {
      "cell_type": "code",
      "execution_count": null,
      "metadata": {
        "colab": {
          "base_uri": "https://localhost:8080/"
        },
        "id": "0JjddrtFYnqr",
        "outputId": "eaceda48-71d7-4774-cdff-52369d691d1d"
      },
      "outputs": [
        {
          "name": "stdout",
          "output_type": "stream",
          "text": [
            "train scores \n",
            "\n",
            "accuracy: 0.826\n",
            "f1: 0.836\n",
            "balanced accuracy: 0.826\n",
            "matthews corrcoeff: 0.656\n",
            "\n",
            "val scores \n",
            "\n",
            "accuracy: 0.829\n",
            "f1: 0.903\n",
            "balanced accuracy: 0.613\n",
            "matthews corrcoeff: 0.188\n"
          ]
        }
      ],
      "source": [
        "clf = svm.SVC(C=100, kernel='poly', random_state=random_state)\n",
        "fit = clf.fit(X_train, y_train)\n",
        "\n",
        "y_pred = fit.predict(X_train)\n",
        "y_val_pred = fit.predict(X_val)\n",
        "\n",
        "# calculate statistical metrics accuracy for training set\n",
        "train_accuracy = metrics.accuracy_score(y_train, y_pred)\n",
        "val_accuracy = metrics.accuracy_score(y_val, y_val_pred)\n",
        "\n",
        "# calculate statistical metrics for training set\n",
        "train_f1 = metrics.f1_score(y_train, y_pred, average = 'weighted')\n",
        "train_ba = metrics.balanced_accuracy_score(y_train, y_pred)\n",
        "train_mcc = metrics.matthews_corrcoef(y_train, y_pred)\n",
        "\n",
        "# calculate statistical metrics for val set\n",
        "val_f1 = metrics.f1_score(y_val, y_val_pred, average = 'weighted')\n",
        "val_ba = metrics.balanced_accuracy_score(y_val, y_val_pred)\n",
        "val_mcc = metrics.matthews_corrcoef(y_val, y_val_pred)\n",
        "\n",
        "print(f'train scores \\n')\n",
        "print(f'accuracy: {train_accuracy:.3f}')\n",
        "print(f'f1: {train_f1:.3f}')\n",
        "print(f'balanced accuracy: {train_ba:.3f}')\n",
        "print(f'matthews corrcoeff: {train_mcc:.3f}')\n",
        "print('')\n",
        "print(f'val scores \\n')\n",
        "print(f'accuracy: {val_accuracy:.3f}')\n",
        "print(f'f1: {val_f1:.3f}')\n",
        "print(f'balanced accuracy: {val_ba:.3f}')\n",
        "print(f'matthews corrcoeff: {val_mcc:.3f}')"
      ]
    },
    {
      "cell_type": "markdown",
      "metadata": {
        "id": "5VuoC9xfBgS2"
      },
      "source": [
        "sigmoid"
      ]
    },
    {
      "cell_type": "code",
      "execution_count": null,
      "metadata": {
        "id": "Onn9uqq-Bir-"
      },
      "outputs": [],
      "source": [
        "param_grid = {\n",
        "    'kernel': ['sigmoid',],\n",
        "    #'gamma': ['scale', 'auto'],\n",
        "    'class_weight':[None, 'balanced'],\n",
        "    'C': [100, 10, 1, 0.1, 0.01]\n",
        "}"
      ]
    },
    {
      "cell_type": "code",
      "execution_count": null,
      "metadata": {
        "colab": {
          "base_uri": "https://localhost:8080/"
        },
        "id": "ZBF2OvK0Bir-",
        "outputId": "43f00076-16f2-4f0d-86a6-d73ee1d11ef4"
      },
      "outputs": [
        {
          "name": "stdout",
          "output_type": "stream",
          "text": [
            "Fitting 10 folds for each of 10 candidates, totalling 100 fits\n",
            "[CV 1/10] END C=100, class_weight=None, kernel=sigmoid;, score=0.532 total time=   0.8s\n",
            "[CV 2/10] END C=100, class_weight=None, kernel=sigmoid;, score=0.499 total time=   0.8s\n",
            "[CV 3/10] END C=100, class_weight=None, kernel=sigmoid;, score=0.499 total time=   0.8s\n",
            "[CV 4/10] END C=100, class_weight=None, kernel=sigmoid;, score=0.542 total time=   0.8s\n",
            "[CV 5/10] END C=100, class_weight=None, kernel=sigmoid;, score=0.556 total time=   0.8s\n",
            "[CV 6/10] END C=100, class_weight=None, kernel=sigmoid;, score=0.518 total time=   0.8s\n",
            "[CV 7/10] END C=100, class_weight=None, kernel=sigmoid;, score=0.494 total time=   0.8s\n",
            "[CV 8/10] END C=100, class_weight=None, kernel=sigmoid;, score=0.506 total time=   0.8s\n",
            "[CV 9/10] END C=100, class_weight=None, kernel=sigmoid;, score=0.499 total time=   1.0s\n",
            "[CV 10/10] END C=100, class_weight=None, kernel=sigmoid;, score=0.482 total time=   1.2s\n",
            "[CV 1/10] END C=100, class_weight=balanced, kernel=sigmoid;, score=0.532 total time=   1.3s\n",
            "[CV 2/10] END C=100, class_weight=balanced, kernel=sigmoid;, score=0.499 total time=   1.2s\n",
            "[CV 3/10] END C=100, class_weight=balanced, kernel=sigmoid;, score=0.499 total time=   1.2s\n",
            "[CV 4/10] END C=100, class_weight=balanced, kernel=sigmoid;, score=0.542 total time=   0.9s\n",
            "[CV 5/10] END C=100, class_weight=balanced, kernel=sigmoid;, score=0.556 total time=   0.9s\n",
            "[CV 6/10] END C=100, class_weight=balanced, kernel=sigmoid;, score=0.518 total time=   0.9s\n",
            "[CV 7/10] END C=100, class_weight=balanced, kernel=sigmoid;, score=0.494 total time=   0.9s\n",
            "[CV 8/10] END C=100, class_weight=balanced, kernel=sigmoid;, score=0.506 total time=   0.9s\n",
            "[CV 9/10] END C=100, class_weight=balanced, kernel=sigmoid;, score=0.499 total time=   0.9s\n",
            "[CV 10/10] END C=100, class_weight=balanced, kernel=sigmoid;, score=0.482 total time=   1.0s\n",
            "[CV 1/10] END C=10, class_weight=None, kernel=sigmoid;, score=0.532 total time=   0.8s\n",
            "[CV 2/10] END C=10, class_weight=None, kernel=sigmoid;, score=0.499 total time=   0.8s\n",
            "[CV 3/10] END C=10, class_weight=None, kernel=sigmoid;, score=0.499 total time=   0.8s\n",
            "[CV 4/10] END C=10, class_weight=None, kernel=sigmoid;, score=0.542 total time=   0.8s\n",
            "[CV 5/10] END C=10, class_weight=None, kernel=sigmoid;, score=0.556 total time=   1.0s\n",
            "[CV 6/10] END C=10, class_weight=None, kernel=sigmoid;, score=0.518 total time=   1.2s\n",
            "[CV 7/10] END C=10, class_weight=None, kernel=sigmoid;, score=0.494 total time=   1.2s\n",
            "[CV 8/10] END C=10, class_weight=None, kernel=sigmoid;, score=0.506 total time=   1.2s\n",
            "[CV 9/10] END C=10, class_weight=None, kernel=sigmoid;, score=0.499 total time=   1.2s\n",
            "[CV 10/10] END C=10, class_weight=None, kernel=sigmoid;, score=0.482 total time=   1.0s\n",
            "[CV 1/10] END C=10, class_weight=balanced, kernel=sigmoid;, score=0.532 total time=   0.9s\n",
            "[CV 2/10] END C=10, class_weight=balanced, kernel=sigmoid;, score=0.499 total time=   0.9s\n",
            "[CV 3/10] END C=10, class_weight=balanced, kernel=sigmoid;, score=0.499 total time=   0.9s\n",
            "[CV 4/10] END C=10, class_weight=balanced, kernel=sigmoid;, score=0.542 total time=   0.9s\n",
            "[CV 5/10] END C=10, class_weight=balanced, kernel=sigmoid;, score=0.556 total time=   0.9s\n",
            "[CV 6/10] END C=10, class_weight=balanced, kernel=sigmoid;, score=0.518 total time=   0.9s\n",
            "[CV 7/10] END C=10, class_weight=balanced, kernel=sigmoid;, score=0.494 total time=   0.9s\n",
            "[CV 8/10] END C=10, class_weight=balanced, kernel=sigmoid;, score=0.506 total time=   0.9s\n",
            "[CV 9/10] END C=10, class_weight=balanced, kernel=sigmoid;, score=0.499 total time=   0.9s\n",
            "[CV 10/10] END C=10, class_weight=balanced, kernel=sigmoid;, score=0.482 total time=   0.9s\n",
            "[CV 1/10] END C=1, class_weight=None, kernel=sigmoid;, score=0.532 total time=   0.9s\n",
            "[CV 2/10] END C=1, class_weight=None, kernel=sigmoid;, score=0.496 total time=   1.2s\n",
            "[CV 3/10] END C=1, class_weight=None, kernel=sigmoid;, score=0.499 total time=   1.2s\n",
            "[CV 4/10] END C=1, class_weight=None, kernel=sigmoid;, score=0.539 total time=   1.2s\n",
            "[CV 5/10] END C=1, class_weight=None, kernel=sigmoid;, score=0.554 total time=   1.2s\n",
            "[CV 6/10] END C=1, class_weight=None, kernel=sigmoid;, score=0.516 total time=   1.0s\n",
            "[CV 7/10] END C=1, class_weight=None, kernel=sigmoid;, score=0.496 total time=   0.9s\n",
            "[CV 8/10] END C=1, class_weight=None, kernel=sigmoid;, score=0.506 total time=   0.8s\n",
            "[CV 9/10] END C=1, class_weight=None, kernel=sigmoid;, score=0.499 total time=   0.9s\n",
            "[CV 10/10] END C=1, class_weight=None, kernel=sigmoid;, score=0.484 total time=   0.9s\n",
            "[CV 1/10] END C=1, class_weight=balanced, kernel=sigmoid;, score=0.532 total time=   0.9s\n",
            "[CV 2/10] END C=1, class_weight=balanced, kernel=sigmoid;, score=0.496 total time=   0.9s\n",
            "[CV 3/10] END C=1, class_weight=balanced, kernel=sigmoid;, score=0.499 total time=   0.9s\n",
            "[CV 4/10] END C=1, class_weight=balanced, kernel=sigmoid;, score=0.539 total time=   0.9s\n",
            "[CV 5/10] END C=1, class_weight=balanced, kernel=sigmoid;, score=0.554 total time=   0.9s\n",
            "[CV 6/10] END C=1, class_weight=balanced, kernel=sigmoid;, score=0.516 total time=   0.9s\n",
            "[CV 7/10] END C=1, class_weight=balanced, kernel=sigmoid;, score=0.499 total time=   1.0s\n",
            "[CV 8/10] END C=1, class_weight=balanced, kernel=sigmoid;, score=0.506 total time=   1.3s\n",
            "[CV 9/10] END C=1, class_weight=balanced, kernel=sigmoid;, score=0.499 total time=   1.3s\n",
            "[CV 10/10] END C=1, class_weight=balanced, kernel=sigmoid;, score=0.484 total time=   1.3s\n",
            "[CV 1/10] END C=0.1, class_weight=None, kernel=sigmoid;, score=0.530 total time=   1.7s\n",
            "[CV 2/10] END C=0.1, class_weight=None, kernel=sigmoid;, score=0.499 total time=   1.3s\n",
            "[CV 3/10] END C=0.1, class_weight=None, kernel=sigmoid;, score=0.501 total time=   1.3s\n",
            "[CV 4/10] END C=0.1, class_weight=None, kernel=sigmoid;, score=0.539 total time=   1.3s\n",
            "[CV 5/10] END C=0.1, class_weight=None, kernel=sigmoid;, score=0.558 total time=   1.3s\n",
            "[CV 6/10] END C=0.1, class_weight=None, kernel=sigmoid;, score=0.518 total time=   1.3s\n",
            "[CV 7/10] END C=0.1, class_weight=None, kernel=sigmoid;, score=0.489 total time=   1.3s\n",
            "[CV 8/10] END C=0.1, class_weight=None, kernel=sigmoid;, score=0.511 total time=   1.3s\n",
            "[CV 9/10] END C=0.1, class_weight=None, kernel=sigmoid;, score=0.504 total time=   1.7s\n",
            "[CV 10/10] END C=0.1, class_weight=None, kernel=sigmoid;, score=0.475 total time=   1.8s\n",
            "[CV 1/10] END C=0.1, class_weight=balanced, kernel=sigmoid;, score=0.530 total time=   1.9s\n",
            "[CV 2/10] END C=0.1, class_weight=balanced, kernel=sigmoid;, score=0.499 total time=   1.5s\n",
            "[CV 3/10] END C=0.1, class_weight=balanced, kernel=sigmoid;, score=0.501 total time=   1.3s\n",
            "[CV 4/10] END C=0.1, class_weight=balanced, kernel=sigmoid;, score=0.539 total time=   1.4s\n",
            "[CV 5/10] END C=0.1, class_weight=balanced, kernel=sigmoid;, score=0.558 total time=   1.4s\n",
            "[CV 6/10] END C=0.1, class_weight=balanced, kernel=sigmoid;, score=0.518 total time=   1.4s\n",
            "[CV 7/10] END C=0.1, class_weight=balanced, kernel=sigmoid;, score=0.489 total time=   1.4s\n",
            "[CV 8/10] END C=0.1, class_weight=balanced, kernel=sigmoid;, score=0.511 total time=   1.4s\n",
            "[CV 9/10] END C=0.1, class_weight=balanced, kernel=sigmoid;, score=0.504 total time=   1.7s\n",
            "[CV 10/10] END C=0.1, class_weight=balanced, kernel=sigmoid;, score=0.480 total time=   2.0s\n",
            "[CV 1/10] END C=0.01, class_weight=None, kernel=sigmoid;, score=0.499 total time=   2.5s\n",
            "[CV 2/10] END C=0.01, class_weight=None, kernel=sigmoid;, score=0.499 total time=   1.8s\n",
            "[CV 3/10] END C=0.01, class_weight=None, kernel=sigmoid;, score=0.499 total time=   1.7s\n",
            "[CV 4/10] END C=0.01, class_weight=None, kernel=sigmoid;, score=0.499 total time=   1.7s\n",
            "[CV 5/10] END C=0.01, class_weight=None, kernel=sigmoid;, score=0.499 total time=   1.8s\n",
            "[CV 6/10] END C=0.01, class_weight=None, kernel=sigmoid;, score=0.499 total time=   1.7s\n",
            "[CV 7/10] END C=0.01, class_weight=None, kernel=sigmoid;, score=0.499 total time=   2.0s\n",
            "[CV 8/10] END C=0.01, class_weight=None, kernel=sigmoid;, score=0.499 total time=   2.5s\n",
            "[CV 9/10] END C=0.01, class_weight=None, kernel=sigmoid;, score=0.499 total time=   2.5s\n",
            "[CV 10/10] END C=0.01, class_weight=None, kernel=sigmoid;, score=0.499 total time=   1.8s\n",
            "[CV 1/10] END C=0.01, class_weight=balanced, kernel=sigmoid;, score=0.501 total time=   1.9s\n",
            "[CV 2/10] END C=0.01, class_weight=balanced, kernel=sigmoid;, score=0.501 total time=   1.9s\n",
            "[CV 3/10] END C=0.01, class_weight=balanced, kernel=sigmoid;, score=0.501 total time=   1.9s\n",
            "[CV 4/10] END C=0.01, class_weight=balanced, kernel=sigmoid;, score=0.501 total time=   1.9s\n",
            "[CV 5/10] END C=0.01, class_weight=balanced, kernel=sigmoid;, score=0.501 total time=   2.4s\n",
            "[CV 6/10] END C=0.01, class_weight=balanced, kernel=sigmoid;, score=0.501 total time=   2.7s\n",
            "[CV 7/10] END C=0.01, class_weight=balanced, kernel=sigmoid;, score=0.501 total time=   2.3s\n",
            "[CV 8/10] END C=0.01, class_weight=balanced, kernel=sigmoid;, score=0.501 total time=   1.9s\n",
            "[CV 9/10] END C=0.01, class_weight=balanced, kernel=sigmoid;, score=0.501 total time=   1.9s\n",
            "[CV 10/10] END C=0.01, class_weight=balanced, kernel=sigmoid;, score=0.501 total time=   1.9s\n",
            "\n",
            "{'C': 0.1, 'class_weight': 'balanced', 'kernel': 'sigmoid'}\n",
            "SVC(C=0.1, class_weight='balanced', kernel='sigmoid', random_state=0)\n"
          ]
        }
      ],
      "source": [
        "clf = svm.SVC(random_state=random_state)\n",
        "CV_rfc = GridSearchCV(estimator=clf,\n",
        "                      param_grid=param_grid,\n",
        "                      cv= 10,\n",
        "                      verbose=3)\n",
        "CV_rfc.fit(X_train, y_train)\n",
        "\n",
        "print('')\n",
        "print(CV_rfc.best_params_)\n",
        "print(CV_rfc.best_estimator_)"
      ]
    },
    {
      "cell_type": "code",
      "execution_count": null,
      "metadata": {
        "id": "xCIDLa35BisA"
      },
      "outputs": [],
      "source": [
        " 'poly', 'rbf', 'sigmoid', 'precomputed'"
      ]
    },
    {
      "cell_type": "code",
      "execution_count": null,
      "metadata": {
        "colab": {
          "base_uri": "https://localhost:8080/"
        },
        "id": "RIBL0nHvBisB",
        "outputId": "b778f894-317a-4f23-d8e6-dd7083cd9a8e"
      },
      "outputs": [
        {
          "name": "stdout",
          "output_type": "stream",
          "text": [
            "train scores \n",
            "\n",
            "accuracy: 0.514\n",
            "f1: 0.514\n",
            "balanced accuracy: 0.514\n",
            "matthews corrcoeff: 0.028\n",
            "\n",
            "val scores \n",
            "\n",
            "accuracy: 0.523\n",
            "f1: 0.665\n",
            "balanced accuracy: 0.525\n",
            "matthews corrcoeff: 0.029\n"
          ]
        }
      ],
      "source": [
        "clf = svm.SVC(C=0.1, class_weight='balanced', kernel='sigmoid', random_state=random_state)\n",
        "fit = clf.fit(X_train, y_train)\n",
        "\n",
        "y_pred = fit.predict(X_train)\n",
        "y_val_pred = fit.predict(X_val)\n",
        "\n",
        "# calculate statistical metrics accuracy for training set\n",
        "train_accuracy = metrics.accuracy_score(y_train, y_pred)\n",
        "val_accuracy = metrics.accuracy_score(y_val, y_val_pred)\n",
        "\n",
        "# calculate statistical metrics for training set\n",
        "train_f1 = metrics.f1_score(y_train, y_pred, average = 'weighted')\n",
        "train_ba = metrics.balanced_accuracy_score(y_train, y_pred)\n",
        "train_mcc = metrics.matthews_corrcoef(y_train, y_pred)\n",
        "\n",
        "# calculate statistical metrics for val set\n",
        "val_f1 = metrics.f1_score(y_val, y_val_pred, average = 'weighted')\n",
        "val_ba = metrics.balanced_accuracy_score(y_val, y_val_pred)\n",
        "val_mcc = metrics.matthews_corrcoef(y_val, y_val_pred)\n",
        "\n",
        "print(f'train scores \\n')\n",
        "print(f'accuracy: {train_accuracy:.3f}')\n",
        "print(f'f1: {train_f1:.3f}')\n",
        "print(f'balanced accuracy: {train_ba:.3f}')\n",
        "print(f'matthews corrcoeff: {train_mcc:.3f}')\n",
        "print('')\n",
        "print(f'val scores \\n')\n",
        "print(f'accuracy: {val_accuracy:.3f}')\n",
        "print(f'f1: {val_f1:.3f}')\n",
        "print(f'balanced accuracy: {val_ba:.3f}')\n",
        "print(f'matthews corrcoeff: {val_mcc:.3f}')"
      ]
    },
    {
      "cell_type": "markdown",
      "metadata": {
        "id": "w6XGZ09BIIn1"
      },
      "source": [
        "linear"
      ]
    },
    {
      "cell_type": "code",
      "execution_count": 13,
      "metadata": {
        "id": "v28zmzqPHOwr"
      },
      "outputs": [],
      "source": [
        "param_grid = {\n",
        "    'kernel': ['linear',],\n",
        "    #'gamma': ['scale', 'auto'],\n",
        "    #'class_weight':[None, 'balanced'],\n",
        "    'C': [0.01, 1, 100],\n",
        "}"
      ]
    },
    {
      "cell_type": "code",
      "execution_count": 14,
      "metadata": {
        "colab": {
          "base_uri": "https://localhost:8080/"
        },
        "id": "Q79V3HrMHPg8",
        "outputId": "01f71b36-f0b2-4ec6-b3b9-bf09b697bca2"
      },
      "outputs": [
        {
          "name": "stdout",
          "output_type": "stream",
          "text": [
            "Fitting 10 folds for each of 3 candidates, totalling 30 fits\n"
          ]
        }
      ],
      "source": [
        "clf = svm.SVC(random_state=random_state)\n",
        "CV_rfc = GridSearchCV(estimator=clf,\n",
        "                      param_grid=param_grid,\n",
        "                      cv= 10,\n",
        "                      verbose=3)\n",
        "CV_rfc.fit(X_train, y_train)\n",
        "\n",
        "print('')\n",
        "print(CV_rfc.best_params_)\n",
        "print(CV_rfc.best_estimator_)"
      ]
    },
    {
      "cell_type": "markdown",
      "metadata": {},
      "source": [
        "## rfecv"
      ]
    },
    {
      "cell_type": "code",
      "execution_count": 11,
      "metadata": {},
      "outputs": [
        {
          "name": "stdout",
          "output_type": "stream",
          "text": [
            "Fitting estimator with 58 features.\n"
          ]
        },
        {
          "name": "stdout",
          "output_type": "stream",
          "text": [
            "Fitting estimator with 56 features.\n",
            "Fitting estimator with 54 features.\n",
            "Fitting estimator with 52 features.\n",
            "Fitting estimator with 50 features.\n",
            "Fitting estimator with 48 features.\n",
            "Fitting estimator with 46 features.\n",
            "Fitting estimator with 44 features.\n",
            "Fitting estimator with 42 features.\n",
            "Fitting estimator with 40 features.\n",
            "Fitting estimator with 38 features.\n",
            "Fitting estimator with 36 features.\n",
            "Fitting estimator with 34 features.\n",
            "Fitting estimator with 32 features.\n",
            "Fitting estimator with 30 features.\n",
            "Fitting estimator with 28 features.\n",
            "Fitting estimator with 26 features.\n",
            "Fitting estimator with 24 features.\n",
            "Fitting estimator with 22 features.\n",
            "Fitting estimator with 20 features.\n",
            "Fitting estimator with 18 features.\n",
            "Fitting estimator with 16 features.\n",
            "Fitting estimator with 14 features.\n",
            "Fitting estimator with 12 features.\n",
            "Fitting estimator with 10 features.\n",
            "Fitting estimator with 8 features.\n",
            "Fitting estimator with 6 features.\n",
            "Fitting estimator with 4 features.\n",
            "Fitting estimator with 2 features.\n",
            "Fitting estimator with 58 features.\n",
            "Fitting estimator with 56 features.\n",
            "Fitting estimator with 54 features.\n",
            "Fitting estimator with 52 features.\n",
            "Fitting estimator with 50 features.\n",
            "Fitting estimator with 48 features.\n",
            "Fitting estimator with 46 features.\n",
            "Fitting estimator with 44 features.\n",
            "Fitting estimator with 42 features.\n",
            "Fitting estimator with 40 features.\n",
            "Fitting estimator with 38 features.\n",
            "Fitting estimator with 36 features.\n",
            "Fitting estimator with 34 features.\n",
            "Fitting estimator with 32 features.\n",
            "Fitting estimator with 30 features.\n",
            "Fitting estimator with 28 features.\n",
            "Fitting estimator with 26 features.\n",
            "Fitting estimator with 24 features.\n",
            "Fitting estimator with 22 features.\n",
            "Fitting estimator with 20 features.\n",
            "Fitting estimator with 18 features.\n",
            "Fitting estimator with 16 features.\n",
            "Fitting estimator with 14 features.\n",
            "Fitting estimator with 12 features.\n",
            "Fitting estimator with 10 features.\n",
            "Fitting estimator with 8 features.\n",
            "Fitting estimator with 6 features.\n",
            "Fitting estimator with 4 features.\n",
            "Fitting estimator with 2 features.\n",
            "Fitting estimator with 58 features.\n",
            "Fitting estimator with 56 features.\n",
            "Fitting estimator with 54 features.\n",
            "Fitting estimator with 52 features.\n",
            "Fitting estimator with 50 features.\n",
            "Fitting estimator with 48 features.\n",
            "Fitting estimator with 46 features.\n",
            "Fitting estimator with 44 features.\n",
            "Fitting estimator with 42 features.\n",
            "Fitting estimator with 40 features.\n",
            "Fitting estimator with 38 features.\n",
            "Fitting estimator with 36 features.\n",
            "Fitting estimator with 34 features.\n",
            "Fitting estimator with 32 features.\n",
            "Fitting estimator with 30 features.\n",
            "Fitting estimator with 28 features.\n",
            "Fitting estimator with 26 features.\n",
            "Fitting estimator with 24 features.\n",
            "Fitting estimator with 22 features.\n",
            "Fitting estimator with 20 features.\n",
            "Fitting estimator with 18 features.\n",
            "Fitting estimator with 16 features.\n",
            "Fitting estimator with 14 features.\n",
            "Fitting estimator with 12 features.\n",
            "Fitting estimator with 10 features.\n",
            "Fitting estimator with 8 features.\n",
            "Fitting estimator with 6 features.\n",
            "Fitting estimator with 4 features.\n",
            "Fitting estimator with 2 features.\n",
            "Fitting estimator with 58 features.\n",
            "Fitting estimator with 56 features.\n",
            "Fitting estimator with 54 features.\n",
            "Fitting estimator with 52 features.\n",
            "Fitting estimator with 50 features.\n",
            "Fitting estimator with 48 features.\n",
            "Fitting estimator with 46 features.\n",
            "Fitting estimator with 44 features.\n",
            "Fitting estimator with 42 features.\n",
            "Fitting estimator with 40 features.\n",
            "Fitting estimator with 38 features.\n",
            "Fitting estimator with 36 features.\n",
            "Fitting estimator with 34 features.\n",
            "Fitting estimator with 32 features.\n",
            "Fitting estimator with 30 features.\n",
            "Fitting estimator with 28 features.\n",
            "Fitting estimator with 26 features.\n",
            "Fitting estimator with 24 features.\n",
            "Fitting estimator with 22 features.\n",
            "Fitting estimator with 20 features.\n",
            "Fitting estimator with 18 features.\n",
            "Fitting estimator with 16 features.\n",
            "Fitting estimator with 14 features.\n",
            "Fitting estimator with 12 features.\n",
            "Fitting estimator with 10 features.\n",
            "Fitting estimator with 8 features.\n",
            "Fitting estimator with 6 features.\n",
            "Fitting estimator with 4 features.\n",
            "Fitting estimator with 2 features.\n",
            "Fitting estimator with 58 features.\n",
            "Fitting estimator with 56 features.\n",
            "Fitting estimator with 54 features.\n",
            "Fitting estimator with 52 features.\n",
            "Fitting estimator with 50 features.\n",
            "Fitting estimator with 48 features.\n",
            "Fitting estimator with 46 features.\n",
            "Fitting estimator with 44 features.\n",
            "Fitting estimator with 42 features.\n",
            "Fitting estimator with 40 features.\n",
            "Fitting estimator with 38 features.\n",
            "Fitting estimator with 36 features.\n",
            "Fitting estimator with 34 features.\n",
            "Fitting estimator with 32 features.\n",
            "Fitting estimator with 30 features.\n",
            "Fitting estimator with 28 features.\n",
            "Fitting estimator with 26 features.\n",
            "Fitting estimator with 24 features.\n",
            "Fitting estimator with 22 features.\n",
            "Fitting estimator with 20 features.\n",
            "Fitting estimator with 18 features.\n",
            "Fitting estimator with 16 features.\n",
            "Fitting estimator with 14 features.\n",
            "Fitting estimator with 12 features.\n",
            "Fitting estimator with 10 features.\n",
            "Fitting estimator with 8 features.\n",
            "Fitting estimator with 6 features.\n",
            "Fitting estimator with 4 features.\n",
            "Fitting estimator with 2 features.\n",
            "Fitting estimator with 58 features.\n",
            "Fitting estimator with 56 features.\n",
            "Fitting estimator with 54 features.\n",
            "Fitting estimator with 52 features.\n",
            "Fitting estimator with 50 features.\n",
            "Fitting estimator with 48 features.\n",
            "Fitting estimator with 46 features.\n",
            "Fitting estimator with 44 features.\n",
            "Fitting estimator with 42 features.\n",
            "Fitting estimator with 40 features.\n",
            "Fitting estimator with 38 features.\n",
            "Fitting estimator with 36 features.\n",
            "Fitting estimator with 34 features.\n",
            "Fitting estimator with 32 features.\n",
            "Fitting estimator with 30 features.\n",
            "Fitting estimator with 28 features.\n",
            "Fitting estimator with 26 features.\n",
            "Fitting estimator with 24 features.\n",
            "Fitting estimator with 22 features.\n",
            "Fitting estimator with 20 features.\n",
            "Fitting estimator with 18 features.\n",
            "Fitting estimator with 16 features.\n",
            "Fitting estimator with 14 features.\n",
            "Fitting estimator with 12 features.\n",
            "Fitting estimator with 10 features.\n",
            "Fitting estimator with 8 features.\n",
            "Fitting estimator with 6 features.\n",
            "Fitting estimator with 4 features.\n",
            "Fitting estimator with 2 features.\n",
            "Fitting estimator with 58 features.\n"
          ]
        },
        {
          "name": "stderr",
          "output_type": "stream",
          "text": [
            "/opt/anaconda3/envs/kinase/lib/python3.10/site-packages/sklearn/metrics/_classification.py:2394: UserWarning: y_pred contains classes not in y_true\n",
            "  warnings.warn(\"y_pred contains classes not in y_true\")\n"
          ]
        },
        {
          "name": "stdout",
          "output_type": "stream",
          "text": [
            "Fitting estimator with 56 features.\n"
          ]
        },
        {
          "name": "stderr",
          "output_type": "stream",
          "text": [
            "/opt/anaconda3/envs/kinase/lib/python3.10/site-packages/sklearn/metrics/_classification.py:2394: UserWarning: y_pred contains classes not in y_true\n",
            "  warnings.warn(\"y_pred contains classes not in y_true\")\n"
          ]
        },
        {
          "name": "stdout",
          "output_type": "stream",
          "text": [
            "Fitting estimator with 54 features.\n"
          ]
        },
        {
          "name": "stderr",
          "output_type": "stream",
          "text": [
            "/opt/anaconda3/envs/kinase/lib/python3.10/site-packages/sklearn/metrics/_classification.py:2394: UserWarning: y_pred contains classes not in y_true\n",
            "  warnings.warn(\"y_pred contains classes not in y_true\")\n"
          ]
        },
        {
          "name": "stdout",
          "output_type": "stream",
          "text": [
            "Fitting estimator with 52 features.\n"
          ]
        },
        {
          "name": "stderr",
          "output_type": "stream",
          "text": [
            "/opt/anaconda3/envs/kinase/lib/python3.10/site-packages/sklearn/metrics/_classification.py:2394: UserWarning: y_pred contains classes not in y_true\n",
            "  warnings.warn(\"y_pred contains classes not in y_true\")\n"
          ]
        },
        {
          "name": "stdout",
          "output_type": "stream",
          "text": [
            "Fitting estimator with 50 features.\n"
          ]
        },
        {
          "name": "stderr",
          "output_type": "stream",
          "text": [
            "/opt/anaconda3/envs/kinase/lib/python3.10/site-packages/sklearn/metrics/_classification.py:2394: UserWarning: y_pred contains classes not in y_true\n",
            "  warnings.warn(\"y_pred contains classes not in y_true\")\n"
          ]
        },
        {
          "name": "stdout",
          "output_type": "stream",
          "text": [
            "Fitting estimator with 48 features.\n"
          ]
        },
        {
          "name": "stderr",
          "output_type": "stream",
          "text": [
            "/opt/anaconda3/envs/kinase/lib/python3.10/site-packages/sklearn/metrics/_classification.py:2394: UserWarning: y_pred contains classes not in y_true\n",
            "  warnings.warn(\"y_pred contains classes not in y_true\")\n"
          ]
        },
        {
          "name": "stdout",
          "output_type": "stream",
          "text": [
            "Fitting estimator with 46 features.\n"
          ]
        },
        {
          "name": "stderr",
          "output_type": "stream",
          "text": [
            "/opt/anaconda3/envs/kinase/lib/python3.10/site-packages/sklearn/metrics/_classification.py:2394: UserWarning: y_pred contains classes not in y_true\n",
            "  warnings.warn(\"y_pred contains classes not in y_true\")\n"
          ]
        },
        {
          "name": "stdout",
          "output_type": "stream",
          "text": [
            "Fitting estimator with 44 features.\n"
          ]
        },
        {
          "name": "stderr",
          "output_type": "stream",
          "text": [
            "/opt/anaconda3/envs/kinase/lib/python3.10/site-packages/sklearn/metrics/_classification.py:2394: UserWarning: y_pred contains classes not in y_true\n",
            "  warnings.warn(\"y_pred contains classes not in y_true\")\n"
          ]
        },
        {
          "name": "stdout",
          "output_type": "stream",
          "text": [
            "Fitting estimator with 42 features.\n"
          ]
        },
        {
          "name": "stderr",
          "output_type": "stream",
          "text": [
            "/opt/anaconda3/envs/kinase/lib/python3.10/site-packages/sklearn/metrics/_classification.py:2394: UserWarning: y_pred contains classes not in y_true\n",
            "  warnings.warn(\"y_pred contains classes not in y_true\")\n"
          ]
        },
        {
          "name": "stdout",
          "output_type": "stream",
          "text": [
            "Fitting estimator with 40 features.\n"
          ]
        },
        {
          "name": "stderr",
          "output_type": "stream",
          "text": [
            "/opt/anaconda3/envs/kinase/lib/python3.10/site-packages/sklearn/metrics/_classification.py:2394: UserWarning: y_pred contains classes not in y_true\n",
            "  warnings.warn(\"y_pred contains classes not in y_true\")\n"
          ]
        },
        {
          "name": "stdout",
          "output_type": "stream",
          "text": [
            "Fitting estimator with 38 features.\n"
          ]
        },
        {
          "name": "stderr",
          "output_type": "stream",
          "text": [
            "/opt/anaconda3/envs/kinase/lib/python3.10/site-packages/sklearn/metrics/_classification.py:2394: UserWarning: y_pred contains classes not in y_true\n",
            "  warnings.warn(\"y_pred contains classes not in y_true\")\n"
          ]
        },
        {
          "name": "stdout",
          "output_type": "stream",
          "text": [
            "Fitting estimator with 36 features.\n"
          ]
        },
        {
          "name": "stderr",
          "output_type": "stream",
          "text": [
            "/opt/anaconda3/envs/kinase/lib/python3.10/site-packages/sklearn/metrics/_classification.py:2394: UserWarning: y_pred contains classes not in y_true\n",
            "  warnings.warn(\"y_pred contains classes not in y_true\")\n"
          ]
        },
        {
          "name": "stdout",
          "output_type": "stream",
          "text": [
            "Fitting estimator with 34 features.\n"
          ]
        },
        {
          "name": "stderr",
          "output_type": "stream",
          "text": [
            "/opt/anaconda3/envs/kinase/lib/python3.10/site-packages/sklearn/metrics/_classification.py:2394: UserWarning: y_pred contains classes not in y_true\n",
            "  warnings.warn(\"y_pred contains classes not in y_true\")\n"
          ]
        },
        {
          "name": "stdout",
          "output_type": "stream",
          "text": [
            "Fitting estimator with 32 features.\n"
          ]
        },
        {
          "name": "stderr",
          "output_type": "stream",
          "text": [
            "/opt/anaconda3/envs/kinase/lib/python3.10/site-packages/sklearn/metrics/_classification.py:2394: UserWarning: y_pred contains classes not in y_true\n",
            "  warnings.warn(\"y_pred contains classes not in y_true\")\n"
          ]
        },
        {
          "name": "stdout",
          "output_type": "stream",
          "text": [
            "Fitting estimator with 30 features.\n"
          ]
        },
        {
          "name": "stderr",
          "output_type": "stream",
          "text": [
            "/opt/anaconda3/envs/kinase/lib/python3.10/site-packages/sklearn/metrics/_classification.py:2394: UserWarning: y_pred contains classes not in y_true\n",
            "  warnings.warn(\"y_pred contains classes not in y_true\")\n"
          ]
        },
        {
          "name": "stdout",
          "output_type": "stream",
          "text": [
            "Fitting estimator with 28 features.\n"
          ]
        },
        {
          "name": "stderr",
          "output_type": "stream",
          "text": [
            "/opt/anaconda3/envs/kinase/lib/python3.10/site-packages/sklearn/metrics/_classification.py:2394: UserWarning: y_pred contains classes not in y_true\n",
            "  warnings.warn(\"y_pred contains classes not in y_true\")\n"
          ]
        },
        {
          "name": "stdout",
          "output_type": "stream",
          "text": [
            "Fitting estimator with 26 features.\n"
          ]
        },
        {
          "name": "stderr",
          "output_type": "stream",
          "text": [
            "/opt/anaconda3/envs/kinase/lib/python3.10/site-packages/sklearn/metrics/_classification.py:2394: UserWarning: y_pred contains classes not in y_true\n",
            "  warnings.warn(\"y_pred contains classes not in y_true\")\n"
          ]
        },
        {
          "name": "stdout",
          "output_type": "stream",
          "text": [
            "Fitting estimator with 24 features.\n"
          ]
        },
        {
          "name": "stderr",
          "output_type": "stream",
          "text": [
            "/opt/anaconda3/envs/kinase/lib/python3.10/site-packages/sklearn/metrics/_classification.py:2394: UserWarning: y_pred contains classes not in y_true\n",
            "  warnings.warn(\"y_pred contains classes not in y_true\")\n"
          ]
        },
        {
          "name": "stdout",
          "output_type": "stream",
          "text": [
            "Fitting estimator with 22 features.\n"
          ]
        },
        {
          "name": "stderr",
          "output_type": "stream",
          "text": [
            "/opt/anaconda3/envs/kinase/lib/python3.10/site-packages/sklearn/metrics/_classification.py:2394: UserWarning: y_pred contains classes not in y_true\n",
            "  warnings.warn(\"y_pred contains classes not in y_true\")\n"
          ]
        },
        {
          "name": "stdout",
          "output_type": "stream",
          "text": [
            "Fitting estimator with 20 features.\n"
          ]
        },
        {
          "name": "stderr",
          "output_type": "stream",
          "text": [
            "/opt/anaconda3/envs/kinase/lib/python3.10/site-packages/sklearn/metrics/_classification.py:2394: UserWarning: y_pred contains classes not in y_true\n",
            "  warnings.warn(\"y_pred contains classes not in y_true\")\n"
          ]
        },
        {
          "name": "stdout",
          "output_type": "stream",
          "text": [
            "Fitting estimator with 18 features.\n"
          ]
        },
        {
          "name": "stderr",
          "output_type": "stream",
          "text": [
            "/opt/anaconda3/envs/kinase/lib/python3.10/site-packages/sklearn/metrics/_classification.py:2394: UserWarning: y_pred contains classes not in y_true\n",
            "  warnings.warn(\"y_pred contains classes not in y_true\")\n"
          ]
        },
        {
          "name": "stdout",
          "output_type": "stream",
          "text": [
            "Fitting estimator with 16 features.\n"
          ]
        },
        {
          "name": "stderr",
          "output_type": "stream",
          "text": [
            "/opt/anaconda3/envs/kinase/lib/python3.10/site-packages/sklearn/metrics/_classification.py:2394: UserWarning: y_pred contains classes not in y_true\n",
            "  warnings.warn(\"y_pred contains classes not in y_true\")\n"
          ]
        },
        {
          "name": "stdout",
          "output_type": "stream",
          "text": [
            "Fitting estimator with 14 features.\n"
          ]
        },
        {
          "name": "stderr",
          "output_type": "stream",
          "text": [
            "/opt/anaconda3/envs/kinase/lib/python3.10/site-packages/sklearn/metrics/_classification.py:2394: UserWarning: y_pred contains classes not in y_true\n",
            "  warnings.warn(\"y_pred contains classes not in y_true\")\n"
          ]
        },
        {
          "name": "stdout",
          "output_type": "stream",
          "text": [
            "Fitting estimator with 12 features.\n"
          ]
        },
        {
          "name": "stderr",
          "output_type": "stream",
          "text": [
            "/opt/anaconda3/envs/kinase/lib/python3.10/site-packages/sklearn/metrics/_classification.py:2394: UserWarning: y_pred contains classes not in y_true\n",
            "  warnings.warn(\"y_pred contains classes not in y_true\")\n"
          ]
        },
        {
          "name": "stdout",
          "output_type": "stream",
          "text": [
            "Fitting estimator with 10 features.\n"
          ]
        },
        {
          "name": "stderr",
          "output_type": "stream",
          "text": [
            "/opt/anaconda3/envs/kinase/lib/python3.10/site-packages/sklearn/metrics/_classification.py:2394: UserWarning: y_pred contains classes not in y_true\n",
            "  warnings.warn(\"y_pred contains classes not in y_true\")\n"
          ]
        },
        {
          "name": "stdout",
          "output_type": "stream",
          "text": [
            "Fitting estimator with 8 features.\n"
          ]
        },
        {
          "name": "stderr",
          "output_type": "stream",
          "text": [
            "/opt/anaconda3/envs/kinase/lib/python3.10/site-packages/sklearn/metrics/_classification.py:2394: UserWarning: y_pred contains classes not in y_true\n",
            "  warnings.warn(\"y_pred contains classes not in y_true\")\n"
          ]
        },
        {
          "name": "stdout",
          "output_type": "stream",
          "text": [
            "Fitting estimator with 6 features.\n"
          ]
        },
        {
          "name": "stderr",
          "output_type": "stream",
          "text": [
            "/opt/anaconda3/envs/kinase/lib/python3.10/site-packages/sklearn/metrics/_classification.py:2394: UserWarning: y_pred contains classes not in y_true\n",
            "  warnings.warn(\"y_pred contains classes not in y_true\")\n"
          ]
        },
        {
          "name": "stdout",
          "output_type": "stream",
          "text": [
            "Fitting estimator with 4 features.\n"
          ]
        },
        {
          "name": "stderr",
          "output_type": "stream",
          "text": [
            "/opt/anaconda3/envs/kinase/lib/python3.10/site-packages/sklearn/metrics/_classification.py:2394: UserWarning: y_pred contains classes not in y_true\n",
            "  warnings.warn(\"y_pred contains classes not in y_true\")\n"
          ]
        },
        {
          "name": "stdout",
          "output_type": "stream",
          "text": [
            "Fitting estimator with 2 features.\n"
          ]
        },
        {
          "name": "stderr",
          "output_type": "stream",
          "text": [
            "/opt/anaconda3/envs/kinase/lib/python3.10/site-packages/sklearn/metrics/_classification.py:2394: UserWarning: y_pred contains classes not in y_true\n",
            "  warnings.warn(\"y_pred contains classes not in y_true\")\n",
            "/opt/anaconda3/envs/kinase/lib/python3.10/site-packages/sklearn/metrics/_classification.py:2394: UserWarning: y_pred contains classes not in y_true\n",
            "  warnings.warn(\"y_pred contains classes not in y_true\")\n"
          ]
        },
        {
          "name": "stdout",
          "output_type": "stream",
          "text": [
            "Fitting estimator with 58 features.\n"
          ]
        },
        {
          "name": "stderr",
          "output_type": "stream",
          "text": [
            "/opt/anaconda3/envs/kinase/lib/python3.10/site-packages/sklearn/metrics/_classification.py:2394: UserWarning: y_pred contains classes not in y_true\n",
            "  warnings.warn(\"y_pred contains classes not in y_true\")\n"
          ]
        },
        {
          "name": "stdout",
          "output_type": "stream",
          "text": [
            "Fitting estimator with 56 features.\n"
          ]
        },
        {
          "name": "stderr",
          "output_type": "stream",
          "text": [
            "/opt/anaconda3/envs/kinase/lib/python3.10/site-packages/sklearn/metrics/_classification.py:2394: UserWarning: y_pred contains classes not in y_true\n",
            "  warnings.warn(\"y_pred contains classes not in y_true\")\n"
          ]
        },
        {
          "name": "stdout",
          "output_type": "stream",
          "text": [
            "Fitting estimator with 54 features.\n"
          ]
        },
        {
          "name": "stderr",
          "output_type": "stream",
          "text": [
            "/opt/anaconda3/envs/kinase/lib/python3.10/site-packages/sklearn/metrics/_classification.py:2394: UserWarning: y_pred contains classes not in y_true\n",
            "  warnings.warn(\"y_pred contains classes not in y_true\")\n"
          ]
        },
        {
          "name": "stdout",
          "output_type": "stream",
          "text": [
            "Fitting estimator with 52 features.\n"
          ]
        },
        {
          "name": "stderr",
          "output_type": "stream",
          "text": [
            "/opt/anaconda3/envs/kinase/lib/python3.10/site-packages/sklearn/metrics/_classification.py:2394: UserWarning: y_pred contains classes not in y_true\n",
            "  warnings.warn(\"y_pred contains classes not in y_true\")\n"
          ]
        },
        {
          "name": "stdout",
          "output_type": "stream",
          "text": [
            "Fitting estimator with 50 features.\n"
          ]
        },
        {
          "name": "stderr",
          "output_type": "stream",
          "text": [
            "/opt/anaconda3/envs/kinase/lib/python3.10/site-packages/sklearn/metrics/_classification.py:2394: UserWarning: y_pred contains classes not in y_true\n",
            "  warnings.warn(\"y_pred contains classes not in y_true\")\n"
          ]
        },
        {
          "name": "stdout",
          "output_type": "stream",
          "text": [
            "Fitting estimator with 48 features.\n"
          ]
        },
        {
          "name": "stderr",
          "output_type": "stream",
          "text": [
            "/opt/anaconda3/envs/kinase/lib/python3.10/site-packages/sklearn/metrics/_classification.py:2394: UserWarning: y_pred contains classes not in y_true\n",
            "  warnings.warn(\"y_pred contains classes not in y_true\")\n"
          ]
        },
        {
          "name": "stdout",
          "output_type": "stream",
          "text": [
            "Fitting estimator with 46 features.\n"
          ]
        },
        {
          "name": "stderr",
          "output_type": "stream",
          "text": [
            "/opt/anaconda3/envs/kinase/lib/python3.10/site-packages/sklearn/metrics/_classification.py:2394: UserWarning: y_pred contains classes not in y_true\n",
            "  warnings.warn(\"y_pred contains classes not in y_true\")\n"
          ]
        },
        {
          "name": "stdout",
          "output_type": "stream",
          "text": [
            "Fitting estimator with 44 features.\n"
          ]
        },
        {
          "name": "stderr",
          "output_type": "stream",
          "text": [
            "/opt/anaconda3/envs/kinase/lib/python3.10/site-packages/sklearn/metrics/_classification.py:2394: UserWarning: y_pred contains classes not in y_true\n",
            "  warnings.warn(\"y_pred contains classes not in y_true\")\n"
          ]
        },
        {
          "name": "stdout",
          "output_type": "stream",
          "text": [
            "Fitting estimator with 42 features.\n"
          ]
        },
        {
          "name": "stderr",
          "output_type": "stream",
          "text": [
            "/opt/anaconda3/envs/kinase/lib/python3.10/site-packages/sklearn/metrics/_classification.py:2394: UserWarning: y_pred contains classes not in y_true\n",
            "  warnings.warn(\"y_pred contains classes not in y_true\")\n"
          ]
        },
        {
          "name": "stdout",
          "output_type": "stream",
          "text": [
            "Fitting estimator with 40 features.\n"
          ]
        },
        {
          "name": "stderr",
          "output_type": "stream",
          "text": [
            "/opt/anaconda3/envs/kinase/lib/python3.10/site-packages/sklearn/metrics/_classification.py:2394: UserWarning: y_pred contains classes not in y_true\n",
            "  warnings.warn(\"y_pred contains classes not in y_true\")\n"
          ]
        },
        {
          "name": "stdout",
          "output_type": "stream",
          "text": [
            "Fitting estimator with 38 features.\n"
          ]
        },
        {
          "name": "stderr",
          "output_type": "stream",
          "text": [
            "/opt/anaconda3/envs/kinase/lib/python3.10/site-packages/sklearn/metrics/_classification.py:2394: UserWarning: y_pred contains classes not in y_true\n",
            "  warnings.warn(\"y_pred contains classes not in y_true\")\n"
          ]
        },
        {
          "name": "stdout",
          "output_type": "stream",
          "text": [
            "Fitting estimator with 36 features.\n"
          ]
        },
        {
          "name": "stderr",
          "output_type": "stream",
          "text": [
            "/opt/anaconda3/envs/kinase/lib/python3.10/site-packages/sklearn/metrics/_classification.py:2394: UserWarning: y_pred contains classes not in y_true\n",
            "  warnings.warn(\"y_pred contains classes not in y_true\")\n"
          ]
        },
        {
          "name": "stdout",
          "output_type": "stream",
          "text": [
            "Fitting estimator with 34 features.\n"
          ]
        },
        {
          "name": "stderr",
          "output_type": "stream",
          "text": [
            "/opt/anaconda3/envs/kinase/lib/python3.10/site-packages/sklearn/metrics/_classification.py:2394: UserWarning: y_pred contains classes not in y_true\n",
            "  warnings.warn(\"y_pred contains classes not in y_true\")\n"
          ]
        },
        {
          "name": "stdout",
          "output_type": "stream",
          "text": [
            "Fitting estimator with 32 features.\n"
          ]
        },
        {
          "name": "stderr",
          "output_type": "stream",
          "text": [
            "/opt/anaconda3/envs/kinase/lib/python3.10/site-packages/sklearn/metrics/_classification.py:2394: UserWarning: y_pred contains classes not in y_true\n",
            "  warnings.warn(\"y_pred contains classes not in y_true\")\n"
          ]
        },
        {
          "name": "stdout",
          "output_type": "stream",
          "text": [
            "Fitting estimator with 30 features.\n"
          ]
        },
        {
          "name": "stderr",
          "output_type": "stream",
          "text": [
            "/opt/anaconda3/envs/kinase/lib/python3.10/site-packages/sklearn/metrics/_classification.py:2394: UserWarning: y_pred contains classes not in y_true\n",
            "  warnings.warn(\"y_pred contains classes not in y_true\")\n"
          ]
        },
        {
          "name": "stdout",
          "output_type": "stream",
          "text": [
            "Fitting estimator with 28 features.\n"
          ]
        },
        {
          "name": "stderr",
          "output_type": "stream",
          "text": [
            "/opt/anaconda3/envs/kinase/lib/python3.10/site-packages/sklearn/metrics/_classification.py:2394: UserWarning: y_pred contains classes not in y_true\n",
            "  warnings.warn(\"y_pred contains classes not in y_true\")\n"
          ]
        },
        {
          "name": "stdout",
          "output_type": "stream",
          "text": [
            "Fitting estimator with 26 features.\n"
          ]
        },
        {
          "name": "stderr",
          "output_type": "stream",
          "text": [
            "/opt/anaconda3/envs/kinase/lib/python3.10/site-packages/sklearn/metrics/_classification.py:2394: UserWarning: y_pred contains classes not in y_true\n",
            "  warnings.warn(\"y_pred contains classes not in y_true\")\n"
          ]
        },
        {
          "name": "stdout",
          "output_type": "stream",
          "text": [
            "Fitting estimator with 24 features.\n"
          ]
        },
        {
          "name": "stderr",
          "output_type": "stream",
          "text": [
            "/opt/anaconda3/envs/kinase/lib/python3.10/site-packages/sklearn/metrics/_classification.py:2394: UserWarning: y_pred contains classes not in y_true\n",
            "  warnings.warn(\"y_pred contains classes not in y_true\")\n"
          ]
        },
        {
          "name": "stdout",
          "output_type": "stream",
          "text": [
            "Fitting estimator with 22 features.\n"
          ]
        },
        {
          "name": "stderr",
          "output_type": "stream",
          "text": [
            "/opt/anaconda3/envs/kinase/lib/python3.10/site-packages/sklearn/metrics/_classification.py:2394: UserWarning: y_pred contains classes not in y_true\n",
            "  warnings.warn(\"y_pred contains classes not in y_true\")\n"
          ]
        },
        {
          "name": "stdout",
          "output_type": "stream",
          "text": [
            "Fitting estimator with 20 features.\n"
          ]
        },
        {
          "name": "stderr",
          "output_type": "stream",
          "text": [
            "/opt/anaconda3/envs/kinase/lib/python3.10/site-packages/sklearn/metrics/_classification.py:2394: UserWarning: y_pred contains classes not in y_true\n",
            "  warnings.warn(\"y_pred contains classes not in y_true\")\n"
          ]
        },
        {
          "name": "stdout",
          "output_type": "stream",
          "text": [
            "Fitting estimator with 18 features.\n"
          ]
        },
        {
          "name": "stderr",
          "output_type": "stream",
          "text": [
            "/opt/anaconda3/envs/kinase/lib/python3.10/site-packages/sklearn/metrics/_classification.py:2394: UserWarning: y_pred contains classes not in y_true\n",
            "  warnings.warn(\"y_pred contains classes not in y_true\")\n"
          ]
        },
        {
          "name": "stdout",
          "output_type": "stream",
          "text": [
            "Fitting estimator with 16 features.\n"
          ]
        },
        {
          "name": "stderr",
          "output_type": "stream",
          "text": [
            "/opt/anaconda3/envs/kinase/lib/python3.10/site-packages/sklearn/metrics/_classification.py:2394: UserWarning: y_pred contains classes not in y_true\n",
            "  warnings.warn(\"y_pred contains classes not in y_true\")\n"
          ]
        },
        {
          "name": "stdout",
          "output_type": "stream",
          "text": [
            "Fitting estimator with 14 features.\n"
          ]
        },
        {
          "name": "stderr",
          "output_type": "stream",
          "text": [
            "/opt/anaconda3/envs/kinase/lib/python3.10/site-packages/sklearn/metrics/_classification.py:2394: UserWarning: y_pred contains classes not in y_true\n",
            "  warnings.warn(\"y_pred contains classes not in y_true\")\n"
          ]
        },
        {
          "name": "stdout",
          "output_type": "stream",
          "text": [
            "Fitting estimator with 12 features.\n"
          ]
        },
        {
          "name": "stderr",
          "output_type": "stream",
          "text": [
            "/opt/anaconda3/envs/kinase/lib/python3.10/site-packages/sklearn/metrics/_classification.py:2394: UserWarning: y_pred contains classes not in y_true\n",
            "  warnings.warn(\"y_pred contains classes not in y_true\")\n"
          ]
        },
        {
          "name": "stdout",
          "output_type": "stream",
          "text": [
            "Fitting estimator with 10 features.\n"
          ]
        },
        {
          "name": "stderr",
          "output_type": "stream",
          "text": [
            "/opt/anaconda3/envs/kinase/lib/python3.10/site-packages/sklearn/metrics/_classification.py:2394: UserWarning: y_pred contains classes not in y_true\n",
            "  warnings.warn(\"y_pred contains classes not in y_true\")\n"
          ]
        },
        {
          "name": "stdout",
          "output_type": "stream",
          "text": [
            "Fitting estimator with 8 features.\n"
          ]
        },
        {
          "name": "stderr",
          "output_type": "stream",
          "text": [
            "/opt/anaconda3/envs/kinase/lib/python3.10/site-packages/sklearn/metrics/_classification.py:2394: UserWarning: y_pred contains classes not in y_true\n",
            "  warnings.warn(\"y_pred contains classes not in y_true\")\n"
          ]
        },
        {
          "name": "stdout",
          "output_type": "stream",
          "text": [
            "Fitting estimator with 6 features.\n"
          ]
        },
        {
          "name": "stderr",
          "output_type": "stream",
          "text": [
            "/opt/anaconda3/envs/kinase/lib/python3.10/site-packages/sklearn/metrics/_classification.py:2394: UserWarning: y_pred contains classes not in y_true\n",
            "  warnings.warn(\"y_pred contains classes not in y_true\")\n"
          ]
        },
        {
          "name": "stdout",
          "output_type": "stream",
          "text": [
            "Fitting estimator with 4 features.\n"
          ]
        },
        {
          "name": "stderr",
          "output_type": "stream",
          "text": [
            "/opt/anaconda3/envs/kinase/lib/python3.10/site-packages/sklearn/metrics/_classification.py:2394: UserWarning: y_pred contains classes not in y_true\n",
            "  warnings.warn(\"y_pred contains classes not in y_true\")\n"
          ]
        },
        {
          "name": "stdout",
          "output_type": "stream",
          "text": [
            "Fitting estimator with 2 features.\n"
          ]
        },
        {
          "name": "stderr",
          "output_type": "stream",
          "text": [
            "/opt/anaconda3/envs/kinase/lib/python3.10/site-packages/sklearn/metrics/_classification.py:2394: UserWarning: y_pred contains classes not in y_true\n",
            "  warnings.warn(\"y_pred contains classes not in y_true\")\n",
            "/opt/anaconda3/envs/kinase/lib/python3.10/site-packages/sklearn/metrics/_classification.py:2394: UserWarning: y_pred contains classes not in y_true\n",
            "  warnings.warn(\"y_pred contains classes not in y_true\")\n"
          ]
        },
        {
          "name": "stdout",
          "output_type": "stream",
          "text": [
            "Fitting estimator with 58 features.\n"
          ]
        },
        {
          "name": "stderr",
          "output_type": "stream",
          "text": [
            "/opt/anaconda3/envs/kinase/lib/python3.10/site-packages/sklearn/metrics/_classification.py:2394: UserWarning: y_pred contains classes not in y_true\n",
            "  warnings.warn(\"y_pred contains classes not in y_true\")\n"
          ]
        },
        {
          "name": "stdout",
          "output_type": "stream",
          "text": [
            "Fitting estimator with 56 features.\n"
          ]
        },
        {
          "name": "stderr",
          "output_type": "stream",
          "text": [
            "/opt/anaconda3/envs/kinase/lib/python3.10/site-packages/sklearn/metrics/_classification.py:2394: UserWarning: y_pred contains classes not in y_true\n",
            "  warnings.warn(\"y_pred contains classes not in y_true\")\n"
          ]
        },
        {
          "name": "stdout",
          "output_type": "stream",
          "text": [
            "Fitting estimator with 54 features.\n"
          ]
        },
        {
          "name": "stderr",
          "output_type": "stream",
          "text": [
            "/opt/anaconda3/envs/kinase/lib/python3.10/site-packages/sklearn/metrics/_classification.py:2394: UserWarning: y_pred contains classes not in y_true\n",
            "  warnings.warn(\"y_pred contains classes not in y_true\")\n"
          ]
        },
        {
          "name": "stdout",
          "output_type": "stream",
          "text": [
            "Fitting estimator with 52 features.\n"
          ]
        },
        {
          "name": "stderr",
          "output_type": "stream",
          "text": [
            "/opt/anaconda3/envs/kinase/lib/python3.10/site-packages/sklearn/metrics/_classification.py:2394: UserWarning: y_pred contains classes not in y_true\n",
            "  warnings.warn(\"y_pred contains classes not in y_true\")\n"
          ]
        },
        {
          "name": "stdout",
          "output_type": "stream",
          "text": [
            "Fitting estimator with 50 features.\n"
          ]
        },
        {
          "name": "stderr",
          "output_type": "stream",
          "text": [
            "/opt/anaconda3/envs/kinase/lib/python3.10/site-packages/sklearn/metrics/_classification.py:2394: UserWarning: y_pred contains classes not in y_true\n",
            "  warnings.warn(\"y_pred contains classes not in y_true\")\n"
          ]
        },
        {
          "name": "stdout",
          "output_type": "stream",
          "text": [
            "Fitting estimator with 48 features.\n"
          ]
        },
        {
          "name": "stderr",
          "output_type": "stream",
          "text": [
            "/opt/anaconda3/envs/kinase/lib/python3.10/site-packages/sklearn/metrics/_classification.py:2394: UserWarning: y_pred contains classes not in y_true\n",
            "  warnings.warn(\"y_pred contains classes not in y_true\")\n"
          ]
        },
        {
          "name": "stdout",
          "output_type": "stream",
          "text": [
            "Fitting estimator with 46 features.\n"
          ]
        },
        {
          "name": "stderr",
          "output_type": "stream",
          "text": [
            "/opt/anaconda3/envs/kinase/lib/python3.10/site-packages/sklearn/metrics/_classification.py:2394: UserWarning: y_pred contains classes not in y_true\n",
            "  warnings.warn(\"y_pred contains classes not in y_true\")\n"
          ]
        },
        {
          "name": "stdout",
          "output_type": "stream",
          "text": [
            "Fitting estimator with 44 features.\n"
          ]
        },
        {
          "name": "stderr",
          "output_type": "stream",
          "text": [
            "/opt/anaconda3/envs/kinase/lib/python3.10/site-packages/sklearn/metrics/_classification.py:2394: UserWarning: y_pred contains classes not in y_true\n",
            "  warnings.warn(\"y_pred contains classes not in y_true\")\n"
          ]
        },
        {
          "name": "stdout",
          "output_type": "stream",
          "text": [
            "Fitting estimator with 42 features.\n"
          ]
        },
        {
          "name": "stderr",
          "output_type": "stream",
          "text": [
            "/opt/anaconda3/envs/kinase/lib/python3.10/site-packages/sklearn/metrics/_classification.py:2394: UserWarning: y_pred contains classes not in y_true\n",
            "  warnings.warn(\"y_pred contains classes not in y_true\")\n"
          ]
        },
        {
          "name": "stdout",
          "output_type": "stream",
          "text": [
            "Fitting estimator with 40 features.\n"
          ]
        },
        {
          "name": "stderr",
          "output_type": "stream",
          "text": [
            "/opt/anaconda3/envs/kinase/lib/python3.10/site-packages/sklearn/metrics/_classification.py:2394: UserWarning: y_pred contains classes not in y_true\n",
            "  warnings.warn(\"y_pred contains classes not in y_true\")\n"
          ]
        },
        {
          "name": "stdout",
          "output_type": "stream",
          "text": [
            "Fitting estimator with 38 features.\n"
          ]
        },
        {
          "name": "stderr",
          "output_type": "stream",
          "text": [
            "/opt/anaconda3/envs/kinase/lib/python3.10/site-packages/sklearn/metrics/_classification.py:2394: UserWarning: y_pred contains classes not in y_true\n",
            "  warnings.warn(\"y_pred contains classes not in y_true\")\n"
          ]
        },
        {
          "name": "stdout",
          "output_type": "stream",
          "text": [
            "Fitting estimator with 36 features.\n"
          ]
        },
        {
          "name": "stderr",
          "output_type": "stream",
          "text": [
            "/opt/anaconda3/envs/kinase/lib/python3.10/site-packages/sklearn/metrics/_classification.py:2394: UserWarning: y_pred contains classes not in y_true\n",
            "  warnings.warn(\"y_pred contains classes not in y_true\")\n"
          ]
        },
        {
          "name": "stdout",
          "output_type": "stream",
          "text": [
            "Fitting estimator with 34 features.\n"
          ]
        },
        {
          "name": "stderr",
          "output_type": "stream",
          "text": [
            "/opt/anaconda3/envs/kinase/lib/python3.10/site-packages/sklearn/metrics/_classification.py:2394: UserWarning: y_pred contains classes not in y_true\n",
            "  warnings.warn(\"y_pred contains classes not in y_true\")\n"
          ]
        },
        {
          "name": "stdout",
          "output_type": "stream",
          "text": [
            "Fitting estimator with 32 features.\n"
          ]
        },
        {
          "name": "stderr",
          "output_type": "stream",
          "text": [
            "/opt/anaconda3/envs/kinase/lib/python3.10/site-packages/sklearn/metrics/_classification.py:2394: UserWarning: y_pred contains classes not in y_true\n",
            "  warnings.warn(\"y_pred contains classes not in y_true\")\n"
          ]
        },
        {
          "name": "stdout",
          "output_type": "stream",
          "text": [
            "Fitting estimator with 30 features.\n"
          ]
        },
        {
          "name": "stderr",
          "output_type": "stream",
          "text": [
            "/opt/anaconda3/envs/kinase/lib/python3.10/site-packages/sklearn/metrics/_classification.py:2394: UserWarning: y_pred contains classes not in y_true\n",
            "  warnings.warn(\"y_pred contains classes not in y_true\")\n"
          ]
        },
        {
          "name": "stdout",
          "output_type": "stream",
          "text": [
            "Fitting estimator with 28 features.\n"
          ]
        },
        {
          "name": "stderr",
          "output_type": "stream",
          "text": [
            "/opt/anaconda3/envs/kinase/lib/python3.10/site-packages/sklearn/metrics/_classification.py:2394: UserWarning: y_pred contains classes not in y_true\n",
            "  warnings.warn(\"y_pred contains classes not in y_true\")\n"
          ]
        },
        {
          "name": "stdout",
          "output_type": "stream",
          "text": [
            "Fitting estimator with 26 features.\n"
          ]
        },
        {
          "name": "stderr",
          "output_type": "stream",
          "text": [
            "/opt/anaconda3/envs/kinase/lib/python3.10/site-packages/sklearn/metrics/_classification.py:2394: UserWarning: y_pred contains classes not in y_true\n",
            "  warnings.warn(\"y_pred contains classes not in y_true\")\n"
          ]
        },
        {
          "name": "stdout",
          "output_type": "stream",
          "text": [
            "Fitting estimator with 24 features.\n"
          ]
        },
        {
          "name": "stderr",
          "output_type": "stream",
          "text": [
            "/opt/anaconda3/envs/kinase/lib/python3.10/site-packages/sklearn/metrics/_classification.py:2394: UserWarning: y_pred contains classes not in y_true\n",
            "  warnings.warn(\"y_pred contains classes not in y_true\")\n"
          ]
        },
        {
          "name": "stdout",
          "output_type": "stream",
          "text": [
            "Fitting estimator with 22 features.\n"
          ]
        },
        {
          "name": "stderr",
          "output_type": "stream",
          "text": [
            "/opt/anaconda3/envs/kinase/lib/python3.10/site-packages/sklearn/metrics/_classification.py:2394: UserWarning: y_pred contains classes not in y_true\n",
            "  warnings.warn(\"y_pred contains classes not in y_true\")\n"
          ]
        },
        {
          "name": "stdout",
          "output_type": "stream",
          "text": [
            "Fitting estimator with 20 features.\n"
          ]
        },
        {
          "name": "stderr",
          "output_type": "stream",
          "text": [
            "/opt/anaconda3/envs/kinase/lib/python3.10/site-packages/sklearn/metrics/_classification.py:2394: UserWarning: y_pred contains classes not in y_true\n",
            "  warnings.warn(\"y_pred contains classes not in y_true\")\n"
          ]
        },
        {
          "name": "stdout",
          "output_type": "stream",
          "text": [
            "Fitting estimator with 18 features.\n"
          ]
        },
        {
          "name": "stderr",
          "output_type": "stream",
          "text": [
            "/opt/anaconda3/envs/kinase/lib/python3.10/site-packages/sklearn/metrics/_classification.py:2394: UserWarning: y_pred contains classes not in y_true\n",
            "  warnings.warn(\"y_pred contains classes not in y_true\")\n"
          ]
        },
        {
          "name": "stdout",
          "output_type": "stream",
          "text": [
            "Fitting estimator with 16 features.\n"
          ]
        },
        {
          "name": "stderr",
          "output_type": "stream",
          "text": [
            "/opt/anaconda3/envs/kinase/lib/python3.10/site-packages/sklearn/metrics/_classification.py:2394: UserWarning: y_pred contains classes not in y_true\n",
            "  warnings.warn(\"y_pred contains classes not in y_true\")\n"
          ]
        },
        {
          "name": "stdout",
          "output_type": "stream",
          "text": [
            "Fitting estimator with 14 features.\n"
          ]
        },
        {
          "name": "stderr",
          "output_type": "stream",
          "text": [
            "/opt/anaconda3/envs/kinase/lib/python3.10/site-packages/sklearn/metrics/_classification.py:2394: UserWarning: y_pred contains classes not in y_true\n",
            "  warnings.warn(\"y_pred contains classes not in y_true\")\n"
          ]
        },
        {
          "name": "stdout",
          "output_type": "stream",
          "text": [
            "Fitting estimator with 12 features.\n"
          ]
        },
        {
          "name": "stderr",
          "output_type": "stream",
          "text": [
            "/opt/anaconda3/envs/kinase/lib/python3.10/site-packages/sklearn/metrics/_classification.py:2394: UserWarning: y_pred contains classes not in y_true\n",
            "  warnings.warn(\"y_pred contains classes not in y_true\")\n"
          ]
        },
        {
          "name": "stdout",
          "output_type": "stream",
          "text": [
            "Fitting estimator with 10 features.\n"
          ]
        },
        {
          "name": "stderr",
          "output_type": "stream",
          "text": [
            "/opt/anaconda3/envs/kinase/lib/python3.10/site-packages/sklearn/metrics/_classification.py:2394: UserWarning: y_pred contains classes not in y_true\n",
            "  warnings.warn(\"y_pred contains classes not in y_true\")\n"
          ]
        },
        {
          "name": "stdout",
          "output_type": "stream",
          "text": [
            "Fitting estimator with 8 features.\n"
          ]
        },
        {
          "name": "stderr",
          "output_type": "stream",
          "text": [
            "/opt/anaconda3/envs/kinase/lib/python3.10/site-packages/sklearn/metrics/_classification.py:2394: UserWarning: y_pred contains classes not in y_true\n",
            "  warnings.warn(\"y_pred contains classes not in y_true\")\n"
          ]
        },
        {
          "name": "stdout",
          "output_type": "stream",
          "text": [
            "Fitting estimator with 6 features.\n"
          ]
        },
        {
          "name": "stderr",
          "output_type": "stream",
          "text": [
            "/opt/anaconda3/envs/kinase/lib/python3.10/site-packages/sklearn/metrics/_classification.py:2394: UserWarning: y_pred contains classes not in y_true\n",
            "  warnings.warn(\"y_pred contains classes not in y_true\")\n"
          ]
        },
        {
          "name": "stdout",
          "output_type": "stream",
          "text": [
            "Fitting estimator with 4 features.\n"
          ]
        },
        {
          "name": "stderr",
          "output_type": "stream",
          "text": [
            "/opt/anaconda3/envs/kinase/lib/python3.10/site-packages/sklearn/metrics/_classification.py:2394: UserWarning: y_pred contains classes not in y_true\n",
            "  warnings.warn(\"y_pred contains classes not in y_true\")\n"
          ]
        },
        {
          "name": "stdout",
          "output_type": "stream",
          "text": [
            "Fitting estimator with 2 features.\n"
          ]
        },
        {
          "name": "stderr",
          "output_type": "stream",
          "text": [
            "/opt/anaconda3/envs/kinase/lib/python3.10/site-packages/sklearn/metrics/_classification.py:2394: UserWarning: y_pred contains classes not in y_true\n",
            "  warnings.warn(\"y_pred contains classes not in y_true\")\n",
            "/opt/anaconda3/envs/kinase/lib/python3.10/site-packages/sklearn/metrics/_classification.py:2394: UserWarning: y_pred contains classes not in y_true\n",
            "  warnings.warn(\"y_pred contains classes not in y_true\")\n"
          ]
        },
        {
          "name": "stdout",
          "output_type": "stream",
          "text": [
            "Fitting estimator with 58 features.\n"
          ]
        },
        {
          "name": "stderr",
          "output_type": "stream",
          "text": [
            "/opt/anaconda3/envs/kinase/lib/python3.10/site-packages/sklearn/metrics/_classification.py:2394: UserWarning: y_pred contains classes not in y_true\n",
            "  warnings.warn(\"y_pred contains classes not in y_true\")\n"
          ]
        },
        {
          "name": "stdout",
          "output_type": "stream",
          "text": [
            "Fitting estimator with 56 features.\n"
          ]
        },
        {
          "name": "stderr",
          "output_type": "stream",
          "text": [
            "/opt/anaconda3/envs/kinase/lib/python3.10/site-packages/sklearn/metrics/_classification.py:2394: UserWarning: y_pred contains classes not in y_true\n",
            "  warnings.warn(\"y_pred contains classes not in y_true\")\n"
          ]
        },
        {
          "name": "stdout",
          "output_type": "stream",
          "text": [
            "Fitting estimator with 54 features.\n"
          ]
        },
        {
          "name": "stderr",
          "output_type": "stream",
          "text": [
            "/opt/anaconda3/envs/kinase/lib/python3.10/site-packages/sklearn/metrics/_classification.py:2394: UserWarning: y_pred contains classes not in y_true\n",
            "  warnings.warn(\"y_pred contains classes not in y_true\")\n"
          ]
        },
        {
          "name": "stdout",
          "output_type": "stream",
          "text": [
            "Fitting estimator with 52 features.\n"
          ]
        },
        {
          "name": "stderr",
          "output_type": "stream",
          "text": [
            "/opt/anaconda3/envs/kinase/lib/python3.10/site-packages/sklearn/metrics/_classification.py:2394: UserWarning: y_pred contains classes not in y_true\n",
            "  warnings.warn(\"y_pred contains classes not in y_true\")\n"
          ]
        },
        {
          "name": "stdout",
          "output_type": "stream",
          "text": [
            "Fitting estimator with 50 features.\n"
          ]
        },
        {
          "name": "stderr",
          "output_type": "stream",
          "text": [
            "/opt/anaconda3/envs/kinase/lib/python3.10/site-packages/sklearn/metrics/_classification.py:2394: UserWarning: y_pred contains classes not in y_true\n",
            "  warnings.warn(\"y_pred contains classes not in y_true\")\n"
          ]
        },
        {
          "name": "stdout",
          "output_type": "stream",
          "text": [
            "Fitting estimator with 48 features.\n"
          ]
        },
        {
          "name": "stderr",
          "output_type": "stream",
          "text": [
            "/opt/anaconda3/envs/kinase/lib/python3.10/site-packages/sklearn/metrics/_classification.py:2394: UserWarning: y_pred contains classes not in y_true\n",
            "  warnings.warn(\"y_pred contains classes not in y_true\")\n"
          ]
        },
        {
          "name": "stdout",
          "output_type": "stream",
          "text": [
            "Fitting estimator with 46 features.\n"
          ]
        },
        {
          "name": "stderr",
          "output_type": "stream",
          "text": [
            "/opt/anaconda3/envs/kinase/lib/python3.10/site-packages/sklearn/metrics/_classification.py:2394: UserWarning: y_pred contains classes not in y_true\n",
            "  warnings.warn(\"y_pred contains classes not in y_true\")\n"
          ]
        },
        {
          "name": "stdout",
          "output_type": "stream",
          "text": [
            "Fitting estimator with 44 features.\n"
          ]
        },
        {
          "name": "stderr",
          "output_type": "stream",
          "text": [
            "/opt/anaconda3/envs/kinase/lib/python3.10/site-packages/sklearn/metrics/_classification.py:2394: UserWarning: y_pred contains classes not in y_true\n",
            "  warnings.warn(\"y_pred contains classes not in y_true\")\n"
          ]
        },
        {
          "name": "stdout",
          "output_type": "stream",
          "text": [
            "Fitting estimator with 42 features.\n"
          ]
        },
        {
          "name": "stderr",
          "output_type": "stream",
          "text": [
            "/opt/anaconda3/envs/kinase/lib/python3.10/site-packages/sklearn/metrics/_classification.py:2394: UserWarning: y_pred contains classes not in y_true\n",
            "  warnings.warn(\"y_pred contains classes not in y_true\")\n"
          ]
        },
        {
          "name": "stdout",
          "output_type": "stream",
          "text": [
            "Fitting estimator with 40 features.\n"
          ]
        },
        {
          "name": "stderr",
          "output_type": "stream",
          "text": [
            "/opt/anaconda3/envs/kinase/lib/python3.10/site-packages/sklearn/metrics/_classification.py:2394: UserWarning: y_pred contains classes not in y_true\n",
            "  warnings.warn(\"y_pred contains classes not in y_true\")\n"
          ]
        },
        {
          "name": "stdout",
          "output_type": "stream",
          "text": [
            "Fitting estimator with 38 features.\n"
          ]
        },
        {
          "name": "stderr",
          "output_type": "stream",
          "text": [
            "/opt/anaconda3/envs/kinase/lib/python3.10/site-packages/sklearn/metrics/_classification.py:2394: UserWarning: y_pred contains classes not in y_true\n",
            "  warnings.warn(\"y_pred contains classes not in y_true\")\n"
          ]
        },
        {
          "name": "stdout",
          "output_type": "stream",
          "text": [
            "Fitting estimator with 36 features.\n"
          ]
        },
        {
          "name": "stderr",
          "output_type": "stream",
          "text": [
            "/opt/anaconda3/envs/kinase/lib/python3.10/site-packages/sklearn/metrics/_classification.py:2394: UserWarning: y_pred contains classes not in y_true\n",
            "  warnings.warn(\"y_pred contains classes not in y_true\")\n"
          ]
        },
        {
          "name": "stdout",
          "output_type": "stream",
          "text": [
            "Fitting estimator with 34 features.\n"
          ]
        },
        {
          "name": "stderr",
          "output_type": "stream",
          "text": [
            "/opt/anaconda3/envs/kinase/lib/python3.10/site-packages/sklearn/metrics/_classification.py:2394: UserWarning: y_pred contains classes not in y_true\n",
            "  warnings.warn(\"y_pred contains classes not in y_true\")\n"
          ]
        },
        {
          "name": "stdout",
          "output_type": "stream",
          "text": [
            "Fitting estimator with 32 features.\n"
          ]
        },
        {
          "name": "stderr",
          "output_type": "stream",
          "text": [
            "/opt/anaconda3/envs/kinase/lib/python3.10/site-packages/sklearn/metrics/_classification.py:2394: UserWarning: y_pred contains classes not in y_true\n",
            "  warnings.warn(\"y_pred contains classes not in y_true\")\n"
          ]
        },
        {
          "name": "stdout",
          "output_type": "stream",
          "text": [
            "Fitting estimator with 30 features.\n"
          ]
        },
        {
          "name": "stderr",
          "output_type": "stream",
          "text": [
            "/opt/anaconda3/envs/kinase/lib/python3.10/site-packages/sklearn/metrics/_classification.py:2394: UserWarning: y_pred contains classes not in y_true\n",
            "  warnings.warn(\"y_pred contains classes not in y_true\")\n"
          ]
        },
        {
          "name": "stdout",
          "output_type": "stream",
          "text": [
            "Fitting estimator with 28 features.\n"
          ]
        },
        {
          "name": "stderr",
          "output_type": "stream",
          "text": [
            "/opt/anaconda3/envs/kinase/lib/python3.10/site-packages/sklearn/metrics/_classification.py:2394: UserWarning: y_pred contains classes not in y_true\n",
            "  warnings.warn(\"y_pred contains classes not in y_true\")\n"
          ]
        },
        {
          "name": "stdout",
          "output_type": "stream",
          "text": [
            "Fitting estimator with 26 features.\n"
          ]
        },
        {
          "name": "stderr",
          "output_type": "stream",
          "text": [
            "/opt/anaconda3/envs/kinase/lib/python3.10/site-packages/sklearn/metrics/_classification.py:2394: UserWarning: y_pred contains classes not in y_true\n",
            "  warnings.warn(\"y_pred contains classes not in y_true\")\n"
          ]
        },
        {
          "name": "stdout",
          "output_type": "stream",
          "text": [
            "Fitting estimator with 24 features.\n"
          ]
        },
        {
          "name": "stderr",
          "output_type": "stream",
          "text": [
            "/opt/anaconda3/envs/kinase/lib/python3.10/site-packages/sklearn/metrics/_classification.py:2394: UserWarning: y_pred contains classes not in y_true\n",
            "  warnings.warn(\"y_pred contains classes not in y_true\")\n"
          ]
        },
        {
          "name": "stdout",
          "output_type": "stream",
          "text": [
            "Fitting estimator with 22 features.\n"
          ]
        },
        {
          "name": "stderr",
          "output_type": "stream",
          "text": [
            "/opt/anaconda3/envs/kinase/lib/python3.10/site-packages/sklearn/metrics/_classification.py:2394: UserWarning: y_pred contains classes not in y_true\n",
            "  warnings.warn(\"y_pred contains classes not in y_true\")\n"
          ]
        },
        {
          "name": "stdout",
          "output_type": "stream",
          "text": [
            "Fitting estimator with 20 features.\n"
          ]
        },
        {
          "name": "stderr",
          "output_type": "stream",
          "text": [
            "/opt/anaconda3/envs/kinase/lib/python3.10/site-packages/sklearn/metrics/_classification.py:2394: UserWarning: y_pred contains classes not in y_true\n",
            "  warnings.warn(\"y_pred contains classes not in y_true\")\n"
          ]
        },
        {
          "name": "stdout",
          "output_type": "stream",
          "text": [
            "Fitting estimator with 18 features.\n"
          ]
        },
        {
          "name": "stderr",
          "output_type": "stream",
          "text": [
            "/opt/anaconda3/envs/kinase/lib/python3.10/site-packages/sklearn/metrics/_classification.py:2394: UserWarning: y_pred contains classes not in y_true\n",
            "  warnings.warn(\"y_pred contains classes not in y_true\")\n"
          ]
        },
        {
          "name": "stdout",
          "output_type": "stream",
          "text": [
            "Fitting estimator with 16 features.\n"
          ]
        },
        {
          "name": "stderr",
          "output_type": "stream",
          "text": [
            "/opt/anaconda3/envs/kinase/lib/python3.10/site-packages/sklearn/metrics/_classification.py:2394: UserWarning: y_pred contains classes not in y_true\n",
            "  warnings.warn(\"y_pred contains classes not in y_true\")\n"
          ]
        },
        {
          "name": "stdout",
          "output_type": "stream",
          "text": [
            "Fitting estimator with 14 features.\n"
          ]
        },
        {
          "name": "stderr",
          "output_type": "stream",
          "text": [
            "/opt/anaconda3/envs/kinase/lib/python3.10/site-packages/sklearn/metrics/_classification.py:2394: UserWarning: y_pred contains classes not in y_true\n",
            "  warnings.warn(\"y_pred contains classes not in y_true\")\n"
          ]
        },
        {
          "name": "stdout",
          "output_type": "stream",
          "text": [
            "Fitting estimator with 12 features.\n"
          ]
        },
        {
          "name": "stderr",
          "output_type": "stream",
          "text": [
            "/opt/anaconda3/envs/kinase/lib/python3.10/site-packages/sklearn/metrics/_classification.py:2394: UserWarning: y_pred contains classes not in y_true\n",
            "  warnings.warn(\"y_pred contains classes not in y_true\")\n"
          ]
        },
        {
          "name": "stdout",
          "output_type": "stream",
          "text": [
            "Fitting estimator with 10 features.\n"
          ]
        },
        {
          "name": "stderr",
          "output_type": "stream",
          "text": [
            "/opt/anaconda3/envs/kinase/lib/python3.10/site-packages/sklearn/metrics/_classification.py:2394: UserWarning: y_pred contains classes not in y_true\n",
            "  warnings.warn(\"y_pred contains classes not in y_true\")\n"
          ]
        },
        {
          "name": "stdout",
          "output_type": "stream",
          "text": [
            "Fitting estimator with 8 features.\n"
          ]
        },
        {
          "name": "stderr",
          "output_type": "stream",
          "text": [
            "/opt/anaconda3/envs/kinase/lib/python3.10/site-packages/sklearn/metrics/_classification.py:2394: UserWarning: y_pred contains classes not in y_true\n",
            "  warnings.warn(\"y_pred contains classes not in y_true\")\n"
          ]
        },
        {
          "name": "stdout",
          "output_type": "stream",
          "text": [
            "Fitting estimator with 6 features.\n"
          ]
        },
        {
          "name": "stderr",
          "output_type": "stream",
          "text": [
            "/opt/anaconda3/envs/kinase/lib/python3.10/site-packages/sklearn/metrics/_classification.py:2394: UserWarning: y_pred contains classes not in y_true\n",
            "  warnings.warn(\"y_pred contains classes not in y_true\")\n"
          ]
        },
        {
          "name": "stdout",
          "output_type": "stream",
          "text": [
            "Fitting estimator with 4 features.\n"
          ]
        },
        {
          "name": "stderr",
          "output_type": "stream",
          "text": [
            "/opt/anaconda3/envs/kinase/lib/python3.10/site-packages/sklearn/metrics/_classification.py:2394: UserWarning: y_pred contains classes not in y_true\n",
            "  warnings.warn(\"y_pred contains classes not in y_true\")\n"
          ]
        },
        {
          "name": "stdout",
          "output_type": "stream",
          "text": [
            "Fitting estimator with 2 features.\n"
          ]
        },
        {
          "name": "stderr",
          "output_type": "stream",
          "text": [
            "/opt/anaconda3/envs/kinase/lib/python3.10/site-packages/sklearn/metrics/_classification.py:2394: UserWarning: y_pred contains classes not in y_true\n",
            "  warnings.warn(\"y_pred contains classes not in y_true\")\n",
            "/opt/anaconda3/envs/kinase/lib/python3.10/site-packages/sklearn/metrics/_classification.py:2394: UserWarning: y_pred contains classes not in y_true\n",
            "  warnings.warn(\"y_pred contains classes not in y_true\")\n"
          ]
        },
        {
          "name": "stdout",
          "output_type": "stream",
          "text": [
            "Fitting estimator with 58 features.\n",
            "Fitting estimator with 56 features.\n",
            "Fitting estimator with 54 features.\n",
            "Optimal number of features : 52\n"
          ]
        },
        {
          "ename": "AttributeError",
          "evalue": "'RFECV' object has no attribute 'grid_scores_'",
          "output_type": "error",
          "traceback": [
            "\u001b[0;31m---------------------------------------------------------------------------\u001b[0m",
            "\u001b[0;31mAttributeError\u001b[0m                            Traceback (most recent call last)",
            "Cell \u001b[0;32mIn[11], line 15\u001b[0m\n\u001b[1;32m     13\u001b[0m plt\u001b[38;5;241m.\u001b[39mxlabel(\u001b[38;5;124m\"\u001b[39m\u001b[38;5;124mNumber of features selected\u001b[39m\u001b[38;5;124m\"\u001b[39m)\n\u001b[1;32m     14\u001b[0m plt\u001b[38;5;241m.\u001b[39mylabel(\u001b[38;5;124m\"\u001b[39m\u001b[38;5;124mCross validation score (nb of correct classifications)\u001b[39m\u001b[38;5;124m\"\u001b[39m)\n\u001b[0;32m---> 15\u001b[0m plt\u001b[38;5;241m.\u001b[39mplot(\u001b[38;5;28mrange\u001b[39m(\u001b[38;5;241m1\u001b[39m, \u001b[38;5;28mlen\u001b[39m(\u001b[43mrfecv\u001b[49m\u001b[38;5;241;43m.\u001b[39;49m\u001b[43mgrid_scores_\u001b[49m) \u001b[38;5;241m+\u001b[39m \u001b[38;5;241m1\u001b[39m), rfecv\u001b[38;5;241m.\u001b[39mgrid_scores_)\n\u001b[1;32m     16\u001b[0m plt\u001b[38;5;241m.\u001b[39mshow()\n",
            "\u001b[0;31mAttributeError\u001b[0m: 'RFECV' object has no attribute 'grid_scores_'"
          ]
        },
        {
          "data": {
            "image/png": "[encoded data removed]",
            "text/plain": [
              "<Figure size 640x480 with 1 Axes>"
            ]
          },
          "metadata": {},
          "output_type": "display_data"
        }
      ],
      "source": [
        "svc=svm.SVC(kernel=\"linear\")\n",
        "rfecv = RFECV(estimator=svc, \n",
        "              step=2, \n",
        "              cv=KFold(10), # Stratified fold inorder to reduce bias\n",
        "              scoring='balanced_accuracy', \n",
        "              verbose=3)\n",
        "rfetrain=rfecv.fit(X_train, y_train)\n",
        "print('Optimal number of features :', rfecv.n_features_)\n",
        "\n",
        "\n",
        "# Plot showing the Cross Validation score\n",
        "plt.figure()\n",
        "plt.xlabel(\"Number of features selected\")\n",
        "plt.ylabel(\"Cross validation score (nb of correct classifications)\")\n",
        "plt.plot(range(1, len(rfecv.grid_scores_) + 1), rfecv.grid_scores_)\n",
        "plt.show()\n"
      ]
    },
    {
      "cell_type": "code",
      "execution_count": 24,
      "metadata": {},
      "outputs": [
        {
          "data": {
            "text/plain": [
              "array([ 0,  2,  4,  6,  8, 10, 12, 14, 16, 18, 20, 22, 24, 26, 28, 30, 32,\n",
              "       34, 36, 38, 40, 42, 44, 46, 48, 50, 52, 54, 56, 58])"
            ]
          },
          "execution_count": 24,
          "metadata": {},
          "output_type": "execute_result"
        }
      ],
      "source": [
        "np.array(range(0, 59, 2))"
      ]
    },
    {
      "cell_type": "code",
      "execution_count": 23,
      "metadata": {},
      "outputs": [
        {
          "data": {
            "text/html": [
              "<div>\n",
              "<style scoped>\n",
              "    .dataframe tbody tr th:only-of-type {\n",
              "        vertical-align: middle;\n",
              "    }\n",
              "\n",
              "    .dataframe tbody tr th {\n",
              "        vertical-align: top;\n",
              "    }\n",
              "\n",
              "    .dataframe thead th {\n",
              "        text-align: right;\n",
              "    }\n",
              "</style>\n",
              "<table border=\"1\" class=\"dataframe\">\n",
              "  <thead>\n",
              "    <tr style=\"text-align: right;\">\n",
              "      <th></th>\n",
              "      <th>mean_test_score</th>\n",
              "      <th>std_test_score</th>\n",
              "      <th>split0_test_score</th>\n",
              "      <th>split1_test_score</th>\n",
              "      <th>split2_test_score</th>\n",
              "      <th>split3_test_score</th>\n",
              "      <th>split4_test_score</th>\n",
              "      <th>split5_test_score</th>\n",
              "      <th>split6_test_score</th>\n",
              "      <th>split7_test_score</th>\n",
              "      <th>split8_test_score</th>\n",
              "      <th>split9_test_score</th>\n",
              "    </tr>\n",
              "  </thead>\n",
              "  <tbody>\n",
              "    <tr>\n",
              "      <th>0</th>\n",
              "      <td>0.303515</td>\n",
              "      <td>0.248027</td>\n",
              "      <td>0.500000</td>\n",
              "      <td>0.500000</td>\n",
              "      <td>0.500000</td>\n",
              "      <td>0.500000</td>\n",
              "      <td>0.500000</td>\n",
              "      <td>0.535153</td>\n",
              "      <td>0.000000</td>\n",
              "      <td>0.000000</td>\n",
              "      <td>0.000000</td>\n",
              "      <td>0.000000</td>\n",
              "    </tr>\n",
              "    <tr>\n",
              "      <th>1</th>\n",
              "      <td>0.569728</td>\n",
              "      <td>0.039523</td>\n",
              "      <td>0.540545</td>\n",
              "      <td>0.543586</td>\n",
              "      <td>0.563763</td>\n",
              "      <td>0.573549</td>\n",
              "      <td>0.545588</td>\n",
              "      <td>0.677266</td>\n",
              "      <td>0.577566</td>\n",
              "      <td>0.544153</td>\n",
              "      <td>0.589499</td>\n",
              "      <td>0.541766</td>\n",
              "    </tr>\n",
              "    <tr>\n",
              "      <th>2</th>\n",
              "      <td>0.582858</td>\n",
              "      <td>0.086856</td>\n",
              "      <td>0.550212</td>\n",
              "      <td>0.496903</td>\n",
              "      <td>0.565448</td>\n",
              "      <td>0.510268</td>\n",
              "      <td>0.437500</td>\n",
              "      <td>0.757509</td>\n",
              "      <td>0.651551</td>\n",
              "      <td>0.634845</td>\n",
              "      <td>0.630072</td>\n",
              "      <td>0.594272</td>\n",
              "    </tr>\n",
              "    <tr>\n",
              "      <th>3</th>\n",
              "      <td>0.579713</td>\n",
              "      <td>0.082077</td>\n",
              "      <td>0.529515</td>\n",
              "      <td>0.479126</td>\n",
              "      <td>0.554049</td>\n",
              "      <td>0.515476</td>\n",
              "      <td>0.464947</td>\n",
              "      <td>0.740888</td>\n",
              "      <td>0.642005</td>\n",
              "      <td>0.634845</td>\n",
              "      <td>0.639618</td>\n",
              "      <td>0.596659</td>\n",
              "    </tr>\n",
              "    <tr>\n",
              "      <th>4</th>\n",
              "      <td>0.583865</td>\n",
              "      <td>0.084341</td>\n",
              "      <td>0.502727</td>\n",
              "      <td>0.493677</td>\n",
              "      <td>0.517408</td>\n",
              "      <td>0.520685</td>\n",
              "      <td>0.506425</td>\n",
              "      <td>0.760737</td>\n",
              "      <td>0.649165</td>\n",
              "      <td>0.637232</td>\n",
              "      <td>0.634845</td>\n",
              "      <td>0.615752</td>\n",
              "    </tr>\n",
              "    <tr>\n",
              "      <th>5</th>\n",
              "      <td>0.589978</td>\n",
              "      <td>0.091587</td>\n",
              "      <td>0.506727</td>\n",
              "      <td>0.514099</td>\n",
              "      <td>0.531503</td>\n",
              "      <td>0.477790</td>\n",
              "      <td>0.500661</td>\n",
              "      <td>0.760405</td>\n",
              "      <td>0.687351</td>\n",
              "      <td>0.644391</td>\n",
              "      <td>0.661098</td>\n",
              "      <td>0.615752</td>\n",
              "    </tr>\n",
              "    <tr>\n",
              "      <th>6</th>\n",
              "      <td>0.590535</td>\n",
              "      <td>0.097852</td>\n",
              "      <td>0.515424</td>\n",
              "      <td>0.518357</td>\n",
              "      <td>0.545597</td>\n",
              "      <td>0.447879</td>\n",
              "      <td>0.485355</td>\n",
              "      <td>0.767434</td>\n",
              "      <td>0.689737</td>\n",
              "      <td>0.653938</td>\n",
              "      <td>0.665871</td>\n",
              "      <td>0.615752</td>\n",
              "    </tr>\n",
              "    <tr>\n",
              "      <th>7</th>\n",
              "      <td>0.596853</td>\n",
              "      <td>0.094034</td>\n",
              "      <td>0.540818</td>\n",
              "      <td>0.506162</td>\n",
              "      <td>0.556379</td>\n",
              "      <td>0.459598</td>\n",
              "      <td>0.505149</td>\n",
              "      <td>0.775126</td>\n",
              "      <td>0.689737</td>\n",
              "      <td>0.653938</td>\n",
              "      <td>0.658711</td>\n",
              "      <td>0.622912</td>\n",
              "    </tr>\n",
              "    <tr>\n",
              "      <th>8</th>\n",
              "      <td>0.590053</td>\n",
              "      <td>0.100140</td>\n",
              "      <td>0.535485</td>\n",
              "      <td>0.506162</td>\n",
              "      <td>0.510669</td>\n",
              "      <td>0.460900</td>\n",
              "      <td>0.477702</td>\n",
              "      <td>0.769998</td>\n",
              "      <td>0.694511</td>\n",
              "      <td>0.661098</td>\n",
              "      <td>0.663484</td>\n",
              "      <td>0.620525</td>\n",
              "    </tr>\n",
              "    <tr>\n",
              "      <th>9</th>\n",
              "      <td>0.599163</td>\n",
              "      <td>0.099383</td>\n",
              "      <td>0.524182</td>\n",
              "      <td>0.537166</td>\n",
              "      <td>0.540824</td>\n",
              "      <td>0.479055</td>\n",
              "      <td>0.462396</td>\n",
              "      <td>0.777358</td>\n",
              "      <td>0.699284</td>\n",
              "      <td>0.670644</td>\n",
              "      <td>0.668258</td>\n",
              "      <td>0.632458</td>\n",
              "    </tr>\n",
              "    <tr>\n",
              "      <th>10</th>\n",
              "      <td>0.608006</td>\n",
              "      <td>0.100264</td>\n",
              "      <td>0.538848</td>\n",
              "      <td>0.540392</td>\n",
              "      <td>0.540824</td>\n",
              "      <td>0.482961</td>\n",
              "      <td>0.470049</td>\n",
              "      <td>0.771898</td>\n",
              "      <td>0.711217</td>\n",
              "      <td>0.687351</td>\n",
              "      <td>0.689737</td>\n",
              "      <td>0.646778</td>\n",
              "    </tr>\n",
              "    <tr>\n",
              "      <th>11</th>\n",
              "      <td>0.619680</td>\n",
              "      <td>0.099156</td>\n",
              "      <td>0.550273</td>\n",
              "      <td>0.541715</td>\n",
              "      <td>0.536416</td>\n",
              "      <td>0.494643</td>\n",
              "      <td>0.507748</td>\n",
              "      <td>0.776030</td>\n",
              "      <td>0.725537</td>\n",
              "      <td>0.704057</td>\n",
              "      <td>0.713604</td>\n",
              "      <td>0.646778</td>\n",
              "    </tr>\n",
              "    <tr>\n",
              "      <th>12</th>\n",
              "      <td>0.623180</td>\n",
              "      <td>0.104363</td>\n",
              "      <td>0.531545</td>\n",
              "      <td>0.539070</td>\n",
              "      <td>0.516931</td>\n",
              "      <td>0.518006</td>\n",
              "      <td>0.506472</td>\n",
              "      <td>0.782063</td>\n",
              "      <td>0.739857</td>\n",
              "      <td>0.715990</td>\n",
              "      <td>0.711217</td>\n",
              "      <td>0.670644</td>\n",
              "    </tr>\n",
              "    <tr>\n",
              "      <th>13</th>\n",
              "      <td>0.626327</td>\n",
              "      <td>0.110683</td>\n",
              "      <td>0.544242</td>\n",
              "      <td>0.540392</td>\n",
              "      <td>0.503819</td>\n",
              "      <td>0.529725</td>\n",
              "      <td>0.482851</td>\n",
              "      <td>0.783963</td>\n",
              "      <td>0.735084</td>\n",
              "      <td>0.754177</td>\n",
              "      <td>0.718377</td>\n",
              "      <td>0.670644</td>\n",
              "    </tr>\n",
              "    <tr>\n",
              "      <th>14</th>\n",
              "      <td>0.634945</td>\n",
              "      <td>0.107949</td>\n",
              "      <td>0.544242</td>\n",
              "      <td>0.547006</td>\n",
              "      <td>0.516313</td>\n",
              "      <td>0.532329</td>\n",
              "      <td>0.505197</td>\n",
              "      <td>0.780735</td>\n",
              "      <td>0.732697</td>\n",
              "      <td>0.756563</td>\n",
              "      <td>0.718377</td>\n",
              "      <td>0.715990</td>\n",
              "    </tr>\n",
              "    <tr>\n",
              "      <th>15</th>\n",
              "      <td>0.655005</td>\n",
              "      <td>0.135607</td>\n",
              "      <td>0.552939</td>\n",
              "      <td>0.548329</td>\n",
              "      <td>0.501853</td>\n",
              "      <td>0.516741</td>\n",
              "      <td>0.489229</td>\n",
              "      <td>0.831170</td>\n",
              "      <td>0.773270</td>\n",
              "      <td>0.804296</td>\n",
              "      <td>0.770883</td>\n",
              "      <td>0.761337</td>\n",
              "    </tr>\n",
              "    <tr>\n",
              "      <th>16</th>\n",
              "      <td>0.656759</td>\n",
              "      <td>0.133474</td>\n",
              "      <td>0.554273</td>\n",
              "      <td>0.541715</td>\n",
              "      <td>0.541554</td>\n",
              "      <td>0.501153</td>\n",
              "      <td>0.490505</td>\n",
              "      <td>0.828606</td>\n",
              "      <td>0.770883</td>\n",
              "      <td>0.809069</td>\n",
              "      <td>0.773270</td>\n",
              "      <td>0.756563</td>\n",
              "    </tr>\n",
              "    <tr>\n",
              "      <th>17</th>\n",
              "      <td>0.657936</td>\n",
              "      <td>0.134399</td>\n",
              "      <td>0.551606</td>\n",
              "      <td>0.540392</td>\n",
              "      <td>0.541554</td>\n",
              "      <td>0.502455</td>\n",
              "      <td>0.493056</td>\n",
              "      <td>0.823810</td>\n",
              "      <td>0.773270</td>\n",
              "      <td>0.816229</td>\n",
              "      <td>0.780430</td>\n",
              "      <td>0.756563</td>\n",
              "    </tr>\n",
              "    <tr>\n",
              "      <th>18</th>\n",
              "      <td>0.654348</td>\n",
              "      <td>0.139008</td>\n",
              "      <td>0.554273</td>\n",
              "      <td>0.560524</td>\n",
              "      <td>0.519373</td>\n",
              "      <td>0.486868</td>\n",
              "      <td>0.471986</td>\n",
              "      <td>0.821577</td>\n",
              "      <td>0.773270</td>\n",
              "      <td>0.813842</td>\n",
              "      <td>0.780430</td>\n",
              "      <td>0.761337</td>\n",
              "    </tr>\n",
              "    <tr>\n",
              "      <th>19</th>\n",
              "      <td>0.660641</td>\n",
              "      <td>0.136411</td>\n",
              "      <td>0.558273</td>\n",
              "      <td>0.595787</td>\n",
              "      <td>0.522069</td>\n",
              "      <td>0.492076</td>\n",
              "      <td>0.475813</td>\n",
              "      <td>0.821577</td>\n",
              "      <td>0.775656</td>\n",
              "      <td>0.813842</td>\n",
              "      <td>0.792363</td>\n",
              "      <td>0.758950</td>\n",
              "    </tr>\n",
              "    <tr>\n",
              "      <th>20</th>\n",
              "      <td>0.665126</td>\n",
              "      <td>0.135979</td>\n",
              "      <td>0.581000</td>\n",
              "      <td>0.571396</td>\n",
              "      <td>0.529790</td>\n",
              "      <td>0.489472</td>\n",
              "      <td>0.491780</td>\n",
              "      <td>0.823146</td>\n",
              "      <td>0.797136</td>\n",
              "      <td>0.813842</td>\n",
              "      <td>0.789976</td>\n",
              "      <td>0.763723</td>\n",
              "    </tr>\n",
              "    <tr>\n",
              "      <th>21</th>\n",
              "      <td>0.664811</td>\n",
              "      <td>0.141770</td>\n",
              "      <td>0.568303</td>\n",
              "      <td>0.594754</td>\n",
              "      <td>0.523051</td>\n",
              "      <td>0.471280</td>\n",
              "      <td>0.481576</td>\n",
              "      <td>0.825378</td>\n",
              "      <td>0.804296</td>\n",
              "      <td>0.811456</td>\n",
              "      <td>0.799523</td>\n",
              "      <td>0.768496</td>\n",
              "    </tr>\n",
              "    <tr>\n",
              "      <th>22</th>\n",
              "      <td>0.671067</td>\n",
              "      <td>0.141338</td>\n",
              "      <td>0.592364</td>\n",
              "      <td>0.593431</td>\n",
              "      <td>0.527095</td>\n",
              "      <td>0.476488</td>\n",
              "      <td>0.485402</td>\n",
              "      <td>0.823478</td>\n",
              "      <td>0.818616</td>\n",
              "      <td>0.818616</td>\n",
              "      <td>0.804296</td>\n",
              "      <td>0.770883</td>\n",
              "    </tr>\n",
              "    <tr>\n",
              "      <th>23</th>\n",
              "      <td>0.680514</td>\n",
              "      <td>0.140037</td>\n",
              "      <td>0.587030</td>\n",
              "      <td>0.588140</td>\n",
              "      <td>0.527095</td>\n",
              "      <td>0.489472</td>\n",
              "      <td>0.524991</td>\n",
              "      <td>0.828274</td>\n",
              "      <td>0.830549</td>\n",
              "      <td>0.816229</td>\n",
              "      <td>0.809069</td>\n",
              "      <td>0.804296</td>\n",
              "    </tr>\n",
              "    <tr>\n",
              "      <th>24</th>\n",
              "      <td>0.681989</td>\n",
              "      <td>0.142465</td>\n",
              "      <td>0.609758</td>\n",
              "      <td>0.593431</td>\n",
              "      <td>0.535799</td>\n",
              "      <td>0.505060</td>\n",
              "      <td>0.477749</td>\n",
              "      <td>0.840339</td>\n",
              "      <td>0.825776</td>\n",
              "      <td>0.818616</td>\n",
              "      <td>0.806683</td>\n",
              "      <td>0.806683</td>\n",
              "    </tr>\n",
              "    <tr>\n",
              "      <th>25</th>\n",
              "      <td>0.686148</td>\n",
              "      <td>0.140117</td>\n",
              "      <td>0.607091</td>\n",
              "      <td>0.593431</td>\n",
              "      <td>0.538494</td>\n",
              "      <td>0.507626</td>\n",
              "      <td>0.502646</td>\n",
              "      <td>0.828182</td>\n",
              "      <td>0.830549</td>\n",
              "      <td>0.844869</td>\n",
              "      <td>0.804296</td>\n",
              "      <td>0.804296</td>\n",
              "    </tr>\n",
              "    <tr>\n",
              "      <th>26</th>\n",
              "      <td>0.690216</td>\n",
              "      <td>0.140017</td>\n",
              "      <td>0.608424</td>\n",
              "      <td>0.617822</td>\n",
              "      <td>0.537146</td>\n",
              "      <td>0.508929</td>\n",
              "      <td>0.502646</td>\n",
              "      <td>0.833642</td>\n",
              "      <td>0.830549</td>\n",
              "      <td>0.847255</td>\n",
              "      <td>0.811456</td>\n",
              "      <td>0.804296</td>\n",
              "    </tr>\n",
              "    <tr>\n",
              "      <th>27</th>\n",
              "      <td>0.688556</td>\n",
              "      <td>0.141326</td>\n",
              "      <td>0.613758</td>\n",
              "      <td>0.620467</td>\n",
              "      <td>0.538494</td>\n",
              "      <td>0.492039</td>\n",
              "      <td>0.502646</td>\n",
              "      <td>0.836538</td>\n",
              "      <td>0.832936</td>\n",
              "      <td>0.852029</td>\n",
              "      <td>0.809069</td>\n",
              "      <td>0.787589</td>\n",
              "    </tr>\n",
              "    <tr>\n",
              "      <th>28</th>\n",
              "      <td>0.689677</td>\n",
              "      <td>0.142312</td>\n",
              "      <td>0.603727</td>\n",
              "      <td>0.617822</td>\n",
              "      <td>0.534451</td>\n",
              "      <td>0.503720</td>\n",
              "      <td>0.502646</td>\n",
              "      <td>0.843235</td>\n",
              "      <td>0.837709</td>\n",
              "      <td>0.849642</td>\n",
              "      <td>0.806683</td>\n",
              "      <td>0.797136</td>\n",
              "    </tr>\n",
              "    <tr>\n",
              "      <th>29</th>\n",
              "      <td>0.688303</td>\n",
              "      <td>0.145412</td>\n",
              "      <td>0.608424</td>\n",
              "      <td>0.605627</td>\n",
              "      <td>0.533103</td>\n",
              "      <td>0.490737</td>\n",
              "      <td>0.501370</td>\n",
              "      <td>0.840671</td>\n",
              "      <td>0.842482</td>\n",
              "      <td>0.844869</td>\n",
              "      <td>0.813842</td>\n",
              "      <td>0.801909</td>\n",
              "    </tr>\n",
              "  </tbody>\n",
              "</table>\n",
              "</div>"
            ],
            "text/plain": [
              "    mean_test_score  std_test_score  split0_test_score  split1_test_score  \\\n",
              "0          0.303515        0.248027           0.500000           0.500000   \n",
              "1          0.569728        0.039523           0.540545           0.543586   \n",
              "2          0.582858        0.086856           0.550212           0.496903   \n",
              "3          0.579713        0.082077           0.529515           0.479126   \n",
              "4          0.583865        0.084341           0.502727           0.493677   \n",
              "5          0.589978        0.091587           0.506727           0.514099   \n",
              "6          0.590535        0.097852           0.515424           0.518357   \n",
              "7          0.596853        0.094034           0.540818           0.506162   \n",
              "8          0.590053        0.100140           0.535485           0.506162   \n",
              "9          0.599163        0.099383           0.524182           0.537166   \n",
              "10         0.608006        0.100264           0.538848           0.540392   \n",
              "11         0.619680        0.099156           0.550273           0.541715   \n",
              "12         0.623180        0.104363           0.531545           0.539070   \n",
              "13         0.626327        0.110683           0.544242           0.540392   \n",
              "14         0.634945        0.107949           0.544242           0.547006   \n",
              "15         0.655005        0.135607           0.552939           0.548329   \n",
              "16         0.656759        0.133474           0.554273           0.541715   \n",
              "17         0.657936        0.134399           0.551606           0.540392   \n",
              "18         0.654348        0.139008           0.554273           0.560524   \n",
              "19         0.660641        0.136411           0.558273           0.595787   \n",
              "20         0.665126        0.135979           0.581000           0.571396   \n",
              "21         0.664811        0.141770           0.568303           0.594754   \n",
              "22         0.671067        0.141338           0.592364           0.593431   \n",
              "23         0.680514        0.140037           0.587030           0.588140   \n",
              "24         0.681989        0.142465           0.609758           0.593431   \n",
              "25         0.686148        0.140117           0.607091           0.593431   \n",
              "26         0.690216        0.140017           0.608424           0.617822   \n",
              "27         0.688556        0.141326           0.613758           0.620467   \n",
              "28         0.689677        0.142312           0.603727           0.617822   \n",
              "29         0.688303        0.145412           0.608424           0.605627   \n",
              "\n",
              "    split2_test_score  split3_test_score  split4_test_score  \\\n",
              "0            0.500000           0.500000           0.500000   \n",
              "1            0.563763           0.573549           0.545588   \n",
              "2            0.565448           0.510268           0.437500   \n",
              "3            0.554049           0.515476           0.464947   \n",
              "4            0.517408           0.520685           0.506425   \n",
              "5            0.531503           0.477790           0.500661   \n",
              "6            0.545597           0.447879           0.485355   \n",
              "7            0.556379           0.459598           0.505149   \n",
              "8            0.510669           0.460900           0.477702   \n",
              "9            0.540824           0.479055           0.462396   \n",
              "10           0.540824           0.482961           0.470049   \n",
              "11           0.536416           0.494643           0.507748   \n",
              "12           0.516931           0.518006           0.506472   \n",
              "13           0.503819           0.529725           0.482851   \n",
              "14           0.516313           0.532329           0.505197   \n",
              "15           0.501853           0.516741           0.489229   \n",
              "16           0.541554           0.501153           0.490505   \n",
              "17           0.541554           0.502455           0.493056   \n",
              "18           0.519373           0.486868           0.471986   \n",
              "19           0.522069           0.492076           0.475813   \n",
              "20           0.529790           0.489472           0.491780   \n",
              "21           0.523051           0.471280           0.481576   \n",
              "22           0.527095           0.476488           0.485402   \n",
              "23           0.527095           0.489472           0.524991   \n",
              "24           0.535799           0.505060           0.477749   \n",
              "25           0.538494           0.507626           0.502646   \n",
              "26           0.537146           0.508929           0.502646   \n",
              "27           0.538494           0.492039           0.502646   \n",
              "28           0.534451           0.503720           0.502646   \n",
              "29           0.533103           0.490737           0.501370   \n",
              "\n",
              "    split5_test_score  split6_test_score  split7_test_score  \\\n",
              "0            0.535153           0.000000           0.000000   \n",
              "1            0.677266           0.577566           0.544153   \n",
              "2            0.757509           0.651551           0.634845   \n",
              "3            0.740888           0.642005           0.634845   \n",
              "4            0.760737           0.649165           0.637232   \n",
              "5            0.760405           0.687351           0.644391   \n",
              "6            0.767434           0.689737           0.653938   \n",
              "7            0.775126           0.689737           0.653938   \n",
              "8            0.769998           0.694511           0.661098   \n",
              "9            0.777358           0.699284           0.670644   \n",
              "10           0.771898           0.711217           0.687351   \n",
              "11           0.776030           0.725537           0.704057   \n",
              "12           0.782063           0.739857           0.715990   \n",
              "13           0.783963           0.735084           0.754177   \n",
              "14           0.780735           0.732697           0.756563   \n",
              "15           0.831170           0.773270           0.804296   \n",
              "16           0.828606           0.770883           0.809069   \n",
              "17           0.823810           0.773270           0.816229   \n",
              "18           0.821577           0.773270           0.813842   \n",
              "19           0.821577           0.775656           0.813842   \n",
              "20           0.823146           0.797136           0.813842   \n",
              "21           0.825378           0.804296           0.811456   \n",
              "22           0.823478           0.818616           0.818616   \n",
              "23           0.828274           0.830549           0.816229   \n",
              "24           0.840339           0.825776           0.818616   \n",
              "25           0.828182           0.830549           0.844869   \n",
              "26           0.833642           0.830549           0.847255   \n",
              "27           0.836538           0.832936           0.852029   \n",
              "28           0.843235           0.837709           0.849642   \n",
              "29           0.840671           0.842482           0.844869   \n",
              "\n",
              "    split8_test_score  split9_test_score  \n",
              "0            0.000000           0.000000  \n",
              "1            0.589499           0.541766  \n",
              "2            0.630072           0.594272  \n",
              "3            0.639618           0.596659  \n",
              "4            0.634845           0.615752  \n",
              "5            0.661098           0.615752  \n",
              "6            0.665871           0.615752  \n",
              "7            0.658711           0.622912  \n",
              "8            0.663484           0.620525  \n",
              "9            0.668258           0.632458  \n",
              "10           0.689737           0.646778  \n",
              "11           0.713604           0.646778  \n",
              "12           0.711217           0.670644  \n",
              "13           0.718377           0.670644  \n",
              "14           0.718377           0.715990  \n",
              "15           0.770883           0.761337  \n",
              "16           0.773270           0.756563  \n",
              "17           0.780430           0.756563  \n",
              "18           0.780430           0.761337  \n",
              "19           0.792363           0.758950  \n",
              "20           0.789976           0.763723  \n",
              "21           0.799523           0.768496  \n",
              "22           0.804296           0.770883  \n",
              "23           0.809069           0.804296  \n",
              "24           0.806683           0.806683  \n",
              "25           0.804296           0.804296  \n",
              "26           0.811456           0.804296  \n",
              "27           0.809069           0.787589  \n",
              "28           0.806683           0.797136  \n",
              "29           0.813842           0.801909  "
            ]
          },
          "execution_count": 23,
          "metadata": {},
          "output_type": "execute_result"
        }
      ],
      "source": [
        "pd.DataFrame(rfecv.cv_results_)#['mean_test_score']"
      ]
    },
    {
      "cell_type": "code",
      "execution_count": 16,
      "metadata": {},
      "outputs": [
        {
          "data": {
            "text/plain": [
              "RangeIndex(start=0, stop=30, step=1)"
            ]
          },
          "execution_count": 16,
          "metadata": {},
          "output_type": "execute_result"
        }
      ],
      "source": [
        "pd.DataFrame(rfecv.cv_results_).index"
      ]
    },
    {
      "cell_type": "code",
      "execution_count": 25,
      "metadata": {},
      "outputs": [
        {
          "data": {
            "image/png": "[encoded data removed]",
            "text/plain": [
              "<Figure size 640x480 with 1 Axes>"
            ]
          },
          "metadata": {},
          "output_type": "display_data"
        }
      ],
      "source": [
        "plt.figure()\n",
        "plt.xlabel(\"Number of features selected\")\n",
        "plt.ylabel(\"Cross validation score (nb of correct classifications)\")\n",
        "plt.plot(range(0, 59, 2), pd.DataFrame(rfecv.cv_results_)['mean_test_score'])\n",
        "plt.show()"
      ]
    },
    {
      "cell_type": "code",
      "execution_count": null,
      "metadata": {},
      "outputs": [
        {
          "ename": "AttributeError",
          "evalue": "'RFECV' object has no attribute 'grid_scores'",
          "output_type": "error",
          "traceback": [
            "\u001b[0;31m---------------------------------------------------------------------------\u001b[0m\n",
            "\u001b[0;31mAttributeError\u001b[0m                            Traceback (most recent call last)\n",
            "Cell \u001b[0;32mIn[32], line 1\u001b[0m\n",
            "\u001b[0;32m----> 1\u001b[0m \u001b[43mrfecv\u001b[49m\u001b[38;5;241;43m.\u001b[39;49m\u001b[43mgrid_scores\u001b[49m\n",
            "\n",
            "\u001b[0;31mAttributeError\u001b[0m: 'RFECV' object has no attribute 'grid_scores'"
          ]
        }
      ],
      "source": [
        "rfecv.grid_scores"
      ]
    },
    {
      "cell_type": "code",
      "execution_count": 10,
      "metadata": {},
      "outputs": [
        {
          "name": "stdout",
          "output_type": "stream",
          "text": [
            "Fitting estimator with 58 features.\n",
            "Fitting estimator with 28 features.\n",
            "Fitting estimator with 58 features.\n",
            "Fitting estimator with 28 features.\n",
            "Fitting estimator with 58 features.\n",
            "Fitting estimator with 28 features.\n",
            "Fitting estimator with 58 features.\n",
            "Fitting estimator with 28 features.\n",
            "Fitting estimator with 58 features.\n",
            "Fitting estimator with 28 features.\n",
            "Fitting estimator with 58 features.\n",
            "Fitting estimator with 28 features.\n",
            "Fitting estimator with 58 features.\n"
          ]
        },
        {
          "name": "stderr",
          "output_type": "stream",
          "text": [
            "/opt/anaconda3/envs/kinase/lib/python3.10/site-packages/sklearn/metrics/_classification.py:2394: UserWarning: y_pred contains classes not in y_true\n",
            "  warnings.warn(\"y_pred contains classes not in y_true\")\n"
          ]
        },
        {
          "name": "stdout",
          "output_type": "stream",
          "text": [
            "Fitting estimator with 28 features.\n"
          ]
        },
        {
          "name": "stderr",
          "output_type": "stream",
          "text": [
            "/opt/anaconda3/envs/kinase/lib/python3.10/site-packages/sklearn/metrics/_classification.py:2394: UserWarning: y_pred contains classes not in y_true\n",
            "  warnings.warn(\"y_pred contains classes not in y_true\")\n",
            "/opt/anaconda3/envs/kinase/lib/python3.10/site-packages/sklearn/metrics/_classification.py:2394: UserWarning: y_pred contains classes not in y_true\n",
            "  warnings.warn(\"y_pred contains classes not in y_true\")\n"
          ]
        },
        {
          "name": "stdout",
          "output_type": "stream",
          "text": [
            "Fitting estimator with 58 features.\n"
          ]
        },
        {
          "name": "stderr",
          "output_type": "stream",
          "text": [
            "/opt/anaconda3/envs/kinase/lib/python3.10/site-packages/sklearn/metrics/_classification.py:2394: UserWarning: y_pred contains classes not in y_true\n",
            "  warnings.warn(\"y_pred contains classes not in y_true\")\n"
          ]
        },
        {
          "name": "stdout",
          "output_type": "stream",
          "text": [
            "Fitting estimator with 28 features.\n"
          ]
        },
        {
          "name": "stderr",
          "output_type": "stream",
          "text": [
            "/opt/anaconda3/envs/kinase/lib/python3.10/site-packages/sklearn/metrics/_classification.py:2394: UserWarning: y_pred contains classes not in y_true\n",
            "  warnings.warn(\"y_pred contains classes not in y_true\")\n",
            "/opt/anaconda3/envs/kinase/lib/python3.10/site-packages/sklearn/metrics/_classification.py:2394: UserWarning: y_pred contains classes not in y_true\n",
            "  warnings.warn(\"y_pred contains classes not in y_true\")\n"
          ]
        },
        {
          "name": "stdout",
          "output_type": "stream",
          "text": [
            "Fitting estimator with 58 features.\n"
          ]
        },
        {
          "name": "stderr",
          "output_type": "stream",
          "text": [
            "/opt/anaconda3/envs/kinase/lib/python3.10/site-packages/sklearn/metrics/_classification.py:2394: UserWarning: y_pred contains classes not in y_true\n",
            "  warnings.warn(\"y_pred contains classes not in y_true\")\n"
          ]
        },
        {
          "name": "stdout",
          "output_type": "stream",
          "text": [
            "Fitting estimator with 28 features.\n"
          ]
        },
        {
          "name": "stderr",
          "output_type": "stream",
          "text": [
            "/opt/anaconda3/envs/kinase/lib/python3.10/site-packages/sklearn/metrics/_classification.py:2394: UserWarning: y_pred contains classes not in y_true\n",
            "  warnings.warn(\"y_pred contains classes not in y_true\")\n",
            "/opt/anaconda3/envs/kinase/lib/python3.10/site-packages/sklearn/metrics/_classification.py:2394: UserWarning: y_pred contains classes not in y_true\n",
            "  warnings.warn(\"y_pred contains classes not in y_true\")\n"
          ]
        },
        {
          "name": "stdout",
          "output_type": "stream",
          "text": [
            "Fitting estimator with 58 features.\n"
          ]
        },
        {
          "name": "stderr",
          "output_type": "stream",
          "text": [
            "/opt/anaconda3/envs/kinase/lib/python3.10/site-packages/sklearn/metrics/_classification.py:2394: UserWarning: y_pred contains classes not in y_true\n",
            "  warnings.warn(\"y_pred contains classes not in y_true\")\n"
          ]
        },
        {
          "name": "stdout",
          "output_type": "stream",
          "text": [
            "Fitting estimator with 28 features.\n"
          ]
        },
        {
          "name": "stderr",
          "output_type": "stream",
          "text": [
            "/opt/anaconda3/envs/kinase/lib/python3.10/site-packages/sklearn/metrics/_classification.py:2394: UserWarning: y_pred contains classes not in y_true\n",
            "  warnings.warn(\"y_pred contains classes not in y_true\")\n",
            "/opt/anaconda3/envs/kinase/lib/python3.10/site-packages/sklearn/metrics/_classification.py:2394: UserWarning: y_pred contains classes not in y_true\n",
            "  warnings.warn(\"y_pred contains classes not in y_true\")\n"
          ]
        },
        {
          "name": "stdout",
          "output_type": "stream",
          "text": [
            "Optimal number of features : 58\n"
          ]
        },
        {
          "ename": "AttributeError",
          "evalue": "'RFECV' object has no attribute 'grid_scores_'",
          "output_type": "error",
          "traceback": [
            "\u001b[0;31m---------------------------------------------------------------------------\u001b[0m",
            "\u001b[0;31mAttributeError\u001b[0m                            Traceback (most recent call last)",
            "Cell \u001b[0;32mIn[10], line 12\u001b[0m\n\u001b[1;32m     10\u001b[0m plt\u001b[38;5;241m.\u001b[39mxlabel(\u001b[38;5;124m\"\u001b[39m\u001b[38;5;124mNumber of features selected\u001b[39m\u001b[38;5;124m\"\u001b[39m)\n\u001b[1;32m     11\u001b[0m plt\u001b[38;5;241m.\u001b[39mylabel(\u001b[38;5;124m\"\u001b[39m\u001b[38;5;124mCross validation score (nb of correct classifications)\u001b[39m\u001b[38;5;124m\"\u001b[39m)\n\u001b[0;32m---> 12\u001b[0m plt\u001b[38;5;241m.\u001b[39mplot(\u001b[38;5;28mrange\u001b[39m(\u001b[38;5;241m1\u001b[39m, \u001b[38;5;28mlen\u001b[39m(\u001b[43mrfecv\u001b[49m\u001b[38;5;241;43m.\u001b[39;49m\u001b[43mgrid_scores_\u001b[49m) \u001b[38;5;241m+\u001b[39m \u001b[38;5;241m1\u001b[39m), rfecv\u001b[38;5;241m.\u001b[39mgrid_scores_)\n\u001b[1;32m     13\u001b[0m plt\u001b[38;5;241m.\u001b[39mshow()\n",
            "\u001b[0;31mAttributeError\u001b[0m: 'RFECV' object has no attribute 'grid_scores_'"
          ]
        },
        {
          "data": {
            "image/png": "[encoded data removed]",
            "text/plain": [
              "<Figure size 640x480 with 1 Axes>"
            ]
          },
          "metadata": {},
          "output_type": "display_data"
        }
      ],
      "source": [
        "svc=svm.SVC(kernel=\"linear\")\n",
        "rfecv = RFECV(estimator=svc, step=30, cv=KFold(10), # Stratified fold inorder to reduce bias\n",
        "              scoring='balanced_accuracy', verbose=3)\n",
        "rfetrain=rfecv.fit(X_train, y_train)\n",
        "print('Optimal number of features :', rfecv.n_features_)\n",
        "\n",
        "\n",
        "# Plot showing the Cross Validation score\n",
        "plt.figure()\n",
        "plt.xlabel(\"Number of features selected\")\n",
        "plt.ylabel(\"Cross validation score (nb of correct classifications)\")\n",
        "plt.plot(range(1, len(rfecv.grid_scores_) + 1), rfecv.grid_scores_)\n",
        "plt.show()\n"
      ]
    },
    {
      "cell_type": "code",
      "execution_count": 33,
      "metadata": {},
      "outputs": [
        {
          "name": "stdout",
          "output_type": "stream",
          "text": [
            "Fitting estimator with 58 features.\n"
          ]
        }
      ],
      "source": [
        "svc=svm.SVC(kernel=\"linear\")\n",
        "rfecv = RFECV(estimator=svc, \n",
        "              step=50, \n",
        "              cv=KFold(10), # Stratified fold inorder to reduce bias\n",
        "              scoring='balanced_accuracy', \n",
        "              verbose=3)\n",
        "rfetrain=rfecv.fit(X_train, y_train)\n",
        "print('Optimal number of features :', rfecv.n_features_)\n",
        "\n",
        "\n",
        "# Plot showing the Cross Validation score\n",
        "plt.figure()\n",
        "plt.xlabel(\"Number of features selected\")\n",
        "plt.ylabel(\"Cross validation score (nb of correct classifications)\")\n",
        "plt.plot(range(1, len(rfecv.grid_scores_) + 1), rfecv.grid_scores_)\n",
        "plt.show()\n"
      ]
    },
    {
      "cell_type": "code",
      "execution_count": null,
      "metadata": {},
      "outputs": [],
      "source": []
    }
  ],
  "metadata": {
    "colab": {
      "provenance": []
    },
    "kernelspec": {
      "display_name": "Python 3",
      "name": "python3"
    },
    "language_info": {
      "codemirror_mode": {
        "name": "ipython",
        "version": 3
      },
      "file_extension": ".py",
      "mimetype": "text/x-python",
      "name": "python",
      "nbconvert_exporter": "python",
      "pygments_lexer": "ipython3",
      "version": "3.10.12"
    }
  },
  "nbformat": 4,
  "nbformat_minor": 0
}
